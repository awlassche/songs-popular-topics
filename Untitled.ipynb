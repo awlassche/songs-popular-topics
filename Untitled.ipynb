{
 "cells": [
  {
   "cell_type": "code",
   "execution_count": 1,
   "metadata": {},
   "outputs": [
    {
     "data": {
      "text/plain": [
       "(29590, 6)"
      ]
     },
     "execution_count": 1,
     "metadata": {},
     "output_type": "execute_result"
    }
   ],
   "source": [
    "import pandas as pd\n",
    "\n",
    "parsed_songs = pd.read_csv('data/songs.csv', sep='\\t', index_col=0)\n",
    "parsed_songs.shape"
   ]
  },
  {
   "cell_type": "code",
   "execution_count": 2,
   "metadata": {},
   "outputs": [
    {
     "data": {
      "text/plain": [
       "<Figure size 640x480 with 1 Axes>"
      ]
     },
     "metadata": {},
     "output_type": "display_data"
    }
   ],
   "source": [
    "import matplotlib.pyplot as plt\n",
    "plt.style.use('seaborn-whitegrid')\n",
    "import seaborn as sns\n",
    "\n",
    "parsed_songs.hist('year', bins=100)\n",
    "plt.show()"
   ]
  },
  {
   "cell_type": "code",
   "execution_count": 3,
   "metadata": {},
   "outputs": [
    {
     "data": {
      "image/png": "[encoded data removed]",
      "text/plain": [
       "<Figure size 432x288 with 1 Axes>"
      ]
     },
     "metadata": {},
     "output_type": "display_data"
    }
   ],
   "source": [
    "sns.boxplot(x=parsed_songs['year'])\n",
    "plt.savefig('boxplot.png', dpi=300)"
   ]
  },
  {
   "cell_type": "code",
   "execution_count": 4,
   "metadata": {},
   "outputs": [
    {
     "data": {
      "text/plain": [
       "(22297, 6)"
      ]
     },
     "execution_count": 4,
     "metadata": {},
     "output_type": "execute_result"
    }
   ],
   "source": [
    "parsed_songs = parsed_songs[(parsed_songs['year'] >= 1550)\n",
    "& (parsed_songs['year'] <= 1750)]\n",
    "parsed_songs.shape"
   ]
  },
  {
   "cell_type": "code",
   "execution_count": 5,
   "metadata": {},
   "outputs": [
    {
     "data": {
      "image/png": "[encoded data removed]",
      "text/plain": [
       "<Figure size 432x288 with 1 Axes>"
      ]
     },
     "metadata": {},
     "output_type": "display_data"
    }
   ],
   "source": [
    "parsed_songs.hist('year', bins=200)\n",
    "plt.show()"
   ]
  },
  {
   "cell_type": "code",
   "execution_count": 7,
   "metadata": {},
   "outputs": [
    {
     "name": "stderr",
     "output_type": "stream",
     "text": [
      "/Users/alielassche/anaconda3/lib/python3.6/site-packages/matplotlib/axes/_axes.py:6499: MatplotlibDeprecationWarning: \n",
      "The 'normed' kwarg was deprecated in Matplotlib 2.1 and will be removed in 3.1. Use 'density' instead.\n",
      "  alternative=\"'density'\", removal=\"3.1\")\n"
     ]
    },
    {
     "data": {
      "image/png": "[encoded data removed]",
      "text/plain": [
       "<Figure size 432x288 with 1 Axes>"
      ]
     },
     "metadata": {},
     "output_type": "display_data"
    }
   ],
   "source": [
    "sns.distplot(parsed_songs['year'], kde=False, bins=100)\n",
    "plt.savefig('histyear.png', dpi=300)"
   ]
  },
  {
   "cell_type": "code",
   "execution_count": 19,
   "metadata": {},
   "outputs": [],
   "source": [
    "categories = parsed_songs.groupby('category')['id'].count().sort_values(ascending=False)"
   ]
  },
  {
   "cell_type": "code",
   "execution_count": 20,
   "metadata": {},
   "outputs": [
    {
     "name": "stdout",
     "output_type": "stream",
     "text": [
      "\\begin{tabular}{lr}\n",
      "\\toprule\n",
      "{} &    id \\\\\n",
      "category                  &       \\\\\n",
      "\\midrule\n",
      "None                      &  7017 \\\\\n",
      "religion                  &  6914 \\\\\n",
      "love and sex              &  3261 \\\\\n",
      "seasons and annual events &  1033 \\\\\n",
      "formal genres             &   818 \\\\\n",
      "amusement                 &   722 \\\\\n",
      "emotions                  &   694 \\\\\n",
      "narratives                &   479 \\\\\n",
      "cycle of life             &   473 \\\\\n",
      "politics and history      &   300 \\\\\n",
      "groups                    &   187 \\\\\n",
      "children                  &   148 \\\\\n",
      "occasions                 &   100 \\\\\n",
      "theatre                   &    90 \\\\\n",
      "work                      &    59 \\\\\n",
      "miscellaneous             &     2 \\\\\n",
      "\\bottomrule\n",
      "\\end{tabular}\n",
      "\n"
     ]
    }
   ],
   "source": [
    "print(categories.to_latex())"
   ]
  },
  {
   "cell_type": "code",
   "execution_count": 21,
   "metadata": {},
   "outputs": [
    {
     "data": {
      "text/plain": [
       "Index(['category', 'id', 'lat', 'location', 'lon', 'year'], dtype='object')"
      ]
     },
     "execution_count": 21,
     "metadata": {},
     "output_type": "execute_result"
    }
   ],
   "source": [
    "parsed_songs.columns"
   ]
  },
  {
   "cell_type": "code",
   "execution_count": 30,
   "metadata": {},
   "outputs": [
    {
     "data": {
      "text/plain": [
       "location\n",
       "Amsterdam, The Netherlands                  7077\n",
       "Antwerp, Belgium                            2781\n",
       "Haarlem, The Netherlands                    1851\n",
       "None                                         915\n",
       "Utrecht, The Netherlands                     899\n",
       "Leiden, The Netherlands                      763\n",
       "Dordrecht, The Netherlands                   670\n",
       "Hoorn, The Netherlands                       668\n",
       "Brussels, Belgium                            618\n",
       "Leuven, Belgium                              554\n",
       "The Hague, The Netherlands                   466\n",
       "Alkmaar, The Netherlands                     442\n",
       "Leeuwarden, The Netherlands                  402\n",
       "Enkhuizen, The Netherlands                   363\n",
       "Emden, Germany                               299\n",
       "Delft, The Netherlands                       284\n",
       "Rotterdam, The Netherlands                   259\n",
       "Wesel, Germany                               237\n",
       "Gent, Belgium                                236\n",
       "Mechelen, Belgium                            203\n",
       "Deventer, The Netherlands                    201\n",
       "Groningen, The Netherlands                   186\n",
       "Emmerik, Germany                             175\n",
       "Middelburg, The Netherlands                  158\n",
       "Heidelberg, Germany                          157\n",
       "Brugge, Belgium                              151\n",
       "Medemblik, The Netherlands                   150\n",
       "De Rijp, The Netherlands                     144\n",
       "Franeker                                     131\n",
       "Zaandam, The Netherlands                     108\n",
       "                                            ... \n",
       "Nederrijn, The Netherlands                    77\n",
       "London, England                               76\n",
       "Duinkerken, France                            68\n",
       "Steenwijk, The Netherlands                    61\n",
       "Vlissingen, The Netherlands                   61\n",
       "Harlingen, The Netherlands                    51\n",
       "Bergen op Zoom, The Netherlands               43\n",
       "Kortrijk, Belgium                             39\n",
       "Monnickendam, The Netherlands                 35\n",
       "Zwolle, The Netherlands                       26\n",
       "Woerden, The Netherlands                      25\n",
       "Heerenveen, The Netherlands                   20\n",
       "Burghoorn                                     18\n",
       "Venlo, The Netherlands                         5\n",
       "Sint-Truiden, Belgium                          5\n",
       "Schiedam, The Netherlands                      4\n",
       "Kalken, Belgium                                4\n",
       "Cologne, Germany                               4\n",
       "Harderwijk, The Netherlands                    3\n",
       "Everbeek, Belgium                              3\n",
       "Southern Netherlands                           3\n",
       "Lier, Belgium                                  3\n",
       "Tongeren, Belgium                              2\n",
       "Groessen, The Netherlands                      2\n",
       "Maastricht, The Netherlands                    2\n",
       "Anjelierstraat, Utrecht, The Netherlands       1\n",
       "Gorinchem, The Netherlands                     1\n",
       "Kampen, The Netherlands                        1\n",
       "Eekwerd, The Netherlands                       1\n",
       "Sedan                                          1\n",
       "Name: id, Length: 61, dtype: int64"
      ]
     },
     "execution_count": 30,
     "metadata": {},
     "output_type": "execute_result"
    }
   ],
   "source": [
    "parsed_songs.groupby('location')['id'].count().sort_values(ascending=False)\n"
   ]
  },
  {
   "cell_type": "code",
   "execution_count": 25,
   "metadata": {},
   "outputs": [],
   "source": [
    "import sys\n",
    "sys.path.append('scripts')"
   ]
  },
  {
   "cell_type": "code",
   "execution_count": 26,
   "metadata": {},
   "outputs": [],
   "source": [
    "from utils import get_country\n",
    "parsed_songs['country'] = parsed_songs['location'].apply(get_country)"
   ]
  },
  {
   "cell_type": "code",
   "execution_count": 28,
   "metadata": {},
   "outputs": [],
   "source": [
    "countries = parsed_songs.groupby('country')['id'].count().sort_values(ascending=False)"
   ]
  },
  {
   "cell_type": "code",
   "execution_count": 29,
   "metadata": {},
   "outputs": [
    {
     "name": "stdout",
     "output_type": "stream",
     "text": [
      "\\begin{tabular}{lr}\n",
      "\\toprule\n",
      "{} &     id \\\\\n",
      "country         &        \\\\\n",
      "\\midrule\n",
      "The Netherlands &  15614 \\\\\n",
      "Belgium         &   4599 \\\\\n",
      "Unknown         &   1068 \\\\\n",
      "Germany         &    872 \\\\\n",
      "England         &     76 \\\\\n",
      "France          &     68 \\\\\n",
      "\\bottomrule\n",
      "\\end{tabular}\n",
      "\n"
     ]
    }
   ],
   "source": [
    "print(countries.to_latex())"
   ]
  },
  {
   "cell_type": "code",
   "execution_count": null,
   "metadata": {},
   "outputs": [],
   "source": []
  }
 ],
 "metadata": {
  "kernelspec": {
   "display_name": "Python 3",
   "language": "python",
   "name": "python3"
  },
  "language_info": {
   "codemirror_mode": {
    "name": "ipython",
    "version": 3
   },
   "file_extension": ".py",
   "mimetype": "text/x-python",
   "name": "python",
   "nbconvert_exporter": "python",
   "pygments_lexer": "ipython3",
   "version": "3.6.5"
  }
 },
 "nbformat": 4,
 "nbformat_minor": 2
}
