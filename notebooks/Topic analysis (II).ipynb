{
 "cells": [
  {
   "cell_type": "code",
   "execution_count": 7,
   "metadata": {},
   "outputs": [],
   "source": [
    "import sys\n",
    "sys.path.append('../scripts')\n",
    "import argparse\n",
    "import os\n",
    "import matplotlib.pyplot as plt\n",
    "import seaborn as sns\n",
    "plt.style.use('seaborn-whitegrid')\n",
    "\n",
    "import lxml.etree\n",
    "import nltk\n",
    "import pandas as pd\n",
    "from utils import is_punct\n",
    "\n",
    "TOKENIZER = nltk.tokenize.word_tokenize"
   ]
  },
  {
   "cell_type": "code",
   "execution_count": 8,
   "metadata": {},
   "outputs": [
    {
     "data": {
      "text/plain": [
       "(203249, 6)"
      ]
     },
     "execution_count": 8,
     "metadata": {},
     "output_type": "execute_result"
    }
   ],
   "source": [
    "nlb = pd.read_csv('../data/nlb.csv', sep=',')\n",
    "nlb.shape"
   ]
  },
  {
   "cell_type": "code",
   "execution_count": 9,
   "metadata": {},
   "outputs": [
    {
     "data": {
      "text/plain": [
       "(81571, 6)"
      ]
     },
     "execution_count": 9,
     "metadata": {},
     "output_type": "execute_result"
    }
   ],
   "source": [
    "nlb_timeset = nlb[(nlb['jaar_begin'] >= 1550) & (nlb['jaar_begin'] <= 1750)]\n",
    "nlb_timeset.shape"
   ]
  },
  {
   "cell_type": "code",
   "execution_count": 14,
   "metadata": {},
   "outputs": [],
   "source": [
    "topics = pd.read_csv('../gensim_output/VARD2_dominant_topic_per_song.csv', sep='\\t', index_col=0)"
   ]
  },
  {
   "cell_type": "code",
   "execution_count": 15,
   "metadata": {},
   "outputs": [
    {
     "data": {
      "text/html": [
       "<div>\n",
       "<style scoped>\n",
       "    .dataframe tbody tr th:only-of-type {\n",
       "        vertical-align: middle;\n",
       "    }\n",
       "\n",
       "    .dataframe tbody tr th {\n",
       "        vertical-align: top;\n",
       "    }\n",
       "\n",
       "    .dataframe thead th {\n",
       "        text-align: right;\n",
       "    }\n",
       "</style>\n",
       "<table border=\"1\" class=\"dataframe\">\n",
       "  <thead>\n",
       "    <tr style=\"text-align: right;\">\n",
       "      <th></th>\n",
       "      <th>id</th>\n",
       "      <th>top1</th>\n",
       "      <th>top2</th>\n",
       "      <th>top3</th>\n",
       "    </tr>\n",
       "  </thead>\n",
       "  <tbody>\n",
       "    <tr>\n",
       "      <td>0</td>\n",
       "      <td>186989</td>\n",
       "      <td>topic 38</td>\n",
       "      <td>topic 18</td>\n",
       "      <td>topic 7</td>\n",
       "    </tr>\n",
       "    <tr>\n",
       "      <td>1</td>\n",
       "      <td>3644</td>\n",
       "      <td>topic 8</td>\n",
       "      <td>topic 10</td>\n",
       "      <td>topic 2</td>\n",
       "    </tr>\n",
       "    <tr>\n",
       "      <td>2</td>\n",
       "      <td>38949</td>\n",
       "      <td>topic 26</td>\n",
       "      <td>topic 24</td>\n",
       "      <td>topic 1</td>\n",
       "    </tr>\n",
       "    <tr>\n",
       "      <td>3</td>\n",
       "      <td>114233</td>\n",
       "      <td>topic 4</td>\n",
       "      <td>topic 48</td>\n",
       "      <td>topic 14</td>\n",
       "    </tr>\n",
       "    <tr>\n",
       "      <td>4</td>\n",
       "      <td>19987</td>\n",
       "      <td>topic 43</td>\n",
       "      <td>topic 19</td>\n",
       "      <td>topic 18</td>\n",
       "    </tr>\n",
       "  </tbody>\n",
       "</table>\n",
       "</div>"
      ],
      "text/plain": [
       "       id      top1      top2      top3\n",
       "0  186989  topic 38  topic 18   topic 7\n",
       "1    3644   topic 8  topic 10   topic 2\n",
       "2   38949  topic 26  topic 24   topic 1\n",
       "3  114233   topic 4  topic 48  topic 14\n",
       "4   19987  topic 43  topic 19  topic 18"
      ]
     },
     "execution_count": 15,
     "metadata": {},
     "output_type": "execute_result"
    }
   ],
   "source": [
    "top3topics = pd.read_csv('../gensim_output/top3topics.csv', sep='\\t')\n",
    "top3topics.head()"
   ]
  },
  {
   "cell_type": "code",
   "execution_count": 16,
   "metadata": {},
   "outputs": [
    {
     "data": {
      "text/plain": [
       "Index(['recordid', 'incnormid', 'bronid', 'w_g', 'herdrukid', 'jaar_begin'], dtype='object')"
      ]
     },
     "execution_count": 16,
     "metadata": {},
     "output_type": "execute_result"
    }
   ],
   "source": [
    "nlb_timeset.columns"
   ]
  },
  {
   "cell_type": "code",
   "execution_count": 17,
   "metadata": {},
   "outputs": [],
   "source": [
    "nlb_timeset = nlb_timeset[nlb_timeset['incnormid'] != 0] "
   ]
  },
  {
   "cell_type": "code",
   "execution_count": 18,
   "metadata": {},
   "outputs": [
    {
     "data": {
      "text/html": [
       "<div>\n",
       "<style scoped>\n",
       "    .dataframe tbody tr th:only-of-type {\n",
       "        vertical-align: middle;\n",
       "    }\n",
       "\n",
       "    .dataframe tbody tr th {\n",
       "        vertical-align: top;\n",
       "    }\n",
       "\n",
       "    .dataframe thead th {\n",
       "        text-align: right;\n",
       "    }\n",
       "</style>\n",
       "<table border=\"1\" class=\"dataframe\">\n",
       "  <thead>\n",
       "    <tr style=\"text-align: right;\">\n",
       "      <th></th>\n",
       "      <th>id</th>\n",
       "      <th>dominant_topic</th>\n",
       "      <th>perc_contribution</th>\n",
       "    </tr>\n",
       "  </thead>\n",
       "  <tbody>\n",
       "    <tr>\n",
       "      <td>0</td>\n",
       "      <td>186989</td>\n",
       "      <td>38</td>\n",
       "      <td>0.318147</td>\n",
       "    </tr>\n",
       "    <tr>\n",
       "      <td>1</td>\n",
       "      <td>3644</td>\n",
       "      <td>8</td>\n",
       "      <td>0.633403</td>\n",
       "    </tr>\n",
       "    <tr>\n",
       "      <td>2</td>\n",
       "      <td>38949</td>\n",
       "      <td>26</td>\n",
       "      <td>0.774326</td>\n",
       "    </tr>\n",
       "    <tr>\n",
       "      <td>3</td>\n",
       "      <td>114233</td>\n",
       "      <td>4</td>\n",
       "      <td>0.463242</td>\n",
       "    </tr>\n",
       "    <tr>\n",
       "      <td>4</td>\n",
       "      <td>19987</td>\n",
       "      <td>43</td>\n",
       "      <td>0.978993</td>\n",
       "    </tr>\n",
       "  </tbody>\n",
       "</table>\n",
       "</div>"
      ],
      "text/plain": [
       "       id  dominant_topic  perc_contribution\n",
       "0  186989              38           0.318147\n",
       "1    3644               8           0.633403\n",
       "2   38949              26           0.774326\n",
       "3  114233               4           0.463242\n",
       "4   19987              43           0.978993"
      ]
     },
     "execution_count": 18,
     "metadata": {},
     "output_type": "execute_result"
    }
   ],
   "source": [
    "topics.head()"
   ]
  },
  {
   "cell_type": "code",
   "execution_count": 19,
   "metadata": {},
   "outputs": [],
   "source": [
    "msc = nlb_timeset.merge(topics, left_on='recordid', right_on='id')"
   ]
  },
  {
   "cell_type": "code",
   "execution_count": 20,
   "metadata": {},
   "outputs": [
    {
     "data": {
      "text/plain": [
       "(35946, 9)"
      ]
     },
     "execution_count": 20,
     "metadata": {},
     "output_type": "execute_result"
    }
   ],
   "source": [
    "msc.shape"
   ]
  },
  {
   "cell_type": "code",
   "execution_count": 21,
   "metadata": {},
   "outputs": [],
   "source": [
    "nlb_timeset = nlb_timeset.loc[nlb_timeset['incnormid'].isin(msc['incnormid'])]"
   ]
  },
  {
   "cell_type": "code",
   "execution_count": 22,
   "metadata": {},
   "outputs": [
    {
     "data": {
      "text/plain": [
       "(43772, 6)"
      ]
     },
     "execution_count": 22,
     "metadata": {},
     "output_type": "execute_result"
    }
   ],
   "source": [
    "nlb_timeset.shape"
   ]
  },
  {
   "cell_type": "code",
   "execution_count": 23,
   "metadata": {},
   "outputs": [],
   "source": [
    "nlb_timeset = nlb_timeset.rename(columns = {'jaar_begin':'year'})"
   ]
  },
  {
   "cell_type": "code",
   "execution_count": 26,
   "metadata": {},
   "outputs": [
    {
     "data": {
      "image/png": "[encoded data removed]",
      "text/plain": [
       "<Figure size 432x288 with 1 Axes>"
      ]
     },
     "metadata": {},
     "output_type": "display_data"
    }
   ],
   "source": [
    "sns.set_palette('Blues_d', 1)\n",
    "sns.distplot(nlb_timeset['year'], kde=False, bins=100)\n",
    "plt.rc('text', usetex=True)\n",
    "plt.rc('font', family='serif')\n",
    "plt.savefig('histyearall.jpg', dpi=300)"
   ]
  },
  {
   "cell_type": "code",
   "execution_count": 21,
   "metadata": {},
   "outputs": [],
   "source": [
    "incs = msc.groupby('incnormid').first()[['dominant_topic', 'perc_contribution']]"
   ]
  },
  {
   "cell_type": "code",
   "execution_count": 22,
   "metadata": {},
   "outputs": [
    {
     "data": {
      "text/plain": [
       "Index(['dominant_topic', 'perc_contribution'], dtype='object')"
      ]
     },
     "execution_count": 22,
     "metadata": {},
     "output_type": "execute_result"
    }
   ],
   "source": [
    "incs.columns"
   ]
  },
  {
   "cell_type": "code",
   "execution_count": 23,
   "metadata": {},
   "outputs": [],
   "source": [
    "topics = nlb_timeset.set_index('incnormid').join(incs).sort_values('incnormid')"
   ]
  },
  {
   "cell_type": "code",
   "execution_count": 24,
   "metadata": {},
   "outputs": [],
   "source": [
    "topics = topics.reset_index()"
   ]
  },
  {
   "cell_type": "code",
   "execution_count": 25,
   "metadata": {},
   "outputs": [
    {
     "data": {
      "text/plain": [
       "(43772, 8)"
      ]
     },
     "execution_count": 25,
     "metadata": {},
     "output_type": "execute_result"
    }
   ],
   "source": [
    "topics.shape"
   ]
  },
  {
   "cell_type": "code",
   "execution_count": 26,
   "metadata": {},
   "outputs": [
    {
     "data": {
      "text/html": [
       "<div>\n",
       "<style scoped>\n",
       "    .dataframe tbody tr th:only-of-type {\n",
       "        vertical-align: middle;\n",
       "    }\n",
       "\n",
       "    .dataframe tbody tr th {\n",
       "        vertical-align: top;\n",
       "    }\n",
       "\n",
       "    .dataframe thead th {\n",
       "        text-align: right;\n",
       "    }\n",
       "</style>\n",
       "<table border=\"1\" class=\"dataframe\">\n",
       "  <thead>\n",
       "    <tr style=\"text-align: right;\">\n",
       "      <th></th>\n",
       "      <th>incnormid</th>\n",
       "      <th>recordid</th>\n",
       "      <th>bronid</th>\n",
       "      <th>w_g</th>\n",
       "      <th>herdrukid</th>\n",
       "      <th>year</th>\n",
       "      <th>dominant_topic</th>\n",
       "      <th>perc_contribution</th>\n",
       "    </tr>\n",
       "  </thead>\n",
       "  <tbody>\n",
       "    <tr>\n",
       "      <th>0</th>\n",
       "      <td>4.0</td>\n",
       "      <td>118999</td>\n",
       "      <td>1001206</td>\n",
       "      <td>wereldlijk</td>\n",
       "      <td>NaN</td>\n",
       "      <td>1745.0</td>\n",
       "      <td>45</td>\n",
       "      <td>0.636000</td>\n",
       "    </tr>\n",
       "    <tr>\n",
       "      <th>1</th>\n",
       "      <td>7.0</td>\n",
       "      <td>111832</td>\n",
       "      <td>1001390</td>\n",
       "      <td>wereldlijk</td>\n",
       "      <td>NaN</td>\n",
       "      <td>1745.0</td>\n",
       "      <td>23</td>\n",
       "      <td>0.356607</td>\n",
       "    </tr>\n",
       "    <tr>\n",
       "      <th>2</th>\n",
       "      <td>7.0</td>\n",
       "      <td>136573</td>\n",
       "      <td>1001829</td>\n",
       "      <td>wereldlijk</td>\n",
       "      <td>NaN</td>\n",
       "      <td>1746.0</td>\n",
       "      <td>23</td>\n",
       "      <td>0.356607</td>\n",
       "    </tr>\n",
       "    <tr>\n",
       "      <th>3</th>\n",
       "      <td>13.0</td>\n",
       "      <td>19499</td>\n",
       "      <td>1000978</td>\n",
       "      <td>wereldlijk</td>\n",
       "      <td>NaN</td>\n",
       "      <td>1677.0</td>\n",
       "      <td>34</td>\n",
       "      <td>0.538515</td>\n",
       "    </tr>\n",
       "    <tr>\n",
       "      <th>4</th>\n",
       "      <td>53.0</td>\n",
       "      <td>20031</td>\n",
       "      <td>1001550</td>\n",
       "      <td>wereldlijk</td>\n",
       "      <td>928216.0</td>\n",
       "      <td>1654.0</td>\n",
       "      <td>43</td>\n",
       "      <td>0.964480</td>\n",
       "    </tr>\n",
       "    <tr>\n",
       "      <th>5</th>\n",
       "      <td>53.0</td>\n",
       "      <td>20031</td>\n",
       "      <td>1001025</td>\n",
       "      <td>wereldlijk</td>\n",
       "      <td>NaN</td>\n",
       "      <td>1655.0</td>\n",
       "      <td>43</td>\n",
       "      <td>0.964480</td>\n",
       "    </tr>\n",
       "    <tr>\n",
       "      <th>6</th>\n",
       "      <td>71.0</td>\n",
       "      <td>6245</td>\n",
       "      <td>1000738</td>\n",
       "      <td>wereldlijk</td>\n",
       "      <td>NaN</td>\n",
       "      <td>1659.0</td>\n",
       "      <td>43</td>\n",
       "      <td>0.980328</td>\n",
       "    </tr>\n",
       "    <tr>\n",
       "      <th>7</th>\n",
       "      <td>72.0</td>\n",
       "      <td>32562</td>\n",
       "      <td>1011033</td>\n",
       "      <td>wereldlijk</td>\n",
       "      <td>NaN</td>\n",
       "      <td>1667.0</td>\n",
       "      <td>29</td>\n",
       "      <td>0.296443</td>\n",
       "    </tr>\n",
       "    <tr>\n",
       "      <th>8</th>\n",
       "      <td>73.0</td>\n",
       "      <td>136601</td>\n",
       "      <td>1001829</td>\n",
       "      <td>wereldlijk</td>\n",
       "      <td>NaN</td>\n",
       "      <td>1746.0</td>\n",
       "      <td>29</td>\n",
       "      <td>0.338255</td>\n",
       "    </tr>\n",
       "    <tr>\n",
       "      <th>9</th>\n",
       "      <td>74.0</td>\n",
       "      <td>103064</td>\n",
       "      <td>1000696</td>\n",
       "      <td>wereldlijk</td>\n",
       "      <td>NaN</td>\n",
       "      <td>1656.0</td>\n",
       "      <td>29</td>\n",
       "      <td>0.489576</td>\n",
       "    </tr>\n",
       "    <tr>\n",
       "      <th>10</th>\n",
       "      <td>91.0</td>\n",
       "      <td>14847</td>\n",
       "      <td>1000113</td>\n",
       "      <td>geestelijk</td>\n",
       "      <td>906277.0</td>\n",
       "      <td>1566.0</td>\n",
       "      <td>6</td>\n",
       "      <td>0.389458</td>\n",
       "    </tr>\n",
       "    <tr>\n",
       "      <th>11</th>\n",
       "      <td>91.0</td>\n",
       "      <td>26828</td>\n",
       "      <td>1000109</td>\n",
       "      <td>geestelijk</td>\n",
       "      <td>906027.0</td>\n",
       "      <td>1561.0</td>\n",
       "      <td>6</td>\n",
       "      <td>0.389458</td>\n",
       "    </tr>\n",
       "    <tr>\n",
       "      <th>12</th>\n",
       "      <td>91.0</td>\n",
       "      <td>26828</td>\n",
       "      <td>1000111</td>\n",
       "      <td>geestelijk</td>\n",
       "      <td>906093.0</td>\n",
       "      <td>1561.0</td>\n",
       "      <td>6</td>\n",
       "      <td>0.389458</td>\n",
       "    </tr>\n",
       "    <tr>\n",
       "      <th>13</th>\n",
       "      <td>91.0</td>\n",
       "      <td>190196</td>\n",
       "      <td>1000112</td>\n",
       "      <td>geestelijk</td>\n",
       "      <td>NaN</td>\n",
       "      <td>1561.0</td>\n",
       "      <td>6</td>\n",
       "      <td>0.389458</td>\n",
       "    </tr>\n",
       "    <tr>\n",
       "      <th>14</th>\n",
       "      <td>91.0</td>\n",
       "      <td>14847</td>\n",
       "      <td>1000114</td>\n",
       "      <td>geestelijk</td>\n",
       "      <td>NaN</td>\n",
       "      <td>1566.0</td>\n",
       "      <td>6</td>\n",
       "      <td>0.389458</td>\n",
       "    </tr>\n",
       "    <tr>\n",
       "      <th>15</th>\n",
       "      <td>91.0</td>\n",
       "      <td>26828</td>\n",
       "      <td>1000446</td>\n",
       "      <td>geestelijk</td>\n",
       "      <td>NaN</td>\n",
       "      <td>1559.0</td>\n",
       "      <td>6</td>\n",
       "      <td>0.389458</td>\n",
       "    </tr>\n",
       "    <tr>\n",
       "      <th>16</th>\n",
       "      <td>109.0</td>\n",
       "      <td>116966</td>\n",
       "      <td>1001202</td>\n",
       "      <td>geestelijk</td>\n",
       "      <td>NaN</td>\n",
       "      <td>1709.0</td>\n",
       "      <td>36</td>\n",
       "      <td>0.190711</td>\n",
       "    </tr>\n",
       "    <tr>\n",
       "      <th>17</th>\n",
       "      <td>112.0</td>\n",
       "      <td>111775</td>\n",
       "      <td>1001390</td>\n",
       "      <td>wereldlijk</td>\n",
       "      <td>NaN</td>\n",
       "      <td>1745.0</td>\n",
       "      <td>38</td>\n",
       "      <td>0.386661</td>\n",
       "    </tr>\n",
       "    <tr>\n",
       "      <th>18</th>\n",
       "      <td>112.0</td>\n",
       "      <td>147330</td>\n",
       "      <td>1001829</td>\n",
       "      <td>wereldlijk</td>\n",
       "      <td>NaN</td>\n",
       "      <td>1746.0</td>\n",
       "      <td>38</td>\n",
       "      <td>0.386661</td>\n",
       "    </tr>\n",
       "    <tr>\n",
       "      <th>19</th>\n",
       "      <td>130.0</td>\n",
       "      <td>22279</td>\n",
       "      <td>1000137</td>\n",
       "      <td>geestelijk</td>\n",
       "      <td>NaN</td>\n",
       "      <td>1565.0</td>\n",
       "      <td>6</td>\n",
       "      <td>0.486444</td>\n",
       "    </tr>\n",
       "  </tbody>\n",
       "</table>\n",
       "</div>"
      ],
      "text/plain": [
       "    incnormid  recordid   bronid         w_g  herdrukid    year  \\\n",
       "0         4.0    118999  1001206  wereldlijk        NaN  1745.0   \n",
       "1         7.0    111832  1001390  wereldlijk        NaN  1745.0   \n",
       "2         7.0    136573  1001829  wereldlijk        NaN  1746.0   \n",
       "3        13.0     19499  1000978  wereldlijk        NaN  1677.0   \n",
       "4        53.0     20031  1001550  wereldlijk   928216.0  1654.0   \n",
       "5        53.0     20031  1001025  wereldlijk        NaN  1655.0   \n",
       "6        71.0      6245  1000738  wereldlijk        NaN  1659.0   \n",
       "7        72.0     32562  1011033  wereldlijk        NaN  1667.0   \n",
       "8        73.0    136601  1001829  wereldlijk        NaN  1746.0   \n",
       "9        74.0    103064  1000696  wereldlijk        NaN  1656.0   \n",
       "10       91.0     14847  1000113  geestelijk   906277.0  1566.0   \n",
       "11       91.0     26828  1000109  geestelijk   906027.0  1561.0   \n",
       "12       91.0     26828  1000111  geestelijk   906093.0  1561.0   \n",
       "13       91.0    190196  1000112  geestelijk        NaN  1561.0   \n",
       "14       91.0     14847  1000114  geestelijk        NaN  1566.0   \n",
       "15       91.0     26828  1000446  geestelijk        NaN  1559.0   \n",
       "16      109.0    116966  1001202  geestelijk        NaN  1709.0   \n",
       "17      112.0    111775  1001390  wereldlijk        NaN  1745.0   \n",
       "18      112.0    147330  1001829  wereldlijk        NaN  1746.0   \n",
       "19      130.0     22279  1000137  geestelijk        NaN  1565.0   \n",
       "\n",
       "    dominant_topic  perc_contribution  \n",
       "0               45           0.636000  \n",
       "1               23           0.356607  \n",
       "2               23           0.356607  \n",
       "3               34           0.538515  \n",
       "4               43           0.964480  \n",
       "5               43           0.964480  \n",
       "6               43           0.980328  \n",
       "7               29           0.296443  \n",
       "8               29           0.338255  \n",
       "9               29           0.489576  \n",
       "10               6           0.389458  \n",
       "11               6           0.389458  \n",
       "12               6           0.389458  \n",
       "13               6           0.389458  \n",
       "14               6           0.389458  \n",
       "15               6           0.389458  \n",
       "16              36           0.190711  \n",
       "17              38           0.386661  \n",
       "18              38           0.386661  \n",
       "19               6           0.486444  "
      ]
     },
     "execution_count": 26,
     "metadata": {},
     "output_type": "execute_result"
    }
   ],
   "source": [
    "topics.head(20)"
   ]
  },
  {
   "cell_type": "code",
   "execution_count": 27,
   "metadata": {},
   "outputs": [],
   "source": [
    "songstop = nlb_timeset.merge(top3topics, left_on='recordid', right_on='id')"
   ]
  },
  {
   "cell_type": "code",
   "execution_count": 28,
   "metadata": {},
   "outputs": [
    {
     "data": {
      "text/plain": [
       "(35946, 10)"
      ]
     },
     "execution_count": 28,
     "metadata": {},
     "output_type": "execute_result"
    }
   ],
   "source": [
    "songstop.shape"
   ]
  },
  {
   "cell_type": "code",
   "execution_count": 29,
   "metadata": {},
   "outputs": [],
   "source": [
    "nlb_timeset = nlb_timeset.loc[nlb_timeset['incnormid'].isin(songstop['incnormid'])]"
   ]
  },
  {
   "cell_type": "code",
   "execution_count": 30,
   "metadata": {},
   "outputs": [
    {
     "data": {
      "text/plain": [
       "(43772, 6)"
      ]
     },
     "execution_count": 30,
     "metadata": {},
     "output_type": "execute_result"
    }
   ],
   "source": [
    "nlb_timeset.shape"
   ]
  },
  {
   "cell_type": "code",
   "execution_count": 31,
   "metadata": {},
   "outputs": [],
   "source": [
    "nlb_timeset = nlb_timeset.rename(columns = {'jaar_begin':'year'})"
   ]
  },
  {
   "cell_type": "code",
   "execution_count": 32,
   "metadata": {},
   "outputs": [],
   "source": [
    "incstop = songstop.groupby('incnormid').first()[['top1', 'top2', 'top3']]"
   ]
  },
  {
   "cell_type": "code",
   "execution_count": 33,
   "metadata": {},
   "outputs": [
    {
     "data": {
      "text/plain": [
       "Index(['top1', 'top2', 'top3'], dtype='object')"
      ]
     },
     "execution_count": 33,
     "metadata": {},
     "output_type": "execute_result"
    }
   ],
   "source": [
    "incstop.columns"
   ]
  },
  {
   "cell_type": "code",
   "execution_count": 34,
   "metadata": {},
   "outputs": [],
   "source": [
    "top3topicsong = nlb_timeset.set_index('incnormid').join(incstop).sort_values('incnormid')"
   ]
  },
  {
   "cell_type": "code",
   "execution_count": 35,
   "metadata": {},
   "outputs": [],
   "source": [
    "top3topicsong = top3topicsong.reset_index()"
   ]
  },
  {
   "cell_type": "code",
   "execution_count": 36,
   "metadata": {},
   "outputs": [
    {
     "data": {
      "text/plain": [
       "(43772, 9)"
      ]
     },
     "execution_count": 36,
     "metadata": {},
     "output_type": "execute_result"
    }
   ],
   "source": [
    "top3topicsong.shape"
   ]
  },
  {
   "cell_type": "code",
   "execution_count": 37,
   "metadata": {},
   "outputs": [],
   "source": [
    "top3topicsong.to_csv('../gensim_output/top3topics_allsongs.csv', sep='\\t')"
   ]
  },
  {
   "cell_type": "code",
   "execution_count": 1,
   "metadata": {},
   "outputs": [],
   "source": [
    "import pandas as pd\n",
    "top3topicsong = pd.read_csv('../gensim_output/top3topics_allsongs.csv', sep='\\t', index_col=0)"
   ]
  },
  {
   "cell_type": "code",
   "execution_count": 2,
   "metadata": {},
   "outputs": [],
   "source": [
    "bucolic = top3topicsong[(top3topicsong.top1 == 'topic 47') | (top3topicsong.top1 == 'topic 37') | (top3topicsong.top1 == 'topic 14')]"
   ]
  },
  {
   "cell_type": "code",
   "execution_count": 3,
   "metadata": {},
   "outputs": [
    {
     "name": "stderr",
     "output_type": "stream",
     "text": [
      "/Users/alielassche/anaconda3/lib/python3.6/site-packages/ipykernel_launcher.py:1: SettingWithCopyWarning: \n",
      "A value is trying to be set on a copy of a slice from a DataFrame.\n",
      "Try using .loc[row_indexer,col_indexer] = value instead\n",
      "\n",
      "See the caveats in the documentation: http://pandas.pydata.org/pandas-docs/stable/indexing.html#indexing-view-versus-copy\n",
      "  \"\"\"Entry point for launching an IPython kernel.\n",
      "/Users/alielassche/anaconda3/lib/python3.6/site-packages/ipykernel_launcher.py:2: SettingWithCopyWarning: \n",
      "A value is trying to be set on a copy of a slice from a DataFrame.\n",
      "Try using .loc[row_indexer,col_indexer] = value instead\n",
      "\n",
      "See the caveats in the documentation: http://pandas.pydata.org/pandas-docs/stable/indexing.html#indexing-view-versus-copy\n",
      "  \n",
      "/Users/alielassche/anaconda3/lib/python3.6/site-packages/ipykernel_launcher.py:3: SettingWithCopyWarning: \n",
      "A value is trying to be set on a copy of a slice from a DataFrame.\n",
      "Try using .loc[row_indexer,col_indexer] = value instead\n",
      "\n",
      "See the caveats in the documentation: http://pandas.pydata.org/pandas-docs/stable/indexing.html#indexing-view-versus-copy\n",
      "  This is separate from the ipykernel package so we can avoid doing imports until\n"
     ]
    }
   ],
   "source": [
    "bucolic['top1'] = bucolic['top1'].replace('topic 47', 'bucolic songs (47)')\n",
    "bucolic['top1'] = bucolic['top1'].replace('topic 14', 'myth and beauty (14)')\n",
    "bucolic['top1'] = bucolic['top1'].replace('topic 37', 'nature (37)')"
   ]
  },
  {
   "cell_type": "code",
   "execution_count": 8,
   "metadata": {},
   "outputs": [
    {
     "data": {
      "image/png": "[encoded data removed]",
      "text/plain": [
       "<Figure size 432x288 with 1 Axes>"
      ]
     },
     "metadata": {},
     "output_type": "display_data"
    }
   ],
   "source": [
    "sns.set_palette('Blues_d', 3)\n",
    "fig1 = pd.crosstab(bucolic.year, bucolic.top1).rolling(window=20).mean().plot()\n",
    "plt.rc('text', usetex=True)\n",
    "plt.rc('font', family='serif')\n",
    "plt.legend(loc='right', bbox_to_anchor=(1.5, 0.75),\n",
    "          ncol=1, fancybox=False, shadow=False)\n",
    "plt.savefig('bucolic.pdf', bbox_inches='tight')"
   ]
  },
  {
   "cell_type": "code",
   "execution_count": 3,
   "metadata": {},
   "outputs": [],
   "source": [
    "nation = top3topicsong[(top3topicsong.top1 == 'topic 32') | (top3topicsong.top1 == 'topic 7') | (top3topicsong.top1 == 'topic 49')]"
   ]
  },
  {
   "cell_type": "code",
   "execution_count": 4,
   "metadata": {},
   "outputs": [
    {
     "name": "stderr",
     "output_type": "stream",
     "text": [
      "/Users/alielassche/anaconda3/lib/python3.6/site-packages/ipykernel_launcher.py:1: SettingWithCopyWarning: \n",
      "A value is trying to be set on a copy of a slice from a DataFrame.\n",
      "Try using .loc[row_indexer,col_indexer] = value instead\n",
      "\n",
      "See the caveats in the documentation: http://pandas.pydata.org/pandas-docs/stable/indexing.html#indexing-view-versus-copy\n",
      "  \"\"\"Entry point for launching an IPython kernel.\n",
      "/Users/alielassche/anaconda3/lib/python3.6/site-packages/ipykernel_launcher.py:2: SettingWithCopyWarning: \n",
      "A value is trying to be set on a copy of a slice from a DataFrame.\n",
      "Try using .loc[row_indexer,col_indexer] = value instead\n",
      "\n",
      "See the caveats in the documentation: http://pandas.pydata.org/pandas-docs/stable/indexing.html#indexing-view-versus-copy\n",
      "  \n",
      "/Users/alielassche/anaconda3/lib/python3.6/site-packages/ipykernel_launcher.py:3: SettingWithCopyWarning: \n",
      "A value is trying to be set on a copy of a slice from a DataFrame.\n",
      "Try using .loc[row_indexer,col_indexer] = value instead\n",
      "\n",
      "See the caveats in the documentation: http://pandas.pydata.org/pandas-docs/stable/indexing.html#indexing-view-versus-copy\n",
      "  This is separate from the ipykernel package so we can avoid doing imports until\n"
     ]
    }
   ],
   "source": [
    "nation['top1'] = nation['top1'].replace('topic 32', 'nation and country (32)')\n",
    "nation['top1'] = nation['top1'].replace('topic 7', 'God and enemy (7)')\n",
    "nation['top1'] = nation['top1'].replace('topic 49', 'God and country (49)')"
   ]
  },
  {
   "cell_type": "code",
   "execution_count": 17,
   "metadata": {},
   "outputs": [
    {
     "data": {
      "image/png": "[encoded data removed]",
      "text/plain": [
       "<Figure size 432x288 with 1 Axes>"
      ]
     },
     "metadata": {},
     "output_type": "display_data"
    }
   ],
   "source": [
    "sns.set_palette('Blues_d', 3)\n",
    "fig1 = pd.crosstab(nation.year, nation.top1).rolling(window=20).mean().plot()\n",
    "plt.rc('text', usetex=True)\n",
    "plt.rc('font', family='serif')\n",
    "plt.legend(loc='right', bbox_to_anchor=(1.5, 0.75),\n",
    "          ncol=1, fancybox=False, shadow=False)\n",
    "plt.savefig('nation.pdf', bbox_inches='tight')"
   ]
  },
  {
   "cell_type": "code",
   "execution_count": 9,
   "metadata": {},
   "outputs": [],
   "source": [
    "money = top3topicsong[(top3topicsong.top1 == 'topic 27') | (top3topicsong.top1 == 'topic 26')] "
   ]
  },
  {
   "cell_type": "code",
   "execution_count": 10,
   "metadata": {},
   "outputs": [
    {
     "name": "stderr",
     "output_type": "stream",
     "text": [
      "/Users/alielassche/anaconda3/lib/python3.6/site-packages/ipykernel_launcher.py:1: SettingWithCopyWarning: \n",
      "A value is trying to be set on a copy of a slice from a DataFrame.\n",
      "Try using .loc[row_indexer,col_indexer] = value instead\n",
      "\n",
      "See the caveats in the documentation: http://pandas.pydata.org/pandas-docs/stable/indexing.html#indexing-view-versus-copy\n",
      "  \"\"\"Entry point for launching an IPython kernel.\n",
      "/Users/alielassche/anaconda3/lib/python3.6/site-packages/ipykernel_launcher.py:2: SettingWithCopyWarning: \n",
      "A value is trying to be set on a copy of a slice from a DataFrame.\n",
      "Try using .loc[row_indexer,col_indexer] = value instead\n",
      "\n",
      "See the caveats in the documentation: http://pandas.pydata.org/pandas-docs/stable/indexing.html#indexing-view-versus-copy\n",
      "  \n"
     ]
    }
   ],
   "source": [
    "money['top1'] = money['top1'].replace('topic 27', 'world and money (27)')\n",
    "money['top1'] = money['top1'].replace('topic 26', 'money and work (26)')"
   ]
  },
  {
   "cell_type": "code",
   "execution_count": 16,
   "metadata": {},
   "outputs": [
    {
     "data": {
      "image/png": "[encoded data removed]",
      "text/plain": [
       "<Figure size 432x288 with 1 Axes>"
      ]
     },
     "metadata": {},
     "output_type": "display_data"
    }
   ],
   "source": [
    "sns.set_palette('Blues_d', 2)\n",
    "fig1 = pd.crosstab(money.year, money.top1).rolling(window=20).mean().plot()\n",
    "plt.rc('text', usetex=True)\n",
    "plt.rc('font', family='serif')\n",
    "plt.legend(loc='right', bbox_to_anchor=(1.5, 0.75),\n",
    "          ncol=1, fancybox=False, shadow=False)\n",
    "plt.savefig('money.pdf', bbox_inches='tight')"
   ]
  },
  {
   "cell_type": "code",
   "execution_count": 13,
   "metadata": {},
   "outputs": [],
   "source": [
    "foreign = top3topicsong[(top3topicsong.top1 == 'topic 41') | (top3topicsong.top1 == 'topic 43')]"
   ]
  },
  {
   "cell_type": "code",
   "execution_count": 14,
   "metadata": {},
   "outputs": [
    {
     "name": "stderr",
     "output_type": "stream",
     "text": [
      "/Users/alielassche/anaconda3/lib/python3.6/site-packages/ipykernel_launcher.py:1: SettingWithCopyWarning: \n",
      "A value is trying to be set on a copy of a slice from a DataFrame.\n",
      "Try using .loc[row_indexer,col_indexer] = value instead\n",
      "\n",
      "See the caveats in the documentation: http://pandas.pydata.org/pandas-docs/stable/indexing.html#indexing-view-versus-copy\n",
      "  \"\"\"Entry point for launching an IPython kernel.\n",
      "/Users/alielassche/anaconda3/lib/python3.6/site-packages/ipykernel_launcher.py:2: SettingWithCopyWarning: \n",
      "A value is trying to be set on a copy of a slice from a DataFrame.\n",
      "Try using .loc[row_indexer,col_indexer] = value instead\n",
      "\n",
      "See the caveats in the documentation: http://pandas.pydata.org/pandas-docs/stable/indexing.html#indexing-view-versus-copy\n",
      "  \n"
     ]
    }
   ],
   "source": [
    "foreign['top1'] = foreign['top1'].replace('topic 41', 'German (41)')\n",
    "foreign['top1'] = foreign['top1'].replace('topic 43', 'French (43)')"
   ]
  },
  {
   "cell_type": "code",
   "execution_count": 18,
   "metadata": {},
   "outputs": [
    {
     "data": {
      "image/png": "[encoded data removed]",
      "text/plain": [
       "<Figure size 432x288 with 1 Axes>"
      ]
     },
     "metadata": {},
     "output_type": "display_data"
    }
   ],
   "source": [
    "sns.set_palette('Blues_d', 2)\n",
    "fig1 = pd.crosstab(foreign.year, foreign.top1).rolling(window=20).mean().plot()\n",
    "plt.rc('text', usetex=True)\n",
    "plt.rc('font', family='serif')\n",
    "plt.legend(loc='right', bbox_to_anchor=(1.5, 0.75),\n",
    "          ncol=1, fancybox=False, shadow=False)\n",
    "plt.savefig('foreign.pdf', bbox_inches='tight')"
   ]
  },
  {
   "cell_type": "code",
   "execution_count": 4,
   "metadata": {},
   "outputs": [],
   "source": [
    "religion2 = top3topicsong[(top3topicsong.top1 == 'topic 1') | (top3topicsong.top1 == 'topic 44') | (top3topicsong.top1 == 'topic 40') | (top3topicsong.top1 == 'topic 4') | (top3topicsong.top1 == 'topic 42') | (top3topicsong.top1 == 'topic 15')]"
   ]
  },
  {
   "cell_type": "code",
   "execution_count": 5,
   "metadata": {},
   "outputs": [
    {
     "name": "stderr",
     "output_type": "stream",
     "text": [
      "/Users/alielassche/anaconda3/lib/python3.6/site-packages/ipykernel_launcher.py:1: SettingWithCopyWarning: \n",
      "A value is trying to be set on a copy of a slice from a DataFrame.\n",
      "Try using .loc[row_indexer,col_indexer] = value instead\n",
      "\n",
      "See the caveats in the documentation: http://pandas.pydata.org/pandas-docs/stable/indexing.html#indexing-view-versus-copy\n",
      "  \"\"\"Entry point for launching an IPython kernel.\n",
      "/Users/alielassche/anaconda3/lib/python3.6/site-packages/ipykernel_launcher.py:2: SettingWithCopyWarning: \n",
      "A value is trying to be set on a copy of a slice from a DataFrame.\n",
      "Try using .loc[row_indexer,col_indexer] = value instead\n",
      "\n",
      "See the caveats in the documentation: http://pandas.pydata.org/pandas-docs/stable/indexing.html#indexing-view-versus-copy\n",
      "  \n",
      "/Users/alielassche/anaconda3/lib/python3.6/site-packages/ipykernel_launcher.py:3: SettingWithCopyWarning: \n",
      "A value is trying to be set on a copy of a slice from a DataFrame.\n",
      "Try using .loc[row_indexer,col_indexer] = value instead\n",
      "\n",
      "See the caveats in the documentation: http://pandas.pydata.org/pandas-docs/stable/indexing.html#indexing-view-versus-copy\n",
      "  This is separate from the ipykernel package so we can avoid doing imports until\n",
      "/Users/alielassche/anaconda3/lib/python3.6/site-packages/ipykernel_launcher.py:4: SettingWithCopyWarning: \n",
      "A value is trying to be set on a copy of a slice from a DataFrame.\n",
      "Try using .loc[row_indexer,col_indexer] = value instead\n",
      "\n",
      "See the caveats in the documentation: http://pandas.pydata.org/pandas-docs/stable/indexing.html#indexing-view-versus-copy\n",
      "  after removing the cwd from sys.path.\n",
      "/Users/alielassche/anaconda3/lib/python3.6/site-packages/ipykernel_launcher.py:5: SettingWithCopyWarning: \n",
      "A value is trying to be set on a copy of a slice from a DataFrame.\n",
      "Try using .loc[row_indexer,col_indexer] = value instead\n",
      "\n",
      "See the caveats in the documentation: http://pandas.pydata.org/pandas-docs/stable/indexing.html#indexing-view-versus-copy\n",
      "  \"\"\"\n",
      "/Users/alielassche/anaconda3/lib/python3.6/site-packages/ipykernel_launcher.py:6: SettingWithCopyWarning: \n",
      "A value is trying to be set on a copy of a slice from a DataFrame.\n",
      "Try using .loc[row_indexer,col_indexer] = value instead\n",
      "\n",
      "See the caveats in the documentation: http://pandas.pydata.org/pandas-docs/stable/indexing.html#indexing-view-versus-copy\n",
      "  \n"
     ]
    }
   ],
   "source": [
    "religion2['top1'] = religion2['top1'].replace('topic 1', 'religion and Mary (1)')\n",
    "religion2['top1'] = religion2['top1'].replace('topic 44', 'religion and virtue (44)')\n",
    "religion2['top1'] = religion2['top1'].replace('topic 40', 'religion and Jesus (40)')\n",
    "religion2['top1'] = religion2['top1'].replace('topic 4', 'religion and happiness (4)')\n",
    "religion2['top1'] = religion2['top1'].replace('topic 42', 'cross and passion (42)')\n",
    "religion2['top1'] = religion2['top1'].replace('topic 15', 'Old Testament (15)')"
   ]
  },
  {
   "cell_type": "code",
   "execution_count": 1,
   "metadata": {},
   "outputs": [
    {
     "ename": "NameError",
     "evalue": "name 'sns' is not defined",
     "output_type": "error",
     "traceback": [
      "\u001b[0;31m---------------------------------------------------------------------------\u001b[0m",
      "\u001b[0;31mNameError\u001b[0m                                 Traceback (most recent call last)",
      "\u001b[0;32m<ipython-input-1-17eb30eddf31>\u001b[0m in \u001b[0;36m<module>\u001b[0;34m\u001b[0m\n\u001b[0;32m----> 1\u001b[0;31m \u001b[0msns\u001b[0m\u001b[0;34m.\u001b[0m\u001b[0mset_palette\u001b[0m\u001b[0;34m(\u001b[0m\u001b[0;34m'RdBu'\u001b[0m\u001b[0;34m,\u001b[0m \u001b[0;36m6\u001b[0m\u001b[0;34m)\u001b[0m\u001b[0;34m\u001b[0m\u001b[0;34m\u001b[0m\u001b[0m\n\u001b[0m\u001b[1;32m      2\u001b[0m \u001b[0mfig1\u001b[0m \u001b[0;34m=\u001b[0m \u001b[0mpd\u001b[0m\u001b[0;34m.\u001b[0m\u001b[0mcrosstab\u001b[0m\u001b[0;34m(\u001b[0m\u001b[0mreligion2\u001b[0m\u001b[0;34m.\u001b[0m\u001b[0myear\u001b[0m\u001b[0;34m,\u001b[0m \u001b[0mreligion2\u001b[0m\u001b[0;34m.\u001b[0m\u001b[0mtop1\u001b[0m\u001b[0;34m)\u001b[0m\u001b[0;34m.\u001b[0m\u001b[0mrolling\u001b[0m\u001b[0;34m(\u001b[0m\u001b[0mwindow\u001b[0m\u001b[0;34m=\u001b[0m\u001b[0;36m20\u001b[0m\u001b[0;34m)\u001b[0m\u001b[0;34m.\u001b[0m\u001b[0mmean\u001b[0m\u001b[0;34m(\u001b[0m\u001b[0;34m)\u001b[0m\u001b[0;34m.\u001b[0m\u001b[0mplot\u001b[0m\u001b[0;34m(\u001b[0m\u001b[0;34m)\u001b[0m\u001b[0;34m\u001b[0m\u001b[0;34m\u001b[0m\u001b[0m\n\u001b[1;32m      3\u001b[0m \u001b[0mplt\u001b[0m\u001b[0;34m.\u001b[0m\u001b[0mrc\u001b[0m\u001b[0;34m(\u001b[0m\u001b[0;34m'text'\u001b[0m\u001b[0;34m,\u001b[0m \u001b[0musetex\u001b[0m\u001b[0;34m=\u001b[0m\u001b[0;32mTrue\u001b[0m\u001b[0;34m)\u001b[0m\u001b[0;34m\u001b[0m\u001b[0;34m\u001b[0m\u001b[0m\n\u001b[1;32m      4\u001b[0m \u001b[0mplt\u001b[0m\u001b[0;34m.\u001b[0m\u001b[0mrc\u001b[0m\u001b[0;34m(\u001b[0m\u001b[0;34m'font'\u001b[0m\u001b[0;34m,\u001b[0m \u001b[0mfamily\u001b[0m\u001b[0;34m=\u001b[0m\u001b[0;34m'serif'\u001b[0m\u001b[0;34m)\u001b[0m\u001b[0;34m\u001b[0m\u001b[0;34m\u001b[0m\u001b[0m\n\u001b[1;32m      5\u001b[0m plt.legend(loc='right', bbox_to_anchor=(1.5, 0.75),\n",
      "\u001b[0;31mNameError\u001b[0m: name 'sns' is not defined"
     ]
    }
   ],
   "source": [
    "sns.set_palette('RdBu', 6)\n",
    "fig1 = pd.crosstab(religion2.year, religion2.top1).rolling(window=20).mean().plot()\n",
    "plt.rc('text', usetex=True)\n",
    "plt.rc('font', family='serif')\n",
    "plt.legend(loc='right', bbox_to_anchor=(1.5, 0.75),\n",
    "          ncol=1, fancybox=False, shadow=False)\n",
    "#plt.savefig('religion2.pdf', bbox_inches='tight')"
   ]
  },
  {
   "cell_type": "code",
   "execution_count": 39,
   "metadata": {},
   "outputs": [],
   "source": [
    "topic32 = top3topicsong.loc[top3topicsong['top1'] == 'topic 32']"
   ]
  },
  {
   "cell_type": "code",
   "execution_count": 111,
   "metadata": {},
   "outputs": [],
   "source": [
    "topic1 = top3topicsong.loc[top3topicsong['top1'] == 'topic 1']"
   ]
  },
  {
   "cell_type": "code",
   "execution_count": 115,
   "metadata": {},
   "outputs": [
    {
     "name": "stderr",
     "output_type": "stream",
     "text": [
      "/Users/alielassche/anaconda3/lib/python3.6/site-packages/matplotlib/axes/_axes.py:6499: MatplotlibDeprecationWarning: \n",
      "The 'normed' kwarg was deprecated in Matplotlib 2.1 and will be removed in 3.1. Use 'density' instead.\n",
      "  alternative=\"'density'\", removal=\"3.1\")\n"
     ]
    },
    {
     "data": {
      "image/png": "[encoded data removed]",
      "text/plain": [
       "<Figure size 432x288 with 1 Axes>"
      ]
     },
     "metadata": {},
     "output_type": "display_data"
    }
   ],
   "source": [
    "sns.set_palette('Blues_d', 1)\n",
    "sns.distplot(topic1['year'], bins=50)\n",
    "plt.rc('text', usetex=True)\n",
    "plt.rc('font', family='serif')\n",
    "plt.savefig('topic1.pdf')"
   ]
  },
  {
   "cell_type": "code",
   "execution_count": 116,
   "metadata": {},
   "outputs": [],
   "source": [
    "topic5 = top3topicsong.loc[top3topicsong['top1'] == 'topic 5']"
   ]
  },
  {
   "cell_type": "code",
   "execution_count": 123,
   "metadata": {},
   "outputs": [
    {
     "name": "stderr",
     "output_type": "stream",
     "text": [
      "/Users/alielassche/anaconda3/lib/python3.6/site-packages/matplotlib/axes/_axes.py:6499: MatplotlibDeprecationWarning: \n",
      "The 'normed' kwarg was deprecated in Matplotlib 2.1 and will be removed in 3.1. Use 'density' instead.\n",
      "  alternative=\"'density'\", removal=\"3.1\")\n"
     ]
    },
    {
     "data": {
      "image/png": "[encoded data removed]",
      "text/plain": [
       "<Figure size 432x288 with 1 Axes>"
      ]
     },
     "metadata": {},
     "output_type": "display_data"
    }
   ],
   "source": [
    "sns.distplot(topic5['year'], bins=50)\n",
    "plt.rc('text', usetex=True)\n",
    "plt.rc('font', family='serif')\n",
    "plt.savefig('topic5.pdf')"
   ]
  },
  {
   "cell_type": "code",
   "execution_count": 118,
   "metadata": {},
   "outputs": [],
   "source": [
    "topic44 = top3topicsong.loc[top3topicsong['top1'] == 'topic 44']"
   ]
  },
  {
   "cell_type": "code",
   "execution_count": 122,
   "metadata": {},
   "outputs": [
    {
     "name": "stderr",
     "output_type": "stream",
     "text": [
      "/Users/alielassche/anaconda3/lib/python3.6/site-packages/matplotlib/axes/_axes.py:6499: MatplotlibDeprecationWarning: \n",
      "The 'normed' kwarg was deprecated in Matplotlib 2.1 and will be removed in 3.1. Use 'density' instead.\n",
      "  alternative=\"'density'\", removal=\"3.1\")\n"
     ]
    },
    {
     "data": {
      "image/png": "[encoded data removed]",
      "text/plain": [
       "<Figure size 432x288 with 1 Axes>"
      ]
     },
     "metadata": {},
     "output_type": "display_data"
    }
   ],
   "source": [
    "sns.distplot(topic44['year'], bins=50)\n",
    "plt.rc('text', usetex=True)\n",
    "plt.rc('font', family='serif')\n",
    "plt.savefig('topic44.pdf')"
   ]
  },
  {
   "cell_type": "code",
   "execution_count": 124,
   "metadata": {},
   "outputs": [],
   "source": [
    "topic12 = top3topicsong.loc[top3topicsong['top1'] == 'topic 12']"
   ]
  },
  {
   "cell_type": "code",
   "execution_count": 125,
   "metadata": {},
   "outputs": [
    {
     "name": "stderr",
     "output_type": "stream",
     "text": [
      "/Users/alielassche/anaconda3/lib/python3.6/site-packages/matplotlib/axes/_axes.py:6499: MatplotlibDeprecationWarning: \n",
      "The 'normed' kwarg was deprecated in Matplotlib 2.1 and will be removed in 3.1. Use 'density' instead.\n",
      "  alternative=\"'density'\", removal=\"3.1\")\n"
     ]
    },
    {
     "data": {
      "image/png": "[encoded data removed]",
      "text/plain": [
       "<Figure size 432x288 with 1 Axes>"
      ]
     },
     "metadata": {},
     "output_type": "display_data"
    }
   ],
   "source": [
    "sns.distplot(topic12['year'], bins=50)\n",
    "plt.rc('text', usetex=True)\n",
    "plt.rc('font', family='serif')\n",
    "#plt.savefig('topic32.pdf')"
   ]
  },
  {
   "cell_type": "code",
   "execution_count": 126,
   "metadata": {},
   "outputs": [],
   "source": [
    "topic4 = top3topicsong.loc[top3topicsong['top1'] == 'topic 4']"
   ]
  },
  {
   "cell_type": "code",
   "execution_count": 127,
   "metadata": {},
   "outputs": [
    {
     "name": "stderr",
     "output_type": "stream",
     "text": [
      "/Users/alielassche/anaconda3/lib/python3.6/site-packages/matplotlib/axes/_axes.py:6499: MatplotlibDeprecationWarning: \n",
      "The 'normed' kwarg was deprecated in Matplotlib 2.1 and will be removed in 3.1. Use 'density' instead.\n",
      "  alternative=\"'density'\", removal=\"3.1\")\n"
     ]
    },
    {
     "data": {
      "image/png": "[encoded data removed]",
      "text/plain": [
       "<Figure size 432x288 with 1 Axes>"
      ]
     },
     "metadata": {},
     "output_type": "display_data"
    }
   ],
   "source": [
    "sns.distplot(topic4['year'], bins=50)\n",
    "plt.rc('text', usetex=True)\n",
    "plt.rc('font', family='serif')\n",
    "#plt.savefig('topic32.pdf')"
   ]
  },
  {
   "cell_type": "code",
   "execution_count": 54,
   "metadata": {},
   "outputs": [
    {
     "name": "stderr",
     "output_type": "stream",
     "text": [
      "/Users/alielassche/anaconda3/lib/python3.6/site-packages/matplotlib/axes/_axes.py:6499: MatplotlibDeprecationWarning: \n",
      "The 'normed' kwarg was deprecated in Matplotlib 2.1 and will be removed in 3.1. Use 'density' instead.\n",
      "  alternative=\"'density'\", removal=\"3.1\")\n"
     ]
    },
    {
     "data": {
      "image/png": "[encoded data removed]",
      "text/plain": [
       "<Figure size 432x288 with 1 Axes>"
      ]
     },
     "metadata": {},
     "output_type": "display_data"
    }
   ],
   "source": [
    "sns.distplot(topic32['year'], bins=50)\n",
    "plt.rc('text', usetex=True)\n",
    "plt.rc('font', family='serif')\n",
    "plt.savefig('topic32.pdf')"
   ]
  },
  {
   "cell_type": "code",
   "execution_count": 41,
   "metadata": {},
   "outputs": [],
   "source": [
    "topic9 = top3topicsong.loc[top3topicsong['top1'] == 'topic 9']"
   ]
  },
  {
   "cell_type": "code",
   "execution_count": 42,
   "metadata": {},
   "outputs": [],
   "source": [
    "love = top3topicsong[(top3topicsong.top1 == 'topic 38') | (top3topicsong.top1 == 'topic 39')]"
   ]
  },
  {
   "cell_type": "code",
   "execution_count": 14,
   "metadata": {},
   "outputs": [],
   "source": [
    "love_extended = top3topicsong[(top3topicsong.top1 == 'topic 38') | (top3topicsong.top1 == 'topic 39') | (top3topicsong.top1 == 'topic 2') | (top3topicsong.top1 == 'topic 24') | (top3topicsong.top1 == 'topic 34') | (top3topicsong.top1 == 'topic 21') | (top3topicsong.top1 == 'topic 23')]"
   ]
  },
  {
   "cell_type": "code",
   "execution_count": 15,
   "metadata": {},
   "outputs": [
    {
     "name": "stderr",
     "output_type": "stream",
     "text": [
      "/Users/alielassche/anaconda3/lib/python3.6/site-packages/ipykernel_launcher.py:1: SettingWithCopyWarning: \n",
      "A value is trying to be set on a copy of a slice from a DataFrame.\n",
      "Try using .loc[row_indexer,col_indexer] = value instead\n",
      "\n",
      "See the caveats in the documentation: http://pandas.pydata.org/pandas-docs/stable/indexing.html#indexing-view-versus-copy\n",
      "  \"\"\"Entry point for launching an IPython kernel.\n",
      "/Users/alielassche/anaconda3/lib/python3.6/site-packages/ipykernel_launcher.py:2: SettingWithCopyWarning: \n",
      "A value is trying to be set on a copy of a slice from a DataFrame.\n",
      "Try using .loc[row_indexer,col_indexer] = value instead\n",
      "\n",
      "See the caveats in the documentation: http://pandas.pydata.org/pandas-docs/stable/indexing.html#indexing-view-versus-copy\n",
      "  \n",
      "/Users/alielassche/anaconda3/lib/python3.6/site-packages/ipykernel_launcher.py:3: SettingWithCopyWarning: \n",
      "A value is trying to be set on a copy of a slice from a DataFrame.\n",
      "Try using .loc[row_indexer,col_indexer] = value instead\n",
      "\n",
      "See the caveats in the documentation: http://pandas.pydata.org/pandas-docs/stable/indexing.html#indexing-view-versus-copy\n",
      "  This is separate from the ipykernel package so we can avoid doing imports until\n",
      "/Users/alielassche/anaconda3/lib/python3.6/site-packages/ipykernel_launcher.py:4: SettingWithCopyWarning: \n",
      "A value is trying to be set on a copy of a slice from a DataFrame.\n",
      "Try using .loc[row_indexer,col_indexer] = value instead\n",
      "\n",
      "See the caveats in the documentation: http://pandas.pydata.org/pandas-docs/stable/indexing.html#indexing-view-versus-copy\n",
      "  after removing the cwd from sys.path.\n",
      "/Users/alielassche/anaconda3/lib/python3.6/site-packages/ipykernel_launcher.py:5: SettingWithCopyWarning: \n",
      "A value is trying to be set on a copy of a slice from a DataFrame.\n",
      "Try using .loc[row_indexer,col_indexer] = value instead\n",
      "\n",
      "See the caveats in the documentation: http://pandas.pydata.org/pandas-docs/stable/indexing.html#indexing-view-versus-copy\n",
      "  \"\"\"\n",
      "/Users/alielassche/anaconda3/lib/python3.6/site-packages/ipykernel_launcher.py:6: SettingWithCopyWarning: \n",
      "A value is trying to be set on a copy of a slice from a DataFrame.\n",
      "Try using .loc[row_indexer,col_indexer] = value instead\n",
      "\n",
      "See the caveats in the documentation: http://pandas.pydata.org/pandas-docs/stable/indexing.html#indexing-view-versus-copy\n",
      "  \n",
      "/Users/alielassche/anaconda3/lib/python3.6/site-packages/ipykernel_launcher.py:7: SettingWithCopyWarning: \n",
      "A value is trying to be set on a copy of a slice from a DataFrame.\n",
      "Try using .loc[row_indexer,col_indexer] = value instead\n",
      "\n",
      "See the caveats in the documentation: http://pandas.pydata.org/pandas-docs/stable/indexing.html#indexing-view-versus-copy\n",
      "  import sys\n"
     ]
    }
   ],
   "source": [
    "love_extended['top1'] = love_extended['top1'].replace('topic 38', 'love and happiness (38)')\n",
    "love_extended['top1'] = love_extended['top1'].replace('topic 39', 'love and sadness (39)')\n",
    "love_extended['top1'] = love_extended['top1'].replace('topic 2', 'love and tragedy (2)')\n",
    "love_extended['top1'] = love_extended['top1'].replace('topic 24', 'rejection (24)')\n",
    "love_extended['top1'] = love_extended['top1'].replace('topic 34', 'seducing (34)')\n",
    "love_extended['top1'] = love_extended['top1'].replace('topic 21', 'love and happiness (21)')\n",
    "love_extended['top1'] = love_extended['top1'].replace('topic 23', 'physical love (23)')"
   ]
  },
  {
   "cell_type": "code",
   "execution_count": 17,
   "metadata": {},
   "outputs": [
    {
     "data": {
      "image/png": "[encoded data removed]",
      "text/plain": [
       "<Figure size 432x288 with 1 Axes>"
      ]
     },
     "metadata": {},
     "output_type": "display_data"
    }
   ],
   "source": [
    "sns.set_palette('RdBu', 7)\n",
    "fig1 = pd.crosstab(love_extended.year, love_extended.top1).rolling(window=20).mean().plot()\n",
    "plt.rc('text', usetex=True)\n",
    "plt.rc('font', family='serif')\n",
    "plt.legend(loc='right', bbox_to_anchor=(1.5, 0.75),\n",
    "          ncol=1, fancybox=False, shadow=False)\n",
    "plt.savefig('love_extended.pdf', bbox_inches='tight')"
   ]
  },
  {
   "cell_type": "code",
   "execution_count": 43,
   "metadata": {},
   "outputs": [
    {
     "data": {
      "text/plain": [
       "Index(['incnormid', 'recordid', 'bronid', 'w_g', 'herdrukid', 'year', 'top1',\n",
       "       'top2', 'top3'],\n",
       "      dtype='object')"
      ]
     },
     "execution_count": 43,
     "metadata": {},
     "output_type": "execute_result"
    }
   ],
   "source": [
    "love.columns"
   ]
  },
  {
   "cell_type": "code",
   "execution_count": 92,
   "metadata": {},
   "outputs": [
    {
     "name": "stderr",
     "output_type": "stream",
     "text": [
      "/Users/alielassche/anaconda3/lib/python3.6/site-packages/ipykernel_launcher.py:1: SettingWithCopyWarning: \n",
      "A value is trying to be set on a copy of a slice from a DataFrame.\n",
      "Try using .loc[row_indexer,col_indexer] = value instead\n",
      "\n",
      "See the caveats in the documentation: http://pandas.pydata.org/pandas-docs/stable/indexing.html#indexing-view-versus-copy\n",
      "  \"\"\"Entry point for launching an IPython kernel.\n",
      "/Users/alielassche/anaconda3/lib/python3.6/site-packages/ipykernel_launcher.py:2: SettingWithCopyWarning: \n",
      "A value is trying to be set on a copy of a slice from a DataFrame.\n",
      "Try using .loc[row_indexer,col_indexer] = value instead\n",
      "\n",
      "See the caveats in the documentation: http://pandas.pydata.org/pandas-docs/stable/indexing.html#indexing-view-versus-copy\n",
      "  \n"
     ]
    }
   ],
   "source": [
    "love['top1'] = love['top1'].replace('topic 38', 'love and happiness (38)')\n",
    "love['top1'] = love['top1'].replace('topic 39', 'love and sadness (39)')"
   ]
  },
  {
   "cell_type": "code",
   "execution_count": 109,
   "metadata": {},
   "outputs": [
    {
     "data": {
      "text/plain": [
       "<matplotlib.legend.Legend at 0x1a23497860>"
      ]
     },
     "execution_count": 109,
     "metadata": {},
     "output_type": "execute_result"
    },
    {
     "data": {
      "image/png": "[encoded data removed]",
      "text/plain": [
       "<Figure size 432x288 with 1 Axes>"
      ]
     },
     "metadata": {},
     "output_type": "display_data"
    }
   ],
   "source": [
    "sns.set_palette('RdBu', 2)\n",
    "fig1 = pd.crosstab(love.year, love.top1).rolling(window=20).mean().plot()\n",
    "plt.rc('text', usetex=True)\n",
    "plt.rc('font', family='serif')\n",
    "plt.legend(loc='right', bbox_to_anchor=(1.5, 0.75),\n",
    "          ncol=1, fancybox=False, shadow=False)\n",
    "#plt.savefig('love.pdf', bbox_inches='tight')"
   ]
  },
  {
   "cell_type": "code",
   "execution_count": 69,
   "metadata": {},
   "outputs": [],
   "source": [
    "religion_min_9 = top3topicsong[(top3topicsong.top1 == 'topic 31') | (top3topicsong.top1 == 'topic 0') | (top3topicsong.top1 == 'topic 28') | (top3topicsong.top1 == 'topic 18') | (top3topicsong.top1 == 'topic 13')]"
   ]
  },
  {
   "cell_type": "code",
   "execution_count": 83,
   "metadata": {},
   "outputs": [],
   "source": [
    "religion = top3topicsong[(top3topicsong.top1 == 'topic 9') | (top3topicsong.top1 == 'topic 31') | (top3topicsong.top1 == 'topic 0') | (top3topicsong.top1 == 'topic 28') | (top3topicsong.top1 == 'topic 18') | (top3topicsong.top1 == 'topic 13')]"
   ]
  },
  {
   "cell_type": "code",
   "execution_count": 84,
   "metadata": {},
   "outputs": [
    {
     "name": "stderr",
     "output_type": "stream",
     "text": [
      "/Users/alielassche/anaconda3/lib/python3.6/site-packages/ipykernel_launcher.py:1: SettingWithCopyWarning: \n",
      "A value is trying to be set on a copy of a slice from a DataFrame.\n",
      "Try using .loc[row_indexer,col_indexer] = value instead\n",
      "\n",
      "See the caveats in the documentation: http://pandas.pydata.org/pandas-docs/stable/indexing.html#indexing-view-versus-copy\n",
      "  \"\"\"Entry point for launching an IPython kernel.\n",
      "/Users/alielassche/anaconda3/lib/python3.6/site-packages/ipykernel_launcher.py:2: SettingWithCopyWarning: \n",
      "A value is trying to be set on a copy of a slice from a DataFrame.\n",
      "Try using .loc[row_indexer,col_indexer] = value instead\n",
      "\n",
      "See the caveats in the documentation: http://pandas.pydata.org/pandas-docs/stable/indexing.html#indexing-view-versus-copy\n",
      "  \n",
      "/Users/alielassche/anaconda3/lib/python3.6/site-packages/ipykernel_launcher.py:3: SettingWithCopyWarning: \n",
      "A value is trying to be set on a copy of a slice from a DataFrame.\n",
      "Try using .loc[row_indexer,col_indexer] = value instead\n",
      "\n",
      "See the caveats in the documentation: http://pandas.pydata.org/pandas-docs/stable/indexing.html#indexing-view-versus-copy\n",
      "  This is separate from the ipykernel package so we can avoid doing imports until\n",
      "/Users/alielassche/anaconda3/lib/python3.6/site-packages/ipykernel_launcher.py:4: SettingWithCopyWarning: \n",
      "A value is trying to be set on a copy of a slice from a DataFrame.\n",
      "Try using .loc[row_indexer,col_indexer] = value instead\n",
      "\n",
      "See the caveats in the documentation: http://pandas.pydata.org/pandas-docs/stable/indexing.html#indexing-view-versus-copy\n",
      "  after removing the cwd from sys.path.\n",
      "/Users/alielassche/anaconda3/lib/python3.6/site-packages/ipykernel_launcher.py:5: SettingWithCopyWarning: \n",
      "A value is trying to be set on a copy of a slice from a DataFrame.\n",
      "Try using .loc[row_indexer,col_indexer] = value instead\n",
      "\n",
      "See the caveats in the documentation: http://pandas.pydata.org/pandas-docs/stable/indexing.html#indexing-view-versus-copy\n",
      "  \"\"\"\n",
      "/Users/alielassche/anaconda3/lib/python3.6/site-packages/ipykernel_launcher.py:6: SettingWithCopyWarning: \n",
      "A value is trying to be set on a copy of a slice from a DataFrame.\n",
      "Try using .loc[row_indexer,col_indexer] = value instead\n",
      "\n",
      "See the caveats in the documentation: http://pandas.pydata.org/pandas-docs/stable/indexing.html#indexing-view-versus-copy\n",
      "  \n"
     ]
    }
   ],
   "source": [
    "religion['top1'] = religion['top1'].replace('topic 9', 'religion and old spelling (9)')\n",
    "religion['top1'] = religion['top1'].replace('topic 0', 'religion and life (0)')\n",
    "religion['top1'] = religion['top1'].replace('topic 13', 'religion (13)')\n",
    "religion['top1'] = religion['top1'].replace('topic 18', 'religion (18)')\n",
    "religion['top1'] = religion['top1'].replace('topic 28', 'intangible religion (28)')\n",
    "religion['top1'] = religion['top1'].replace('topic 31', 'religion (31)')"
   ]
  },
  {
   "cell_type": "code",
   "execution_count": 79,
   "metadata": {},
   "outputs": [
    {
     "data": {
      "text/html": [
       "<div>\n",
       "<style scoped>\n",
       "    .dataframe tbody tr th:only-of-type {\n",
       "        vertical-align: middle;\n",
       "    }\n",
       "\n",
       "    .dataframe tbody tr th {\n",
       "        vertical-align: top;\n",
       "    }\n",
       "\n",
       "    .dataframe thead th {\n",
       "        text-align: right;\n",
       "    }\n",
       "</style>\n",
       "<table border=\"1\" class=\"dataframe\">\n",
       "  <thead>\n",
       "    <tr style=\"text-align: right;\">\n",
       "      <th></th>\n",
       "      <th>incnormid</th>\n",
       "      <th>recordid</th>\n",
       "      <th>bronid</th>\n",
       "      <th>w_g</th>\n",
       "      <th>herdrukid</th>\n",
       "      <th>year</th>\n",
       "      <th>top1</th>\n",
       "      <th>top2</th>\n",
       "      <th>top3</th>\n",
       "    </tr>\n",
       "  </thead>\n",
       "  <tbody>\n",
       "    <tr>\n",
       "      <th>24</th>\n",
       "      <td>141.0</td>\n",
       "      <td>116406</td>\n",
       "      <td>1001338</td>\n",
       "      <td>geestelijk</td>\n",
       "      <td>920504.0</td>\n",
       "      <td>1692.0</td>\n",
       "      <td>intangible religion (28)</td>\n",
       "      <td>topic 18</td>\n",
       "      <td>topic 16</td>\n",
       "    </tr>\n",
       "    <tr>\n",
       "      <th>25</th>\n",
       "      <td>141.0</td>\n",
       "      <td>118227</td>\n",
       "      <td>1001323</td>\n",
       "      <td>geestelijk</td>\n",
       "      <td>NaN</td>\n",
       "      <td>1732.0</td>\n",
       "      <td>intangible religion (28)</td>\n",
       "      <td>topic 18</td>\n",
       "      <td>topic 16</td>\n",
       "    </tr>\n",
       "    <tr>\n",
       "      <th>26</th>\n",
       "      <td>141.0</td>\n",
       "      <td>147332</td>\n",
       "      <td>1001304</td>\n",
       "      <td>geestelijk</td>\n",
       "      <td>910281.0</td>\n",
       "      <td>1736.0</td>\n",
       "      <td>intangible religion (28)</td>\n",
       "      <td>topic 18</td>\n",
       "      <td>topic 16</td>\n",
       "    </tr>\n",
       "    <tr>\n",
       "      <th>27</th>\n",
       "      <td>141.0</td>\n",
       "      <td>148207</td>\n",
       "      <td>1001307</td>\n",
       "      <td>geestelijk</td>\n",
       "      <td>NaN</td>\n",
       "      <td>1700.0</td>\n",
       "      <td>intangible religion (28)</td>\n",
       "      <td>topic 18</td>\n",
       "      <td>topic 16</td>\n",
       "    </tr>\n",
       "    <tr>\n",
       "      <th>28</th>\n",
       "      <td>141.0</td>\n",
       "      <td>116406</td>\n",
       "      <td>1016154</td>\n",
       "      <td>geestelijk</td>\n",
       "      <td>NaN</td>\n",
       "      <td>1681.0</td>\n",
       "      <td>intangible religion (28)</td>\n",
       "      <td>topic 18</td>\n",
       "      <td>topic 16</td>\n",
       "    </tr>\n",
       "    <tr>\n",
       "      <th>29</th>\n",
       "      <td>141.0</td>\n",
       "      <td>147332</td>\n",
       "      <td>1000977</td>\n",
       "      <td>geestelijk</td>\n",
       "      <td>NaN</td>\n",
       "      <td>1732.0</td>\n",
       "      <td>intangible religion (28)</td>\n",
       "      <td>topic 18</td>\n",
       "      <td>topic 16</td>\n",
       "    </tr>\n",
       "    <tr>\n",
       "      <th>32</th>\n",
       "      <td>143.0</td>\n",
       "      <td>34059</td>\n",
       "      <td>1011050</td>\n",
       "      <td>geestelijk</td>\n",
       "      <td>NaN</td>\n",
       "      <td>1660.0</td>\n",
       "      <td>religion &amp; life (0)</td>\n",
       "      <td>topic 4</td>\n",
       "      <td>topic 1</td>\n",
       "    </tr>\n",
       "    <tr>\n",
       "      <th>42</th>\n",
       "      <td>174.0</td>\n",
       "      <td>20440</td>\n",
       "      <td>1002001</td>\n",
       "      <td>geestelijk</td>\n",
       "      <td>910477.0</td>\n",
       "      <td>1694.0</td>\n",
       "      <td>religion (18)</td>\n",
       "      <td>topic 27</td>\n",
       "      <td>topic 19</td>\n",
       "    </tr>\n",
       "    <tr>\n",
       "      <th>43</th>\n",
       "      <td>174.0</td>\n",
       "      <td>20440</td>\n",
       "      <td>1001035</td>\n",
       "      <td>geestelijk</td>\n",
       "      <td>921636.0</td>\n",
       "      <td>1655.0</td>\n",
       "      <td>religion (18)</td>\n",
       "      <td>topic 27</td>\n",
       "      <td>topic 19</td>\n",
       "    </tr>\n",
       "    <tr>\n",
       "      <th>44</th>\n",
       "      <td>174.0</td>\n",
       "      <td>20440</td>\n",
       "      <td>1010227</td>\n",
       "      <td>geestelijk</td>\n",
       "      <td>929506.0</td>\n",
       "      <td>1700.0</td>\n",
       "      <td>religion (18)</td>\n",
       "      <td>topic 27</td>\n",
       "      <td>topic 19</td>\n",
       "    </tr>\n",
       "    <tr>\n",
       "      <th>45</th>\n",
       "      <td>174.0</td>\n",
       "      <td>20440</td>\n",
       "      <td>1016932</td>\n",
       "      <td>geestelijk</td>\n",
       "      <td>NaN</td>\n",
       "      <td>1649.0</td>\n",
       "      <td>religion (18)</td>\n",
       "      <td>topic 27</td>\n",
       "      <td>topic 19</td>\n",
       "    </tr>\n",
       "    <tr>\n",
       "      <th>46</th>\n",
       "      <td>178.0</td>\n",
       "      <td>8040</td>\n",
       "      <td>1000773</td>\n",
       "      <td>geestelijk</td>\n",
       "      <td>NaN</td>\n",
       "      <td>1644.0</td>\n",
       "      <td>religion (31)</td>\n",
       "      <td>topic 13</td>\n",
       "      <td>topic 18</td>\n",
       "    </tr>\n",
       "    <tr>\n",
       "      <th>52</th>\n",
       "      <td>201.0</td>\n",
       "      <td>115816</td>\n",
       "      <td>1016154</td>\n",
       "      <td>geestelijk</td>\n",
       "      <td>NaN</td>\n",
       "      <td>1681.0</td>\n",
       "      <td>intangible religion (28)</td>\n",
       "      <td>topic 16</td>\n",
       "      <td>topic 22</td>\n",
       "    </tr>\n",
       "    <tr>\n",
       "      <th>53</th>\n",
       "      <td>201.0</td>\n",
       "      <td>115816</td>\n",
       "      <td>1001338</td>\n",
       "      <td>geestelijk</td>\n",
       "      <td>920352.0</td>\n",
       "      <td>1692.0</td>\n",
       "      <td>intangible religion (28)</td>\n",
       "      <td>topic 16</td>\n",
       "      <td>topic 22</td>\n",
       "    </tr>\n",
       "    <tr>\n",
       "      <th>54</th>\n",
       "      <td>201.0</td>\n",
       "      <td>147338</td>\n",
       "      <td>1001676</td>\n",
       "      <td>geestelijk</td>\n",
       "      <td>NaN</td>\n",
       "      <td>1664.0</td>\n",
       "      <td>intangible religion (28)</td>\n",
       "      <td>topic 16</td>\n",
       "      <td>topic 22</td>\n",
       "    </tr>\n",
       "    <tr>\n",
       "      <th>55</th>\n",
       "      <td>206.0</td>\n",
       "      <td>22996</td>\n",
       "      <td>1000208</td>\n",
       "      <td>geestelijk</td>\n",
       "      <td>901517.0</td>\n",
       "      <td>1598.0</td>\n",
       "      <td>religion &amp; life (0)</td>\n",
       "      <td>topic 31</td>\n",
       "      <td>topic 21</td>\n",
       "    </tr>\n",
       "    <tr>\n",
       "      <th>56</th>\n",
       "      <td>206.0</td>\n",
       "      <td>147450</td>\n",
       "      <td>1001607</td>\n",
       "      <td>geestelijk</td>\n",
       "      <td>NaN</td>\n",
       "      <td>1625.0</td>\n",
       "      <td>religion &amp; life (0)</td>\n",
       "      <td>topic 31</td>\n",
       "      <td>topic 21</td>\n",
       "    </tr>\n",
       "    <tr>\n",
       "      <th>57</th>\n",
       "      <td>206.0</td>\n",
       "      <td>147452</td>\n",
       "      <td>1001827</td>\n",
       "      <td>geestelijk</td>\n",
       "      <td>NaN</td>\n",
       "      <td>1650.0</td>\n",
       "      <td>religion &amp; life (0)</td>\n",
       "      <td>topic 31</td>\n",
       "      <td>topic 21</td>\n",
       "    </tr>\n",
       "    <tr>\n",
       "      <th>58</th>\n",
       "      <td>206.0</td>\n",
       "      <td>147453</td>\n",
       "      <td>1001900</td>\n",
       "      <td>geestelijk</td>\n",
       "      <td>NaN</td>\n",
       "      <td>1679.0</td>\n",
       "      <td>religion &amp; life (0)</td>\n",
       "      <td>topic 31</td>\n",
       "      <td>topic 21</td>\n",
       "    </tr>\n",
       "    <tr>\n",
       "      <th>59</th>\n",
       "      <td>206.0</td>\n",
       "      <td>22996</td>\n",
       "      <td>1000207</td>\n",
       "      <td>geestelijk</td>\n",
       "      <td>NaN</td>\n",
       "      <td>1593.0</td>\n",
       "      <td>religion &amp; life (0)</td>\n",
       "      <td>topic 31</td>\n",
       "      <td>topic 21</td>\n",
       "    </tr>\n",
       "  </tbody>\n",
       "</table>\n",
       "</div>"
      ],
      "text/plain": [
       "    incnormid  recordid   bronid         w_g  herdrukid    year  \\\n",
       "24      141.0    116406  1001338  geestelijk   920504.0  1692.0   \n",
       "25      141.0    118227  1001323  geestelijk        NaN  1732.0   \n",
       "26      141.0    147332  1001304  geestelijk   910281.0  1736.0   \n",
       "27      141.0    148207  1001307  geestelijk        NaN  1700.0   \n",
       "28      141.0    116406  1016154  geestelijk        NaN  1681.0   \n",
       "29      141.0    147332  1000977  geestelijk        NaN  1732.0   \n",
       "32      143.0     34059  1011050  geestelijk        NaN  1660.0   \n",
       "42      174.0     20440  1002001  geestelijk   910477.0  1694.0   \n",
       "43      174.0     20440  1001035  geestelijk   921636.0  1655.0   \n",
       "44      174.0     20440  1010227  geestelijk   929506.0  1700.0   \n",
       "45      174.0     20440  1016932  geestelijk        NaN  1649.0   \n",
       "46      178.0      8040  1000773  geestelijk        NaN  1644.0   \n",
       "52      201.0    115816  1016154  geestelijk        NaN  1681.0   \n",
       "53      201.0    115816  1001338  geestelijk   920352.0  1692.0   \n",
       "54      201.0    147338  1001676  geestelijk        NaN  1664.0   \n",
       "55      206.0     22996  1000208  geestelijk   901517.0  1598.0   \n",
       "56      206.0    147450  1001607  geestelijk        NaN  1625.0   \n",
       "57      206.0    147452  1001827  geestelijk        NaN  1650.0   \n",
       "58      206.0    147453  1001900  geestelijk        NaN  1679.0   \n",
       "59      206.0     22996  1000207  geestelijk        NaN  1593.0   \n",
       "\n",
       "                        top1      top2      top3  \n",
       "24  intangible religion (28)  topic 18  topic 16  \n",
       "25  intangible religion (28)  topic 18  topic 16  \n",
       "26  intangible religion (28)  topic 18  topic 16  \n",
       "27  intangible religion (28)  topic 18  topic 16  \n",
       "28  intangible religion (28)  topic 18  topic 16  \n",
       "29  intangible religion (28)  topic 18  topic 16  \n",
       "32       religion & life (0)   topic 4   topic 1  \n",
       "42             religion (18)  topic 27  topic 19  \n",
       "43             religion (18)  topic 27  topic 19  \n",
       "44             religion (18)  topic 27  topic 19  \n",
       "45             religion (18)  topic 27  topic 19  \n",
       "46             religion (31)  topic 13  topic 18  \n",
       "52  intangible religion (28)  topic 16  topic 22  \n",
       "53  intangible religion (28)  topic 16  topic 22  \n",
       "54  intangible religion (28)  topic 16  topic 22  \n",
       "55       religion & life (0)  topic 31  topic 21  \n",
       "56       religion & life (0)  topic 31  topic 21  \n",
       "57       religion & life (0)  topic 31  topic 21  \n",
       "58       religion & life (0)  topic 31  topic 21  \n",
       "59       religion & life (0)  topic 31  topic 21  "
      ]
     },
     "execution_count": 79,
     "metadata": {},
     "output_type": "execute_result"
    }
   ],
   "source": [
    "religion.head(20)"
   ]
  },
  {
   "cell_type": "code",
   "execution_count": 107,
   "metadata": {},
   "outputs": [
    {
     "data": {
      "image/png": "[encoded data removed]",
      "text/plain": [
       "<Figure size 432x288 with 1 Axes>"
      ]
     },
     "metadata": {},
     "output_type": "display_data"
    }
   ],
   "source": [
    "sns.set_palette('RdBu', 6)\n",
    "fig3 = pd.crosstab(religion.year, religion.top1).rolling(window=20).mean().plot()\n",
    "plt.rc('text', usetex=True)\n",
    "plt.rc('font', family='serif')\n",
    "plt.legend(loc='right', bbox_to_anchor=(1.5, 0.75),\n",
    "          ncol=1, fancybox=False, shadow=False)\n",
    "plt.savefig('religion.pdf', bbox_inches='tight')"
   ]
  },
  {
   "cell_type": "code",
   "execution_count": 89,
   "metadata": {},
   "outputs": [
    {
     "name": "stderr",
     "output_type": "stream",
     "text": [
      "/Users/alielassche/anaconda3/lib/python3.6/site-packages/ipykernel_launcher.py:1: SettingWithCopyWarning: \n",
      "A value is trying to be set on a copy of a slice from a DataFrame.\n",
      "Try using .loc[row_indexer,col_indexer] = value instead\n",
      "\n",
      "See the caveats in the documentation: http://pandas.pydata.org/pandas-docs/stable/indexing.html#indexing-view-versus-copy\n",
      "  \"\"\"Entry point for launching an IPython kernel.\n",
      "/Users/alielassche/anaconda3/lib/python3.6/site-packages/ipykernel_launcher.py:2: SettingWithCopyWarning: \n",
      "A value is trying to be set on a copy of a slice from a DataFrame.\n",
      "Try using .loc[row_indexer,col_indexer] = value instead\n",
      "\n",
      "See the caveats in the documentation: http://pandas.pydata.org/pandas-docs/stable/indexing.html#indexing-view-versus-copy\n",
      "  \n",
      "/Users/alielassche/anaconda3/lib/python3.6/site-packages/ipykernel_launcher.py:3: SettingWithCopyWarning: \n",
      "A value is trying to be set on a copy of a slice from a DataFrame.\n",
      "Try using .loc[row_indexer,col_indexer] = value instead\n",
      "\n",
      "See the caveats in the documentation: http://pandas.pydata.org/pandas-docs/stable/indexing.html#indexing-view-versus-copy\n",
      "  This is separate from the ipykernel package so we can avoid doing imports until\n",
      "/Users/alielassche/anaconda3/lib/python3.6/site-packages/ipykernel_launcher.py:4: SettingWithCopyWarning: \n",
      "A value is trying to be set on a copy of a slice from a DataFrame.\n",
      "Try using .loc[row_indexer,col_indexer] = value instead\n",
      "\n",
      "See the caveats in the documentation: http://pandas.pydata.org/pandas-docs/stable/indexing.html#indexing-view-versus-copy\n",
      "  after removing the cwd from sys.path.\n",
      "/Users/alielassche/anaconda3/lib/python3.6/site-packages/ipykernel_launcher.py:5: SettingWithCopyWarning: \n",
      "A value is trying to be set on a copy of a slice from a DataFrame.\n",
      "Try using .loc[row_indexer,col_indexer] = value instead\n",
      "\n",
      "See the caveats in the documentation: http://pandas.pydata.org/pandas-docs/stable/indexing.html#indexing-view-versus-copy\n",
      "  \"\"\"\n"
     ]
    }
   ],
   "source": [
    "religion_min_9['top1'] = religion_min_9['top1'].replace('topic 0', 'religion and life (0)')\n",
    "religion_min_9['top1'] = religion_min_9['top1'].replace('topic 13', 'religion (13)')\n",
    "religion_min_9['top1'] = religion_min_9['top1'].replace('topic 18', 'religion (18)')\n",
    "religion_min_9['top1'] = religion_min_9['top1'].replace('topic 28', 'intangible religion (28)')\n",
    "religion_min_9['top1'] = religion_min_9['top1'].replace('topic 31', 'religion (31)')"
   ]
  },
  {
   "cell_type": "code",
   "execution_count": 108,
   "metadata": {},
   "outputs": [
    {
     "data": {
      "image/png": "[encoded data removed]",
      "text/plain": [
       "<Figure size 432x288 with 1 Axes>"
      ]
     },
     "metadata": {},
     "output_type": "display_data"
    }
   ],
   "source": [
    "sns.set_palette('RdBu', 5)\n",
    "fig2 = pd.crosstab(religion_min_9.year, religion_min_9.top1).rolling(window=20).mean().plot()\n",
    "plt.rc('text', usetex=True)\n",
    "plt.rc('font', family='serif')\n",
    "plt.legend(loc='right', bbox_to_anchor=(1.5, 0.75),\n",
    "          ncol=1, fancybox=False, shadow=False)\n",
    "plt.savefig('religion_min_9.pdf', bbox_inches='tight')"
   ]
  },
  {
   "cell_type": "code",
   "execution_count": 57,
   "metadata": {},
   "outputs": [
    {
     "name": "stderr",
     "output_type": "stream",
     "text": [
      "/Users/alielassche/anaconda3/lib/python3.6/site-packages/matplotlib/axes/_axes.py:6499: MatplotlibDeprecationWarning: \n",
      "The 'normed' kwarg was deprecated in Matplotlib 2.1 and will be removed in 3.1. Use 'density' instead.\n",
      "  alternative=\"'density'\", removal=\"3.1\")\n"
     ]
    },
    {
     "data": {
      "image/png": "[encoded data removed]",
      "text/plain": [
       "<Figure size 432x288 with 1 Axes>"
      ]
     },
     "metadata": {},
     "output_type": "display_data"
    }
   ],
   "source": [
    "sns.set_palette('Blues_d', 1)\n",
    "sns.distplot(topic9['year'], bins=50)\n",
    "plt.rc('text', usetex=True)\n",
    "plt.rc('font', family='serif')\n",
    "plt.savefig('topic9.pdf')"
   ]
  },
  {
   "cell_type": "code",
   "execution_count": 49,
   "metadata": {},
   "outputs": [],
   "source": [
    "topic24 = top3topicsong.loc[top3topicsong['top1'] == 'topic 24']"
   ]
  },
  {
   "cell_type": "code",
   "execution_count": 58,
   "metadata": {},
   "outputs": [
    {
     "name": "stderr",
     "output_type": "stream",
     "text": [
      "/Users/alielassche/anaconda3/lib/python3.6/site-packages/matplotlib/axes/_axes.py:6499: MatplotlibDeprecationWarning: \n",
      "The 'normed' kwarg was deprecated in Matplotlib 2.1 and will be removed in 3.1. Use 'density' instead.\n",
      "  alternative=\"'density'\", removal=\"3.1\")\n"
     ]
    },
    {
     "data": {
      "image/png": "[encoded data removed]",
      "text/plain": [
       "<Figure size 432x288 with 1 Axes>"
      ]
     },
     "metadata": {},
     "output_type": "display_data"
    }
   ],
   "source": [
    "sns.set_palette('Blues_d', 1)\n",
    "sns.distplot(topic24['year'], bins=50)\n",
    "plt.rc('text', usetex=True)\n",
    "plt.rc('font', family='serif')\n",
    "plt.savefig('topic24.pdf')"
   ]
  },
  {
   "cell_type": "code",
   "execution_count": 51,
   "metadata": {},
   "outputs": [],
   "source": [
    "topic12 = top3topicsong.loc[top3topicsong['top1'] == 'topic 12']"
   ]
  },
  {
   "cell_type": "code",
   "execution_count": 59,
   "metadata": {},
   "outputs": [
    {
     "name": "stderr",
     "output_type": "stream",
     "text": [
      "/Users/alielassche/anaconda3/lib/python3.6/site-packages/matplotlib/axes/_axes.py:6499: MatplotlibDeprecationWarning: \n",
      "The 'normed' kwarg was deprecated in Matplotlib 2.1 and will be removed in 3.1. Use 'density' instead.\n",
      "  alternative=\"'density'\", removal=\"3.1\")\n"
     ]
    },
    {
     "data": {
      "image/png": "[encoded data removed]",
      "text/plain": [
       "<Figure size 432x288 with 1 Axes>"
      ]
     },
     "metadata": {},
     "output_type": "display_data"
    }
   ],
   "source": [
    "sns.set_palette('Blues_d', 1)\n",
    "sns.distplot(topic12['year'], bins=50)\n",
    "plt.rc('text', usetex=True)\n",
    "plt.rc('font', family='serif')\n",
    "plt.savefig('topic12.pdf')"
   ]
  },
  {
   "cell_type": "code",
   "execution_count": 48,
   "metadata": {},
   "outputs": [],
   "source": [
    "topics.to_csv('topics_incnormid.csv', sep='\\t')"
   ]
  },
  {
   "cell_type": "code",
   "execution_count": 18,
   "metadata": {},
   "outputs": [
    {
     "name": "stdout",
     "output_type": "stream",
     "text": [
      "27502\n",
      "18914\n",
      "16367\n"
     ]
    }
   ],
   "source": [
    "print(topics['recordid'].nunique())\n",
    "print(topics['incnormid'].nunique())\n",
    "print(topics['herdrukid'].nunique())"
   ]
  },
  {
   "cell_type": "code",
   "execution_count": 19,
   "metadata": {},
   "outputs": [
    {
     "data": {
      "text/plain": [
       "'\\\\begin{tabular}{lr}\\n\\\\toprule\\n{} &  dominant\\\\_topic \\\\\\\\\\ndominant\\\\_topic &                 \\\\\\\\\\n\\\\midrule\\n9              &            3936 \\\\\\\\\\n31             &            1966 \\\\\\\\\\n0              &            1848 \\\\\\\\\\n28             &            1700 \\\\\\\\\\n39             &            1671 \\\\\\\\\\n18             &            1631 \\\\\\\\\\n38             &            1607 \\\\\\\\\\n13             &            1403 \\\\\\\\\\n6              &            1277 \\\\\\\\\\n32             &            1221 \\\\\\\\\\n2              &            1073 \\\\\\\\\\n24             &            1062 \\\\\\\\\\n30             &            1038 \\\\\\\\\\n1              &            1029 \\\\\\\\\\n5              &            1021 \\\\\\\\\\n44             &             944 \\\\\\\\\\n27             &             869 \\\\\\\\\\n12             &             841 \\\\\\\\\\n47             &             787 \\\\\\\\\\n40             &             771 \\\\\\\\\\n48             &             767 \\\\\\\\\\n8              &             755 \\\\\\\\\\n46             &             752 \\\\\\\\\\n19             &             744 \\\\\\\\\\n4              &             693 \\\\\\\\\\n36             &             686 \\\\\\\\\\n17             &             683 \\\\\\\\\\n7              &             675 \\\\\\\\\\n14             &             655 \\\\\\\\\\n49             &             646 \\\\\\\\\\n10             &             642 \\\\\\\\\\n34             &             628 \\\\\\\\\\n21             &             625 \\\\\\\\\\n3              &             618 \\\\\\\\\\n42             &             616 \\\\\\\\\\n23             &             602 \\\\\\\\\\n29             &             590 \\\\\\\\\\n16             &             572 \\\\\\\\\\n15             &             546 \\\\\\\\\\n37             &             501 \\\\\\\\\\n33             &             492 \\\\\\\\\\n26             &             418 \\\\\\\\\\n35             &             410 \\\\\\\\\\n11             &             392 \\\\\\\\\\n22             &             329 \\\\\\\\\\n25             &             312 \\\\\\\\\\n45             &             302 \\\\\\\\\\n41             &             170 \\\\\\\\\\n43             &             148 \\\\\\\\\\n20             &             108 \\\\\\\\\\n\\\\bottomrule\\n\\\\end{tabular}\\n'"
      ]
     },
     "execution_count": 19,
     "metadata": {},
     "output_type": "execute_result"
    }
   ],
   "source": [
    "topics.groupby('dominant_topic')['dominant_topic'].count().sort_values(ascending=False).to_latex()"
   ]
  },
  {
   "cell_type": "code",
   "execution_count": 1,
   "metadata": {},
   "outputs": [],
   "source": [
    "import pandas as pd"
   ]
  },
  {
   "cell_type": "code",
   "execution_count": 2,
   "metadata": {},
   "outputs": [],
   "source": [
    "df = pd.read_csv('VARD2_topics.csv', sep='\\t', index_col=0)"
   ]
  },
  {
   "cell_type": "code",
   "execution_count": 5,
   "metadata": {},
   "outputs": [
    {
     "data": {
      "text/plain": [
       "['topic 0',\n",
       " 'topic 1',\n",
       " 'topic 2',\n",
       " 'topic 3',\n",
       " 'topic 4',\n",
       " 'topic 5',\n",
       " 'topic 6',\n",
       " 'topic 7',\n",
       " 'topic 8',\n",
       " 'topic 9',\n",
       " 'topic 10',\n",
       " 'topic 11',\n",
       " 'topic 12',\n",
       " 'topic 13',\n",
       " 'topic 14',\n",
       " 'topic 15',\n",
       " 'topic 16',\n",
       " 'topic 17',\n",
       " 'topic 18',\n",
       " 'topic 19',\n",
       " 'topic 20',\n",
       " 'topic 21',\n",
       " 'topic 22',\n",
       " 'topic 23',\n",
       " 'topic 24',\n",
       " 'topic 25',\n",
       " 'topic 26',\n",
       " 'topic 27',\n",
       " 'topic 28',\n",
       " 'topic 29',\n",
       " 'topic 30',\n",
       " 'topic 31',\n",
       " 'topic 32',\n",
       " 'topic 33',\n",
       " 'topic 34',\n",
       " 'topic 35',\n",
       " 'topic 36',\n",
       " 'topic 37',\n",
       " 'topic 38',\n",
       " 'topic 39',\n",
       " 'topic 40',\n",
       " 'topic 41',\n",
       " 'topic 42',\n",
       " 'topic 43',\n",
       " 'topic 44',\n",
       " 'topic 45',\n",
       " 'topic 46',\n",
       " 'topic 47',\n",
       " 'topic 48',\n",
       " 'topic 49']"
      ]
     },
     "execution_count": 5,
     "metadata": {},
     "output_type": "execute_result"
    }
   ],
   "source": [
    "col_list= list(df)\n",
    "col_list.remove('id')\n",
    "col_list"
   ]
  },
  {
   "cell_type": "code",
   "execution_count": 6,
   "metadata": {},
   "outputs": [],
   "source": [
    "df['sum'] = df[col_list].sum(axis=1)"
   ]
  },
  {
   "cell_type": "code",
   "execution_count": 7,
   "metadata": {},
   "outputs": [
    {
     "data": {
      "text/html": [
       "<div>\n",
       "<style scoped>\n",
       "    .dataframe tbody tr th:only-of-type {\n",
       "        vertical-align: middle;\n",
       "    }\n",
       "\n",
       "    .dataframe tbody tr th {\n",
       "        vertical-align: top;\n",
       "    }\n",
       "\n",
       "    .dataframe thead th {\n",
       "        text-align: right;\n",
       "    }\n",
       "</style>\n",
       "<table border=\"1\" class=\"dataframe\">\n",
       "  <thead>\n",
       "    <tr style=\"text-align: right;\">\n",
       "      <th></th>\n",
       "      <th>id</th>\n",
       "      <th>topic 0</th>\n",
       "      <th>topic 1</th>\n",
       "      <th>topic 2</th>\n",
       "      <th>topic 3</th>\n",
       "      <th>topic 4</th>\n",
       "      <th>topic 5</th>\n",
       "      <th>topic 6</th>\n",
       "      <th>topic 7</th>\n",
       "      <th>topic 8</th>\n",
       "      <th>...</th>\n",
       "      <th>topic 41</th>\n",
       "      <th>topic 42</th>\n",
       "      <th>topic 43</th>\n",
       "      <th>topic 44</th>\n",
       "      <th>topic 45</th>\n",
       "      <th>topic 46</th>\n",
       "      <th>topic 47</th>\n",
       "      <th>topic 48</th>\n",
       "      <th>topic 49</th>\n",
       "      <th>sum</th>\n",
       "    </tr>\n",
       "  </thead>\n",
       "  <tbody>\n",
       "    <tr>\n",
       "      <th>0</th>\n",
       "      <td>186989</td>\n",
       "      <td>0.001133</td>\n",
       "      <td>0.000460</td>\n",
       "      <td>0.000571</td>\n",
       "      <td>0.001334</td>\n",
       "      <td>0.000532</td>\n",
       "      <td>0.000356</td>\n",
       "      <td>0.000333</td>\n",
       "      <td>0.167554</td>\n",
       "      <td>0.000240</td>\n",
       "      <td>...</td>\n",
       "      <td>0.000077</td>\n",
       "      <td>0.000629</td>\n",
       "      <td>0.000034</td>\n",
       "      <td>0.000330</td>\n",
       "      <td>0.000058</td>\n",
       "      <td>0.000728</td>\n",
       "      <td>0.000524</td>\n",
       "      <td>0.015967</td>\n",
       "      <td>0.000897</td>\n",
       "      <td>1.0</td>\n",
       "    </tr>\n",
       "    <tr>\n",
       "      <th>1</th>\n",
       "      <td>3644</td>\n",
       "      <td>0.000609</td>\n",
       "      <td>0.000247</td>\n",
       "      <td>0.081496</td>\n",
       "      <td>0.041311</td>\n",
       "      <td>0.000286</td>\n",
       "      <td>0.000191</td>\n",
       "      <td>0.000179</td>\n",
       "      <td>0.000706</td>\n",
       "      <td>0.633403</td>\n",
       "      <td>...</td>\n",
       "      <td>0.000041</td>\n",
       "      <td>0.000338</td>\n",
       "      <td>0.000018</td>\n",
       "      <td>0.000177</td>\n",
       "      <td>0.000031</td>\n",
       "      <td>0.008510</td>\n",
       "      <td>0.000282</td>\n",
       "      <td>0.000459</td>\n",
       "      <td>0.000482</td>\n",
       "      <td>1.0</td>\n",
       "    </tr>\n",
       "    <tr>\n",
       "      <th>2</th>\n",
       "      <td>38949</td>\n",
       "      <td>0.000580</td>\n",
       "      <td>0.038945</td>\n",
       "      <td>0.000292</td>\n",
       "      <td>0.008425</td>\n",
       "      <td>0.000272</td>\n",
       "      <td>0.000183</td>\n",
       "      <td>0.000170</td>\n",
       "      <td>0.000673</td>\n",
       "      <td>0.000123</td>\n",
       "      <td>...</td>\n",
       "      <td>0.000039</td>\n",
       "      <td>0.000322</td>\n",
       "      <td>0.000017</td>\n",
       "      <td>0.000169</td>\n",
       "      <td>0.000030</td>\n",
       "      <td>0.000373</td>\n",
       "      <td>0.000268</td>\n",
       "      <td>0.000438</td>\n",
       "      <td>0.000459</td>\n",
       "      <td>1.0</td>\n",
       "    </tr>\n",
       "    <tr>\n",
       "      <th>3</th>\n",
       "      <td>114233</td>\n",
       "      <td>0.091450</td>\n",
       "      <td>0.000276</td>\n",
       "      <td>0.000343</td>\n",
       "      <td>0.000801</td>\n",
       "      <td>0.463242</td>\n",
       "      <td>0.000214</td>\n",
       "      <td>0.000200</td>\n",
       "      <td>0.000789</td>\n",
       "      <td>0.000144</td>\n",
       "      <td>...</td>\n",
       "      <td>0.000046</td>\n",
       "      <td>0.000378</td>\n",
       "      <td>0.000020</td>\n",
       "      <td>0.000198</td>\n",
       "      <td>0.000035</td>\n",
       "      <td>0.000437</td>\n",
       "      <td>0.000315</td>\n",
       "      <td>0.254667</td>\n",
       "      <td>0.009615</td>\n",
       "      <td>1.0</td>\n",
       "    </tr>\n",
       "    <tr>\n",
       "      <th>4</th>\n",
       "      <td>19987</td>\n",
       "      <td>0.000727</td>\n",
       "      <td>0.000295</td>\n",
       "      <td>0.000366</td>\n",
       "      <td>0.000856</td>\n",
       "      <td>0.000341</td>\n",
       "      <td>0.000229</td>\n",
       "      <td>0.000213</td>\n",
       "      <td>0.000843</td>\n",
       "      <td>0.000154</td>\n",
       "      <td>...</td>\n",
       "      <td>0.000049</td>\n",
       "      <td>0.000403</td>\n",
       "      <td>0.978993</td>\n",
       "      <td>0.000212</td>\n",
       "      <td>0.000037</td>\n",
       "      <td>0.000467</td>\n",
       "      <td>0.000336</td>\n",
       "      <td>0.000548</td>\n",
       "      <td>0.000575</td>\n",
       "      <td>1.0</td>\n",
       "    </tr>\n",
       "  </tbody>\n",
       "</table>\n",
       "<p>5 rows × 52 columns</p>\n",
       "</div>"
      ],
      "text/plain": [
       "       id   topic 0   topic 1   topic 2   topic 3   topic 4   topic 5  \\\n",
       "0  186989  0.001133  0.000460  0.000571  0.001334  0.000532  0.000356   \n",
       "1    3644  0.000609  0.000247  0.081496  0.041311  0.000286  0.000191   \n",
       "2   38949  0.000580  0.038945  0.000292  0.008425  0.000272  0.000183   \n",
       "3  114233  0.091450  0.000276  0.000343  0.000801  0.463242  0.000214   \n",
       "4   19987  0.000727  0.000295  0.000366  0.000856  0.000341  0.000229   \n",
       "\n",
       "    topic 6   topic 7   topic 8 ...   topic 41  topic 42  topic 43  topic 44  \\\n",
       "0  0.000333  0.167554  0.000240 ...   0.000077  0.000629  0.000034  0.000330   \n",
       "1  0.000179  0.000706  0.633403 ...   0.000041  0.000338  0.000018  0.000177   \n",
       "2  0.000170  0.000673  0.000123 ...   0.000039  0.000322  0.000017  0.000169   \n",
       "3  0.000200  0.000789  0.000144 ...   0.000046  0.000378  0.000020  0.000198   \n",
       "4  0.000213  0.000843  0.000154 ...   0.000049  0.000403  0.978993  0.000212   \n",
       "\n",
       "   topic 45  topic 46  topic 47  topic 48  topic 49  sum  \n",
       "0  0.000058  0.000728  0.000524  0.015967  0.000897  1.0  \n",
       "1  0.000031  0.008510  0.000282  0.000459  0.000482  1.0  \n",
       "2  0.000030  0.000373  0.000268  0.000438  0.000459  1.0  \n",
       "3  0.000035  0.000437  0.000315  0.254667  0.009615  1.0  \n",
       "4  0.000037  0.000467  0.000336  0.000548  0.000575  1.0  \n",
       "\n",
       "[5 rows x 52 columns]"
      ]
     },
     "execution_count": 7,
     "metadata": {},
     "output_type": "execute_result"
    }
   ],
   "source": [
    "df.head()"
   ]
  },
  {
   "cell_type": "code",
   "execution_count": null,
   "metadata": {},
   "outputs": [],
   "source": []
  }
 ],
 "metadata": {
  "kernelspec": {
   "display_name": "Python 3",
   "language": "python",
   "name": "python3"
  },
  "language_info": {
   "codemirror_mode": {
    "name": "ipython",
    "version": 3
   },
   "file_extension": ".py",
   "mimetype": "text/x-python",
   "name": "python",
   "nbconvert_exporter": "python",
   "pygments_lexer": "ipython3",
   "version": "3.6.8"
  }
 },
 "nbformat": 4,
 "nbformat_minor": 2
}
