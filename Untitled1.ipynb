{
 "cells": [
  {
   "cell_type": "code",
   "execution_count": 1,
   "metadata": {},
   "outputs": [],
   "source": [
    "import sys\n",
    "sys.path.append('scripts')\n",
    "import argparse\n",
    "import os\n",
    "\n",
    "\n",
    "import lxml.etree\n",
    "import nltk\n",
    "import pandas as pd\n",
    "from utils import is_punct\n",
    "\n",
    "TOKENIZER = nltk.tokenize.word_tokenize"
   ]
  },
  {
   "cell_type": "code",
   "execution_count": 2,
   "metadata": {},
   "outputs": [
    {
     "data": {
      "text/plain": [
       "(29590, 6)"
      ]
     },
     "execution_count": 2,
     "metadata": {},
     "output_type": "execute_result"
    }
   ],
   "source": [
    "songs = pd.read_csv('data/songs.csv', sep='\\t', index_col=0)\n",
    "songs.shape"
   ]
  },
  {
   "cell_type": "code",
   "execution_count": 3,
   "metadata": {},
   "outputs": [
    {
     "data": {
      "text/plain": [
       "(22297, 6)"
      ]
     },
     "execution_count": 3,
     "metadata": {},
     "output_type": "execute_result"
    }
   ],
   "source": [
    "songs_timeset = songs[(songs['year'] >= 1550) & (songs['year'] <= 1750)]\n",
    "songs_timeset.shape"
   ]
  },
  {
   "cell_type": "code",
   "execution_count": 4,
   "metadata": {},
   "outputs": [
    {
     "data": {
      "text/plain": [
       "(203249, 6)"
      ]
     },
     "execution_count": 4,
     "metadata": {},
     "output_type": "execute_result"
    }
   ],
   "source": [
    "nlb = pd.read_csv('data/nlb.csv', sep=',')\n",
    "nlb.shape"
   ]
  },
  {
   "cell_type": "code",
   "execution_count": 5,
   "metadata": {},
   "outputs": [
    {
     "data": {
      "text/plain": [
       "(81571, 6)"
      ]
     },
     "execution_count": 5,
     "metadata": {},
     "output_type": "execute_result"
    }
   ],
   "source": [
    "nlb_timeset = nlb[(nlb['jaar_begin'] >= 1550) & (nlb['jaar_begin'] <= 1750)]\n",
    "nlb_timeset.shape"
   ]
  },
  {
   "cell_type": "code",
   "execution_count": 6,
   "metadata": {},
   "outputs": [
    {
     "data": {
      "text/plain": [
       "Index(['recordid', 'incnormid', 'bronid', 'w_g', 'herdrukid', 'jaar_begin'], dtype='object')"
      ]
     },
     "execution_count": 6,
     "metadata": {},
     "output_type": "execute_result"
    }
   ],
   "source": [
    "nlb_timeset.columns"
   ]
  },
  {
   "cell_type": "code",
   "execution_count": 43,
   "metadata": {},
   "outputs": [
    {
     "name": "stdout",
     "output_type": "stream",
     "text": [
      "58445\n",
      "38076\n"
     ]
    }
   ],
   "source": [
    "print(nlb_timeset['recordid'].nunique())\n",
    "print(nlb_timeset['incnormid'].nunique())"
   ]
  },
  {
   "cell_type": "code",
   "execution_count": 44,
   "metadata": {},
   "outputs": [
    {
     "data": {
      "text/plain": [
       "Index(['category', 'id', 'lat', 'location', 'lon', 'year'], dtype='object')"
      ]
     },
     "execution_count": 44,
     "metadata": {},
     "output_type": "execute_result"
    }
   ],
   "source": [
    "songs_timeset.columns"
   ]
  },
  {
   "cell_type": "code",
   "execution_count": 45,
   "metadata": {},
   "outputs": [
    {
     "data": {
      "text/html": [
       "<div>\n",
       "<style scoped>\n",
       "    .dataframe tbody tr th:only-of-type {\n",
       "        vertical-align: middle;\n",
       "    }\n",
       "\n",
       "    .dataframe tbody tr th {\n",
       "        vertical-align: top;\n",
       "    }\n",
       "\n",
       "    .dataframe thead th {\n",
       "        text-align: right;\n",
       "    }\n",
       "</style>\n",
       "<table border=\"1\" class=\"dataframe\">\n",
       "  <thead>\n",
       "    <tr style=\"text-align: right;\">\n",
       "      <th></th>\n",
       "      <th>recordid</th>\n",
       "      <th>incnormid</th>\n",
       "      <th>bronid</th>\n",
       "      <th>w_g</th>\n",
       "      <th>herdrukid</th>\n",
       "      <th>jaar_begin</th>\n",
       "    </tr>\n",
       "  </thead>\n",
       "  <tbody>\n",
       "    <tr>\n",
       "      <th>0</th>\n",
       "      <td>1</td>\n",
       "      <td>37966.0</td>\n",
       "      <td>1000604</td>\n",
       "      <td>wereldlijk</td>\n",
       "      <td>NaN</td>\n",
       "      <td>1643.0</td>\n",
       "    </tr>\n",
       "    <tr>\n",
       "      <th>1</th>\n",
       "      <td>2</td>\n",
       "      <td>36901.0</td>\n",
       "      <td>1000604</td>\n",
       "      <td>wereldlijk</td>\n",
       "      <td>NaN</td>\n",
       "      <td>1643.0</td>\n",
       "    </tr>\n",
       "    <tr>\n",
       "      <th>2</th>\n",
       "      <td>3</td>\n",
       "      <td>43989.0</td>\n",
       "      <td>1000604</td>\n",
       "      <td>wereldlijk</td>\n",
       "      <td>NaN</td>\n",
       "      <td>1643.0</td>\n",
       "    </tr>\n",
       "    <tr>\n",
       "      <th>3</th>\n",
       "      <td>4</td>\n",
       "      <td>38005.0</td>\n",
       "      <td>1000604</td>\n",
       "      <td>wereldlijk</td>\n",
       "      <td>NaN</td>\n",
       "      <td>1643.0</td>\n",
       "    </tr>\n",
       "    <tr>\n",
       "      <th>4</th>\n",
       "      <td>5</td>\n",
       "      <td>3505.0</td>\n",
       "      <td>1000604</td>\n",
       "      <td>wereldlijk</td>\n",
       "      <td>NaN</td>\n",
       "      <td>1643.0</td>\n",
       "    </tr>\n",
       "  </tbody>\n",
       "</table>\n",
       "</div>"
      ],
      "text/plain": [
       "   recordid  incnormid   bronid         w_g  herdrukid  jaar_begin\n",
       "0         1    37966.0  1000604  wereldlijk        NaN      1643.0\n",
       "1         2    36901.0  1000604  wereldlijk        NaN      1643.0\n",
       "2         3    43989.0  1000604  wereldlijk        NaN      1643.0\n",
       "3         4    38005.0  1000604  wereldlijk        NaN      1643.0\n",
       "4         5     3505.0  1000604  wereldlijk        NaN      1643.0"
      ]
     },
     "execution_count": 45,
     "metadata": {},
     "output_type": "execute_result"
    }
   ],
   "source": [
    "nlb_timeset.head()"
   ]
  },
  {
   "cell_type": "code",
   "execution_count": 46,
   "metadata": {},
   "outputs": [
    {
     "data": {
      "text/html": [
       "<div>\n",
       "<style scoped>\n",
       "    .dataframe tbody tr th:only-of-type {\n",
       "        vertical-align: middle;\n",
       "    }\n",
       "\n",
       "    .dataframe tbody tr th {\n",
       "        vertical-align: top;\n",
       "    }\n",
       "\n",
       "    .dataframe thead th {\n",
       "        text-align: right;\n",
       "    }\n",
       "</style>\n",
       "<table border=\"1\" class=\"dataframe\">\n",
       "  <thead>\n",
       "    <tr style=\"text-align: right;\">\n",
       "      <th></th>\n",
       "      <th>category</th>\n",
       "      <th>id</th>\n",
       "      <th>lat</th>\n",
       "      <th>location</th>\n",
       "      <th>lon</th>\n",
       "      <th>year</th>\n",
       "    </tr>\n",
       "  </thead>\n",
       "  <tbody>\n",
       "    <tr>\n",
       "      <th>0</th>\n",
       "      <td>amusement</td>\n",
       "      <td>115588</td>\n",
       "      <td>None</td>\n",
       "      <td>None</td>\n",
       "      <td>None</td>\n",
       "      <td>1694</td>\n",
       "    </tr>\n",
       "    <tr>\n",
       "      <th>2</th>\n",
       "      <td>love and sex</td>\n",
       "      <td>37007</td>\n",
       "      <td>50.8465573</td>\n",
       "      <td>Brussels, Belgium</td>\n",
       "      <td>4.351697</td>\n",
       "      <td>1677</td>\n",
       "    </tr>\n",
       "    <tr>\n",
       "      <th>3</th>\n",
       "      <td>love and sex</td>\n",
       "      <td>27214</td>\n",
       "      <td>51.7958812</td>\n",
       "      <td>Dordrecht, The Netherlands</td>\n",
       "      <td>4.6779351</td>\n",
       "      <td>1598</td>\n",
       "    </tr>\n",
       "    <tr>\n",
       "      <th>4</th>\n",
       "      <td>None</td>\n",
       "      <td>191688</td>\n",
       "      <td>51.2211097</td>\n",
       "      <td>Antwerp, Belgium</td>\n",
       "      <td>4.3997081</td>\n",
       "      <td>1722</td>\n",
       "    </tr>\n",
       "    <tr>\n",
       "      <th>5</th>\n",
       "      <td>seasons and annual events</td>\n",
       "      <td>111936</td>\n",
       "      <td>52.3745403</td>\n",
       "      <td>Amsterdam, The Netherlands</td>\n",
       "      <td>4.89797550561798</td>\n",
       "      <td>1650</td>\n",
       "    </tr>\n",
       "  </tbody>\n",
       "</table>\n",
       "</div>"
      ],
      "text/plain": [
       "                    category      id         lat                    location  \\\n",
       "0                  amusement  115588        None                        None   \n",
       "2               love and sex   37007  50.8465573           Brussels, Belgium   \n",
       "3               love and sex   27214  51.7958812  Dordrecht, The Netherlands   \n",
       "4                       None  191688  51.2211097            Antwerp, Belgium   \n",
       "5  seasons and annual events  111936  52.3745403  Amsterdam, The Netherlands   \n",
       "\n",
       "                lon  year  \n",
       "0              None  1694  \n",
       "2          4.351697  1677  \n",
       "3         4.6779351  1598  \n",
       "4         4.3997081  1722  \n",
       "5  4.89797550561798  1650  "
      ]
     },
     "execution_count": 46,
     "metadata": {},
     "output_type": "execute_result"
    }
   ],
   "source": [
    "songs_timeset.head()"
   ]
  },
  {
   "cell_type": "code",
   "execution_count": 47,
   "metadata": {},
   "outputs": [],
   "source": [
    "allsongs = pd.merge(songs_timeset, nlb_timeset, left_on='id', right_on='recordid', how='left')"
   ]
  },
  {
   "cell_type": "code",
   "execution_count": 48,
   "metadata": {},
   "outputs": [
    {
     "data": {
      "text/plain": [
       "Index(['category', 'id', 'lat', 'location', 'lon', 'year', 'recordid',\n",
       "       'incnormid', 'bronid', 'w_g', 'herdrukid', 'jaar_begin'],\n",
       "      dtype='object')"
      ]
     },
     "execution_count": 48,
     "metadata": {},
     "output_type": "execute_result"
    }
   ],
   "source": [
    "allsongs.columns"
   ]
  },
  {
   "cell_type": "code",
   "execution_count": 91,
   "metadata": {},
   "outputs": [
    {
     "data": {
      "text/html": [
       "<div>\n",
       "<style scoped>\n",
       "    .dataframe tbody tr th:only-of-type {\n",
       "        vertical-align: middle;\n",
       "    }\n",
       "\n",
       "    .dataframe tbody tr th {\n",
       "        vertical-align: top;\n",
       "    }\n",
       "\n",
       "    .dataframe thead th {\n",
       "        text-align: right;\n",
       "    }\n",
       "</style>\n",
       "<table border=\"1\" class=\"dataframe\">\n",
       "  <thead>\n",
       "    <tr style=\"text-align: right;\">\n",
       "      <th></th>\n",
       "      <th>category</th>\n",
       "      <th>id</th>\n",
       "      <th>location</th>\n",
       "      <th>incnormid</th>\n",
       "      <th>herdrukid</th>\n",
       "      <th>jaar_begin</th>\n",
       "    </tr>\n",
       "  </thead>\n",
       "  <tbody>\n",
       "    <tr>\n",
       "      <th>0</th>\n",
       "      <td>amusement</td>\n",
       "      <td>115588</td>\n",
       "      <td>None</td>\n",
       "      <td>7020.0</td>\n",
       "      <td>920847.0</td>\n",
       "      <td>1708.0</td>\n",
       "    </tr>\n",
       "    <tr>\n",
       "      <th>1</th>\n",
       "      <td>amusement</td>\n",
       "      <td>115588</td>\n",
       "      <td>None</td>\n",
       "      <td>7020.0</td>\n",
       "      <td>NaN</td>\n",
       "      <td>1694.0</td>\n",
       "    </tr>\n",
       "    <tr>\n",
       "      <th>2</th>\n",
       "      <td>love and sex</td>\n",
       "      <td>37007</td>\n",
       "      <td>Brussels, Belgium</td>\n",
       "      <td>11846.0</td>\n",
       "      <td>915670.0</td>\n",
       "      <td>1684.0</td>\n",
       "    </tr>\n",
       "    <tr>\n",
       "      <th>3</th>\n",
       "      <td>love and sex</td>\n",
       "      <td>37007</td>\n",
       "      <td>Brussels, Belgium</td>\n",
       "      <td>11846.0</td>\n",
       "      <td>NaN</td>\n",
       "      <td>1677.0</td>\n",
       "    </tr>\n",
       "    <tr>\n",
       "      <th>4</th>\n",
       "      <td>love and sex</td>\n",
       "      <td>27214</td>\n",
       "      <td>Dordrecht, The Netherlands</td>\n",
       "      <td>27800.0</td>\n",
       "      <td>NaN</td>\n",
       "      <td>1598.0</td>\n",
       "    </tr>\n",
       "    <tr>\n",
       "      <th>5</th>\n",
       "      <td>None</td>\n",
       "      <td>191688</td>\n",
       "      <td>Antwerp, Belgium</td>\n",
       "      <td>34576.0</td>\n",
       "      <td>NaN</td>\n",
       "      <td>1722.0</td>\n",
       "    </tr>\n",
       "    <tr>\n",
       "      <th>6</th>\n",
       "      <td>seasons and annual events</td>\n",
       "      <td>111936</td>\n",
       "      <td>Amsterdam, The Netherlands</td>\n",
       "      <td>20878.0</td>\n",
       "      <td>NaN</td>\n",
       "      <td>1650.0</td>\n",
       "    </tr>\n",
       "    <tr>\n",
       "      <th>7</th>\n",
       "      <td>None</td>\n",
       "      <td>182192</td>\n",
       "      <td>Amsterdam, The Netherlands</td>\n",
       "      <td>54942.0</td>\n",
       "      <td>917566.0</td>\n",
       "      <td>1746.0</td>\n",
       "    </tr>\n",
       "    <tr>\n",
       "      <th>8</th>\n",
       "      <td>None</td>\n",
       "      <td>182192</td>\n",
       "      <td>Amsterdam, The Netherlands</td>\n",
       "      <td>54942.0</td>\n",
       "      <td>NaN</td>\n",
       "      <td>1737.0</td>\n",
       "    </tr>\n",
       "    <tr>\n",
       "      <th>9</th>\n",
       "      <td>love and sex</td>\n",
       "      <td>130720</td>\n",
       "      <td>Amsterdam, The Netherlands</td>\n",
       "      <td>22834.0</td>\n",
       "      <td>912657.0</td>\n",
       "      <td>1750.0</td>\n",
       "    </tr>\n",
       "    <tr>\n",
       "      <th>10</th>\n",
       "      <td>love and sex</td>\n",
       "      <td>130720</td>\n",
       "      <td>Amsterdam, The Netherlands</td>\n",
       "      <td>22834.0</td>\n",
       "      <td>920189.0</td>\n",
       "      <td>1745.0</td>\n",
       "    </tr>\n",
       "    <tr>\n",
       "      <th>11</th>\n",
       "      <td>love and sex</td>\n",
       "      <td>130720</td>\n",
       "      <td>Amsterdam, The Netherlands</td>\n",
       "      <td>22834.0</td>\n",
       "      <td>927025.0</td>\n",
       "      <td>1712.0</td>\n",
       "    </tr>\n",
       "    <tr>\n",
       "      <th>12</th>\n",
       "      <td>love and sex</td>\n",
       "      <td>130720</td>\n",
       "      <td>Amsterdam, The Netherlands</td>\n",
       "      <td>22834.0</td>\n",
       "      <td>NaN</td>\n",
       "      <td>1711.0</td>\n",
       "    </tr>\n",
       "    <tr>\n",
       "      <th>13</th>\n",
       "      <td>None</td>\n",
       "      <td>159796</td>\n",
       "      <td>None</td>\n",
       "      <td>22847.0</td>\n",
       "      <td>NaN</td>\n",
       "      <td>1700.0</td>\n",
       "    </tr>\n",
       "    <tr>\n",
       "      <th>14</th>\n",
       "      <td>None</td>\n",
       "      <td>178758</td>\n",
       "      <td>Amsterdam, The Netherlands</td>\n",
       "      <td>63929.0</td>\n",
       "      <td>923987.0</td>\n",
       "      <td>1736.0</td>\n",
       "    </tr>\n",
       "    <tr>\n",
       "      <th>15</th>\n",
       "      <td>None</td>\n",
       "      <td>178758</td>\n",
       "      <td>Amsterdam, The Netherlands</td>\n",
       "      <td>63929.0</td>\n",
       "      <td>NaN</td>\n",
       "      <td>1714.0</td>\n",
       "    </tr>\n",
       "    <tr>\n",
       "      <th>16</th>\n",
       "      <td>None</td>\n",
       "      <td>185825</td>\n",
       "      <td>Leuven, Belgium</td>\n",
       "      <td>80214.0</td>\n",
       "      <td>NaN</td>\n",
       "      <td>1605.0</td>\n",
       "    </tr>\n",
       "    <tr>\n",
       "      <th>17</th>\n",
       "      <td>religion</td>\n",
       "      <td>9914</td>\n",
       "      <td>Haarlem, The Netherlands</td>\n",
       "      <td>8992.0</td>\n",
       "      <td>905698.0</td>\n",
       "      <td>1598.0</td>\n",
       "    </tr>\n",
       "    <tr>\n",
       "      <th>18</th>\n",
       "      <td>religion</td>\n",
       "      <td>9914</td>\n",
       "      <td>Haarlem, The Netherlands</td>\n",
       "      <td>8992.0</td>\n",
       "      <td>905699.0</td>\n",
       "      <td>1598.0</td>\n",
       "    </tr>\n",
       "    <tr>\n",
       "      <th>19</th>\n",
       "      <td>religion</td>\n",
       "      <td>9914</td>\n",
       "      <td>Haarlem, The Netherlands</td>\n",
       "      <td>8992.0</td>\n",
       "      <td>913635.0</td>\n",
       "      <td>1601.0</td>\n",
       "    </tr>\n",
       "  </tbody>\n",
       "</table>\n",
       "</div>"
      ],
      "text/plain": [
       "                     category      id                    location  incnormid  \\\n",
       "0                   amusement  115588                        None     7020.0   \n",
       "1                   amusement  115588                        None     7020.0   \n",
       "2                love and sex   37007           Brussels, Belgium    11846.0   \n",
       "3                love and sex   37007           Brussels, Belgium    11846.0   \n",
       "4                love and sex   27214  Dordrecht, The Netherlands    27800.0   \n",
       "5                        None  191688            Antwerp, Belgium    34576.0   \n",
       "6   seasons and annual events  111936  Amsterdam, The Netherlands    20878.0   \n",
       "7                        None  182192  Amsterdam, The Netherlands    54942.0   \n",
       "8                        None  182192  Amsterdam, The Netherlands    54942.0   \n",
       "9                love and sex  130720  Amsterdam, The Netherlands    22834.0   \n",
       "10               love and sex  130720  Amsterdam, The Netherlands    22834.0   \n",
       "11               love and sex  130720  Amsterdam, The Netherlands    22834.0   \n",
       "12               love and sex  130720  Amsterdam, The Netherlands    22834.0   \n",
       "13                       None  159796                        None    22847.0   \n",
       "14                       None  178758  Amsterdam, The Netherlands    63929.0   \n",
       "15                       None  178758  Amsterdam, The Netherlands    63929.0   \n",
       "16                       None  185825             Leuven, Belgium    80214.0   \n",
       "17                   religion    9914    Haarlem, The Netherlands     8992.0   \n",
       "18                   religion    9914    Haarlem, The Netherlands     8992.0   \n",
       "19                   religion    9914    Haarlem, The Netherlands     8992.0   \n",
       "\n",
       "    herdrukid  jaar_begin  \n",
       "0    920847.0      1708.0  \n",
       "1         NaN      1694.0  \n",
       "2    915670.0      1684.0  \n",
       "3         NaN      1677.0  \n",
       "4         NaN      1598.0  \n",
       "5         NaN      1722.0  \n",
       "6         NaN      1650.0  \n",
       "7    917566.0      1746.0  \n",
       "8         NaN      1737.0  \n",
       "9    912657.0      1750.0  \n",
       "10   920189.0      1745.0  \n",
       "11   927025.0      1712.0  \n",
       "12        NaN      1711.0  \n",
       "13        NaN      1700.0  \n",
       "14   923987.0      1736.0  \n",
       "15        NaN      1714.0  \n",
       "16        NaN      1605.0  \n",
       "17   905698.0      1598.0  \n",
       "18   905699.0      1598.0  \n",
       "19   913635.0      1601.0  "
      ]
     },
     "execution_count": 91,
     "metadata": {},
     "output_type": "execute_result"
    }
   ],
   "source": [
    "allsongs.head(20)"
   ]
  },
  {
   "cell_type": "code",
   "execution_count": 52,
   "metadata": {},
   "outputs": [
    {
     "name": "stdout",
     "output_type": "stream",
     "text": [
      "22297\n",
      "18915\n",
      "13650\n"
     ]
    }
   ],
   "source": [
    "print(allsongs['recordid'].nunique())\n",
    "print(allsongs['incnormid'].nunique())\n",
    "print(allsongs['herdrukid'].nunique())"
   ]
  },
  {
   "cell_type": "code",
   "execution_count": 58,
   "metadata": {},
   "outputs": [],
   "source": [
    "allsongs = allsongs.drop(columns=['recordid', 'lat', 'lon', 'w_g', 'year', 'bronid', ])"
   ]
  },
  {
   "cell_type": "code",
   "execution_count": 81,
   "metadata": {},
   "outputs": [],
   "source": [
    "import matplotlib.pyplot as plt\n",
    "plt.style.use('seaborn-whitegrid')\n",
    "import seaborn as sns"
   ]
  },
  {
   "cell_type": "code",
   "execution_count": 90,
   "metadata": {},
   "outputs": [
    {
     "name": "stderr",
     "output_type": "stream",
     "text": [
      "/Users/alielassche/anaconda3/lib/python3.6/site-packages/matplotlib/axes/_axes.py:6499: MatplotlibDeprecationWarning: \n",
      "The 'normed' kwarg was deprecated in Matplotlib 2.1 and will be removed in 3.1. Use 'density' instead.\n",
      "  alternative=\"'density'\", removal=\"3.1\")\n"
     ]
    },
    {
     "data": {
      "text/plain": [
       "<matplotlib.axes._subplots.AxesSubplot at 0x1a25db9da0>"
      ]
     },
     "execution_count": 90,
     "metadata": {},
     "output_type": "execute_result"
    },
    {
     "data": {
      "image/png": "[encoded data removed]",
      "text/plain": [
       "<Figure size 432x288 with 1 Axes>"
      ]
     },
     "metadata": {},
     "output_type": "display_data"
    }
   ],
   "source": [
    "sns.distplot(allsongs['jaar_begin'], kde=False, bins=100)\n",
    "#plt.savefig('histyear_timeset.png', dpi=300)"
   ]
  },
  {
   "cell_type": "code",
   "execution_count": 85,
   "metadata": {},
   "outputs": [],
   "source": [
    "categories = allsongs.groupby('category')['id'].count().sort_values(ascending=False)"
   ]
  },
  {
   "cell_type": "code",
   "execution_count": 86,
   "metadata": {},
   "outputs": [
    {
     "name": "stdout",
     "output_type": "stream",
     "text": [
      "\\begin{tabular}{lr}\n",
      "\\toprule\n",
      "{} &     id \\\\\n",
      "category                  &        \\\\\n",
      "\\midrule\n",
      "religion                  &  13666 \\\\\n",
      "None                      &   9116 \\\\\n",
      "love and sex              &   4402 \\\\\n",
      "seasons and annual events &   1726 \\\\\n",
      "emotions                  &   1488 \\\\\n",
      "formal genres             &   1249 \\\\\n",
      "amusement                 &    998 \\\\\n",
      "politics and history      &    969 \\\\\n",
      "narratives                &    810 \\\\\n",
      "cycle of life             &    777 \\\\\n",
      "groups                    &    250 \\\\\n",
      "children                  &    159 \\\\\n",
      "occasions                 &    158 \\\\\n",
      "theatre                   &     90 \\\\\n",
      "work                      &     87 \\\\\n",
      "miscellaneous             &      2 \\\\\n",
      "\\bottomrule\n",
      "\\end{tabular}\n",
      "\n"
     ]
    }
   ],
   "source": [
    "print(categories.to_latex())"
   ]
  },
  {
   "cell_type": "code",
   "execution_count": 70,
   "metadata": {},
   "outputs": [],
   "source": [
    "allsongs_extended = pd.merge(allsongs, nlb_timeset, on='incnormid', how='inner')"
   ]
  },
  {
   "cell_type": "code",
   "execution_count": 71,
   "metadata": {},
   "outputs": [
    {
     "data": {
      "text/plain": [
       "(197046, 11)"
      ]
     },
     "execution_count": 71,
     "metadata": {},
     "output_type": "execute_result"
    }
   ],
   "source": [
    "allsongs_extended.shape"
   ]
  },
  {
   "cell_type": "code",
   "execution_count": 92,
   "metadata": {},
   "outputs": [
    {
     "data": {
      "text/html": [
       "<div>\n",
       "<style scoped>\n",
       "    .dataframe tbody tr th:only-of-type {\n",
       "        vertical-align: middle;\n",
       "    }\n",
       "\n",
       "    .dataframe tbody tr th {\n",
       "        vertical-align: top;\n",
       "    }\n",
       "\n",
       "    .dataframe thead th {\n",
       "        text-align: right;\n",
       "    }\n",
       "</style>\n",
       "<table border=\"1\" class=\"dataframe\">\n",
       "  <thead>\n",
       "    <tr style=\"text-align: right;\">\n",
       "      <th></th>\n",
       "      <th>category</th>\n",
       "      <th>location</th>\n",
       "      <th>incnormid</th>\n",
       "      <th>recordid</th>\n",
       "      <th>bronid</th>\n",
       "      <th>w_g</th>\n",
       "      <th>herdrukid_y</th>\n",
       "      <th>jaar_begin_y</th>\n",
       "    </tr>\n",
       "  </thead>\n",
       "  <tbody>\n",
       "    <tr>\n",
       "      <th>0</th>\n",
       "      <td>amusement</td>\n",
       "      <td>None</td>\n",
       "      <td>7020.0</td>\n",
       "      <td>115588</td>\n",
       "      <td>1017316</td>\n",
       "      <td>wereldlijk</td>\n",
       "      <td>920847.0</td>\n",
       "      <td>1708.0</td>\n",
       "    </tr>\n",
       "    <tr>\n",
       "      <th>1</th>\n",
       "      <td>amusement</td>\n",
       "      <td>None</td>\n",
       "      <td>7020.0</td>\n",
       "      <td>115588</td>\n",
       "      <td>1001155</td>\n",
       "      <td>wereldlijk</td>\n",
       "      <td>NaN</td>\n",
       "      <td>1694.0</td>\n",
       "    </tr>\n",
       "    <tr>\n",
       "      <th>2</th>\n",
       "      <td>amusement</td>\n",
       "      <td>None</td>\n",
       "      <td>7020.0</td>\n",
       "      <td>115588</td>\n",
       "      <td>1017316</td>\n",
       "      <td>wereldlijk</td>\n",
       "      <td>920847.0</td>\n",
       "      <td>1708.0</td>\n",
       "    </tr>\n",
       "    <tr>\n",
       "      <th>3</th>\n",
       "      <td>amusement</td>\n",
       "      <td>None</td>\n",
       "      <td>7020.0</td>\n",
       "      <td>115588</td>\n",
       "      <td>1001155</td>\n",
       "      <td>wereldlijk</td>\n",
       "      <td>NaN</td>\n",
       "      <td>1694.0</td>\n",
       "    </tr>\n",
       "    <tr>\n",
       "      <th>4</th>\n",
       "      <td>love and sex</td>\n",
       "      <td>Brussels, Belgium</td>\n",
       "      <td>11846.0</td>\n",
       "      <td>37007</td>\n",
       "      <td>1015612</td>\n",
       "      <td>wereldlijk</td>\n",
       "      <td>915670.0</td>\n",
       "      <td>1684.0</td>\n",
       "    </tr>\n",
       "    <tr>\n",
       "      <th>5</th>\n",
       "      <td>love and sex</td>\n",
       "      <td>Brussels, Belgium</td>\n",
       "      <td>11846.0</td>\n",
       "      <td>182211</td>\n",
       "      <td>1016495</td>\n",
       "      <td>wereldlijk</td>\n",
       "      <td>NaN</td>\n",
       "      <td>1737.0</td>\n",
       "    </tr>\n",
       "    <tr>\n",
       "      <th>6</th>\n",
       "      <td>love and sex</td>\n",
       "      <td>Brussels, Belgium</td>\n",
       "      <td>11846.0</td>\n",
       "      <td>196177</td>\n",
       "      <td>1019501</td>\n",
       "      <td>wereldlijk</td>\n",
       "      <td>NaN</td>\n",
       "      <td>1750.0</td>\n",
       "    </tr>\n",
       "    <tr>\n",
       "      <th>7</th>\n",
       "      <td>love and sex</td>\n",
       "      <td>Brussels, Belgium</td>\n",
       "      <td>11846.0</td>\n",
       "      <td>37007</td>\n",
       "      <td>1001870</td>\n",
       "      <td>wereldlijk</td>\n",
       "      <td>NaN</td>\n",
       "      <td>1677.0</td>\n",
       "    </tr>\n",
       "    <tr>\n",
       "      <th>8</th>\n",
       "      <td>love and sex</td>\n",
       "      <td>Brussels, Belgium</td>\n",
       "      <td>11846.0</td>\n",
       "      <td>37007</td>\n",
       "      <td>1015612</td>\n",
       "      <td>wereldlijk</td>\n",
       "      <td>915670.0</td>\n",
       "      <td>1684.0</td>\n",
       "    </tr>\n",
       "    <tr>\n",
       "      <th>9</th>\n",
       "      <td>love and sex</td>\n",
       "      <td>Brussels, Belgium</td>\n",
       "      <td>11846.0</td>\n",
       "      <td>182211</td>\n",
       "      <td>1016495</td>\n",
       "      <td>wereldlijk</td>\n",
       "      <td>NaN</td>\n",
       "      <td>1737.0</td>\n",
       "    </tr>\n",
       "    <tr>\n",
       "      <th>10</th>\n",
       "      <td>love and sex</td>\n",
       "      <td>Brussels, Belgium</td>\n",
       "      <td>11846.0</td>\n",
       "      <td>196177</td>\n",
       "      <td>1019501</td>\n",
       "      <td>wereldlijk</td>\n",
       "      <td>NaN</td>\n",
       "      <td>1750.0</td>\n",
       "    </tr>\n",
       "    <tr>\n",
       "      <th>11</th>\n",
       "      <td>love and sex</td>\n",
       "      <td>Brussels, Belgium</td>\n",
       "      <td>11846.0</td>\n",
       "      <td>37007</td>\n",
       "      <td>1001870</td>\n",
       "      <td>wereldlijk</td>\n",
       "      <td>NaN</td>\n",
       "      <td>1677.0</td>\n",
       "    </tr>\n",
       "    <tr>\n",
       "      <th>12</th>\n",
       "      <td>None</td>\n",
       "      <td>Amsterdam, The Netherlands</td>\n",
       "      <td>11846.0</td>\n",
       "      <td>37007</td>\n",
       "      <td>1015612</td>\n",
       "      <td>wereldlijk</td>\n",
       "      <td>915670.0</td>\n",
       "      <td>1684.0</td>\n",
       "    </tr>\n",
       "    <tr>\n",
       "      <th>13</th>\n",
       "      <td>None</td>\n",
       "      <td>Amsterdam, The Netherlands</td>\n",
       "      <td>11846.0</td>\n",
       "      <td>182211</td>\n",
       "      <td>1016495</td>\n",
       "      <td>wereldlijk</td>\n",
       "      <td>NaN</td>\n",
       "      <td>1737.0</td>\n",
       "    </tr>\n",
       "    <tr>\n",
       "      <th>14</th>\n",
       "      <td>None</td>\n",
       "      <td>Amsterdam, The Netherlands</td>\n",
       "      <td>11846.0</td>\n",
       "      <td>196177</td>\n",
       "      <td>1019501</td>\n",
       "      <td>wereldlijk</td>\n",
       "      <td>NaN</td>\n",
       "      <td>1750.0</td>\n",
       "    </tr>\n",
       "    <tr>\n",
       "      <th>15</th>\n",
       "      <td>None</td>\n",
       "      <td>Amsterdam, The Netherlands</td>\n",
       "      <td>11846.0</td>\n",
       "      <td>37007</td>\n",
       "      <td>1001870</td>\n",
       "      <td>wereldlijk</td>\n",
       "      <td>NaN</td>\n",
       "      <td>1677.0</td>\n",
       "    </tr>\n",
       "    <tr>\n",
       "      <th>16</th>\n",
       "      <td>love and sex</td>\n",
       "      <td>Dordrecht, The Netherlands</td>\n",
       "      <td>27800.0</td>\n",
       "      <td>11083</td>\n",
       "      <td>1011277</td>\n",
       "      <td>wereldlijk</td>\n",
       "      <td>921727.0</td>\n",
       "      <td>1607.0</td>\n",
       "    </tr>\n",
       "    <tr>\n",
       "      <th>17</th>\n",
       "      <td>love and sex</td>\n",
       "      <td>Dordrecht, The Netherlands</td>\n",
       "      <td>27800.0</td>\n",
       "      <td>11083</td>\n",
       "      <td>1011278</td>\n",
       "      <td>wereldlijk</td>\n",
       "      <td>921803.0</td>\n",
       "      <td>1604.0</td>\n",
       "    </tr>\n",
       "    <tr>\n",
       "      <th>18</th>\n",
       "      <td>love and sex</td>\n",
       "      <td>Dordrecht, The Netherlands</td>\n",
       "      <td>27800.0</td>\n",
       "      <td>11083</td>\n",
       "      <td>1015701</td>\n",
       "      <td>wereldlijk</td>\n",
       "      <td>921883.0</td>\n",
       "      <td>1610.0</td>\n",
       "    </tr>\n",
       "    <tr>\n",
       "      <th>19</th>\n",
       "      <td>love and sex</td>\n",
       "      <td>Dordrecht, The Netherlands</td>\n",
       "      <td>27800.0</td>\n",
       "      <td>27214</td>\n",
       "      <td>1007038</td>\n",
       "      <td>wereldlijk</td>\n",
       "      <td>NaN</td>\n",
       "      <td>1598.0</td>\n",
       "    </tr>\n",
       "  </tbody>\n",
       "</table>\n",
       "</div>"
      ],
      "text/plain": [
       "        category                    location  incnormid  recordid   bronid  \\\n",
       "0      amusement                        None     7020.0    115588  1017316   \n",
       "1      amusement                        None     7020.0    115588  1001155   \n",
       "2      amusement                        None     7020.0    115588  1017316   \n",
       "3      amusement                        None     7020.0    115588  1001155   \n",
       "4   love and sex           Brussels, Belgium    11846.0     37007  1015612   \n",
       "5   love and sex           Brussels, Belgium    11846.0    182211  1016495   \n",
       "6   love and sex           Brussels, Belgium    11846.0    196177  1019501   \n",
       "7   love and sex           Brussels, Belgium    11846.0     37007  1001870   \n",
       "8   love and sex           Brussels, Belgium    11846.0     37007  1015612   \n",
       "9   love and sex           Brussels, Belgium    11846.0    182211  1016495   \n",
       "10  love and sex           Brussels, Belgium    11846.0    196177  1019501   \n",
       "11  love and sex           Brussels, Belgium    11846.0     37007  1001870   \n",
       "12          None  Amsterdam, The Netherlands    11846.0     37007  1015612   \n",
       "13          None  Amsterdam, The Netherlands    11846.0    182211  1016495   \n",
       "14          None  Amsterdam, The Netherlands    11846.0    196177  1019501   \n",
       "15          None  Amsterdam, The Netherlands    11846.0     37007  1001870   \n",
       "16  love and sex  Dordrecht, The Netherlands    27800.0     11083  1011277   \n",
       "17  love and sex  Dordrecht, The Netherlands    27800.0     11083  1011278   \n",
       "18  love and sex  Dordrecht, The Netherlands    27800.0     11083  1015701   \n",
       "19  love and sex  Dordrecht, The Netherlands    27800.0     27214  1007038   \n",
       "\n",
       "           w_g  herdrukid_y  jaar_begin_y  \n",
       "0   wereldlijk     920847.0        1708.0  \n",
       "1   wereldlijk          NaN        1694.0  \n",
       "2   wereldlijk     920847.0        1708.0  \n",
       "3   wereldlijk          NaN        1694.0  \n",
       "4   wereldlijk     915670.0        1684.0  \n",
       "5   wereldlijk          NaN        1737.0  \n",
       "6   wereldlijk          NaN        1750.0  \n",
       "7   wereldlijk          NaN        1677.0  \n",
       "8   wereldlijk     915670.0        1684.0  \n",
       "9   wereldlijk          NaN        1737.0  \n",
       "10  wereldlijk          NaN        1750.0  \n",
       "11  wereldlijk          NaN        1677.0  \n",
       "12  wereldlijk     915670.0        1684.0  \n",
       "13  wereldlijk          NaN        1737.0  \n",
       "14  wereldlijk          NaN        1750.0  \n",
       "15  wereldlijk          NaN        1677.0  \n",
       "16  wereldlijk     921727.0        1607.0  \n",
       "17  wereldlijk     921803.0        1604.0  \n",
       "18  wereldlijk     921883.0        1610.0  \n",
       "19  wereldlijk          NaN        1598.0  "
      ]
     },
     "execution_count": 92,
     "metadata": {},
     "output_type": "execute_result"
    }
   ],
   "source": [
    "allsongs_extended.head(20)"
   ]
  },
  {
   "cell_type": "code",
   "execution_count": 73,
   "metadata": {},
   "outputs": [],
   "source": [
    "allsongs_extended = allsongs_extended.drop(columns=['herdrukid_x', 'jaar_begin_x', 'id'])"
   ]
  },
  {
   "cell_type": "code",
   "execution_count": 74,
   "metadata": {},
   "outputs": [
    {
     "name": "stdout",
     "output_type": "stream",
     "text": [
      "36806\n",
      "18915\n",
      "16386\n"
     ]
    }
   ],
   "source": [
    "print(allsongs_extended['recordid'].nunique())\n",
    "print(allsongs_extended['incnormid'].nunique())\n",
    "print(allsongs_extended['herdrukid_y'].nunique())"
   ]
  },
  {
   "cell_type": "code",
   "execution_count": 75,
   "metadata": {},
   "outputs": [
    {
     "data": {
      "text/plain": [
       "category            0\n",
       "location            0\n",
       "incnormid           0\n",
       "recordid            0\n",
       "bronid              0\n",
       "w_g              1534\n",
       "herdrukid_y     82155\n",
       "jaar_begin_y        0\n",
       "dtype: int64"
      ]
     },
     "execution_count": 75,
     "metadata": {},
     "output_type": "execute_result"
    }
   ],
   "source": [
    "allsongs_extended.isna().sum()"
   ]
  },
  {
   "cell_type": "code",
   "execution_count": 76,
   "metadata": {},
   "outputs": [
    {
     "data": {
      "text/plain": [
       "(197046, 8)"
      ]
     },
     "execution_count": 76,
     "metadata": {},
     "output_type": "execute_result"
    }
   ],
   "source": [
    "allsongs_extended.shape"
   ]
  },
  {
   "cell_type": "code",
   "execution_count": 77,
   "metadata": {},
   "outputs": [],
   "source": [
    "dd = allsongs_extended.drop_duplicates(keep='first')"
   ]
  },
  {
   "cell_type": "code",
   "execution_count": 78,
   "metadata": {},
   "outputs": [
    {
     "data": {
      "text/plain": [
       "(74692, 8)"
      ]
     },
     "execution_count": 78,
     "metadata": {},
     "output_type": "execute_result"
    }
   ],
   "source": [
    "dd.shape"
   ]
  },
  {
   "cell_type": "code",
   "execution_count": 80,
   "metadata": {},
   "outputs": [
    {
     "data": {
      "text/html": [
       "<div>\n",
       "<style scoped>\n",
       "    .dataframe tbody tr th:only-of-type {\n",
       "        vertical-align: middle;\n",
       "    }\n",
       "\n",
       "    .dataframe tbody tr th {\n",
       "        vertical-align: top;\n",
       "    }\n",
       "\n",
       "    .dataframe thead th {\n",
       "        text-align: right;\n",
       "    }\n",
       "</style>\n",
       "<table border=\"1\" class=\"dataframe\">\n",
       "  <thead>\n",
       "    <tr style=\"text-align: right;\">\n",
       "      <th></th>\n",
       "      <th>category</th>\n",
       "      <th>location</th>\n",
       "      <th>incnormid</th>\n",
       "      <th>recordid</th>\n",
       "      <th>bronid</th>\n",
       "      <th>w_g</th>\n",
       "      <th>herdrukid_y</th>\n",
       "      <th>jaar_begin_y</th>\n",
       "    </tr>\n",
       "  </thead>\n",
       "  <tbody>\n",
       "    <tr>\n",
       "      <th>0</th>\n",
       "      <td>amusement</td>\n",
       "      <td>None</td>\n",
       "      <td>7020.0</td>\n",
       "      <td>115588</td>\n",
       "      <td>1017316</td>\n",
       "      <td>wereldlijk</td>\n",
       "      <td>920847.0</td>\n",
       "      <td>1708.0</td>\n",
       "    </tr>\n",
       "    <tr>\n",
       "      <th>1</th>\n",
       "      <td>amusement</td>\n",
       "      <td>None</td>\n",
       "      <td>7020.0</td>\n",
       "      <td>115588</td>\n",
       "      <td>1001155</td>\n",
       "      <td>wereldlijk</td>\n",
       "      <td>NaN</td>\n",
       "      <td>1694.0</td>\n",
       "    </tr>\n",
       "    <tr>\n",
       "      <th>4</th>\n",
       "      <td>love and sex</td>\n",
       "      <td>Brussels, Belgium</td>\n",
       "      <td>11846.0</td>\n",
       "      <td>37007</td>\n",
       "      <td>1015612</td>\n",
       "      <td>wereldlijk</td>\n",
       "      <td>915670.0</td>\n",
       "      <td>1684.0</td>\n",
       "    </tr>\n",
       "    <tr>\n",
       "      <th>5</th>\n",
       "      <td>love and sex</td>\n",
       "      <td>Brussels, Belgium</td>\n",
       "      <td>11846.0</td>\n",
       "      <td>182211</td>\n",
       "      <td>1016495</td>\n",
       "      <td>wereldlijk</td>\n",
       "      <td>NaN</td>\n",
       "      <td>1737.0</td>\n",
       "    </tr>\n",
       "    <tr>\n",
       "      <th>6</th>\n",
       "      <td>love and sex</td>\n",
       "      <td>Brussels, Belgium</td>\n",
       "      <td>11846.0</td>\n",
       "      <td>196177</td>\n",
       "      <td>1019501</td>\n",
       "      <td>wereldlijk</td>\n",
       "      <td>NaN</td>\n",
       "      <td>1750.0</td>\n",
       "    </tr>\n",
       "  </tbody>\n",
       "</table>\n",
       "</div>"
      ],
      "text/plain": [
       "       category           location  incnormid  recordid   bronid         w_g  \\\n",
       "0     amusement               None     7020.0    115588  1017316  wereldlijk   \n",
       "1     amusement               None     7020.0    115588  1001155  wereldlijk   \n",
       "4  love and sex  Brussels, Belgium    11846.0     37007  1015612  wereldlijk   \n",
       "5  love and sex  Brussels, Belgium    11846.0    182211  1016495  wereldlijk   \n",
       "6  love and sex  Brussels, Belgium    11846.0    196177  1019501  wereldlijk   \n",
       "\n",
       "   herdrukid_y  jaar_begin_y  \n",
       "0     920847.0        1708.0  \n",
       "1          NaN        1694.0  \n",
       "4     915670.0        1684.0  \n",
       "5          NaN        1737.0  \n",
       "6          NaN        1750.0  "
      ]
     },
     "execution_count": 80,
     "metadata": {},
     "output_type": "execute_result"
    }
   ],
   "source": [
    "dd.head()"
   ]
  },
  {
   "cell_type": "code",
   "execution_count": 79,
   "metadata": {},
   "outputs": [
    {
     "ename": "KeyError",
     "evalue": "'recordid_x'",
     "output_type": "error",
     "traceback": [
      "\u001b[0;31m---------------------------------------------------------------------------\u001b[0m",
      "\u001b[0;31mKeyError\u001b[0m                                  Traceback (most recent call last)",
      "\u001b[0;32m~/anaconda3/lib/python3.6/site-packages/pandas/core/indexes/base.py\u001b[0m in \u001b[0;36mget_loc\u001b[0;34m(self, key, method, tolerance)\u001b[0m\n\u001b[1;32m   3062\u001b[0m             \u001b[0;32mtry\u001b[0m\u001b[0;34m:\u001b[0m\u001b[0;34m\u001b[0m\u001b[0m\n\u001b[0;32m-> 3063\u001b[0;31m                 \u001b[0;32mreturn\u001b[0m \u001b[0mself\u001b[0m\u001b[0;34m.\u001b[0m\u001b[0m_engine\u001b[0m\u001b[0;34m.\u001b[0m\u001b[0mget_loc\u001b[0m\u001b[0;34m(\u001b[0m\u001b[0mkey\u001b[0m\u001b[0;34m)\u001b[0m\u001b[0;34m\u001b[0m\u001b[0m\n\u001b[0m\u001b[1;32m   3064\u001b[0m             \u001b[0;32mexcept\u001b[0m \u001b[0mKeyError\u001b[0m\u001b[0;34m:\u001b[0m\u001b[0;34m\u001b[0m\u001b[0m\n",
      "\u001b[0;32mpandas/_libs/index.pyx\u001b[0m in \u001b[0;36mpandas._libs.index.IndexEngine.get_loc\u001b[0;34m()\u001b[0m\n",
      "\u001b[0;32mpandas/_libs/index.pyx\u001b[0m in \u001b[0;36mpandas._libs.index.IndexEngine.get_loc\u001b[0;34m()\u001b[0m\n",
      "\u001b[0;32mpandas/_libs/hashtable_class_helper.pxi\u001b[0m in \u001b[0;36mpandas._libs.hashtable.PyObjectHashTable.get_item\u001b[0;34m()\u001b[0m\n",
      "\u001b[0;32mpandas/_libs/hashtable_class_helper.pxi\u001b[0m in \u001b[0;36mpandas._libs.hashtable.PyObjectHashTable.get_item\u001b[0;34m()\u001b[0m\n",
      "\u001b[0;31mKeyError\u001b[0m: 'recordid_x'",
      "\nDuring handling of the above exception, another exception occurred:\n",
      "\u001b[0;31mKeyError\u001b[0m                                  Traceback (most recent call last)",
      "\u001b[0;32m<ipython-input-79-799fab226eaf>\u001b[0m in \u001b[0;36m<module>\u001b[0;34m()\u001b[0m\n\u001b[0;32m----> 1\u001b[0;31m \u001b[0mprint\u001b[0m\u001b[0;34m(\u001b[0m\u001b[0mdd\u001b[0m\u001b[0;34m[\u001b[0m\u001b[0;34m'recordid_x'\u001b[0m\u001b[0;34m]\u001b[0m\u001b[0;34m.\u001b[0m\u001b[0mnunique\u001b[0m\u001b[0;34m(\u001b[0m\u001b[0;34m)\u001b[0m\u001b[0;34m)\u001b[0m\u001b[0;34m\u001b[0m\u001b[0m\n\u001b[0m\u001b[1;32m      2\u001b[0m \u001b[0mprint\u001b[0m\u001b[0;34m(\u001b[0m\u001b[0mdd\u001b[0m\u001b[0;34m[\u001b[0m\u001b[0;34m'recordid_y'\u001b[0m\u001b[0;34m]\u001b[0m\u001b[0;34m.\u001b[0m\u001b[0mnunique\u001b[0m\u001b[0;34m(\u001b[0m\u001b[0;34m)\u001b[0m\u001b[0;34m)\u001b[0m\u001b[0;34m\u001b[0m\u001b[0m\n\u001b[1;32m      3\u001b[0m \u001b[0mprint\u001b[0m\u001b[0;34m(\u001b[0m\u001b[0mdd\u001b[0m\u001b[0;34m[\u001b[0m\u001b[0;34m'incnormid'\u001b[0m\u001b[0;34m]\u001b[0m\u001b[0;34m.\u001b[0m\u001b[0mnunique\u001b[0m\u001b[0;34m(\u001b[0m\u001b[0;34m)\u001b[0m\u001b[0;34m)\u001b[0m\u001b[0;34m\u001b[0m\u001b[0m\n\u001b[1;32m      4\u001b[0m \u001b[0mprint\u001b[0m\u001b[0;34m(\u001b[0m\u001b[0mdd\u001b[0m\u001b[0;34m[\u001b[0m\u001b[0;34m'herdrukid_y'\u001b[0m\u001b[0;34m]\u001b[0m\u001b[0;34m.\u001b[0m\u001b[0mnunique\u001b[0m\u001b[0;34m(\u001b[0m\u001b[0;34m)\u001b[0m\u001b[0;34m)\u001b[0m\u001b[0;34m\u001b[0m\u001b[0m\n",
      "\u001b[0;32m~/anaconda3/lib/python3.6/site-packages/pandas/core/frame.py\u001b[0m in \u001b[0;36m__getitem__\u001b[0;34m(self, key)\u001b[0m\n\u001b[1;32m   2683\u001b[0m             \u001b[0;32mreturn\u001b[0m \u001b[0mself\u001b[0m\u001b[0;34m.\u001b[0m\u001b[0m_getitem_multilevel\u001b[0m\u001b[0;34m(\u001b[0m\u001b[0mkey\u001b[0m\u001b[0;34m)\u001b[0m\u001b[0;34m\u001b[0m\u001b[0m\n\u001b[1;32m   2684\u001b[0m         \u001b[0;32melse\u001b[0m\u001b[0;34m:\u001b[0m\u001b[0;34m\u001b[0m\u001b[0m\n\u001b[0;32m-> 2685\u001b[0;31m             \u001b[0;32mreturn\u001b[0m \u001b[0mself\u001b[0m\u001b[0;34m.\u001b[0m\u001b[0m_getitem_column\u001b[0m\u001b[0;34m(\u001b[0m\u001b[0mkey\u001b[0m\u001b[0;34m)\u001b[0m\u001b[0;34m\u001b[0m\u001b[0m\n\u001b[0m\u001b[1;32m   2686\u001b[0m \u001b[0;34m\u001b[0m\u001b[0m\n\u001b[1;32m   2687\u001b[0m     \u001b[0;32mdef\u001b[0m \u001b[0m_getitem_column\u001b[0m\u001b[0;34m(\u001b[0m\u001b[0mself\u001b[0m\u001b[0;34m,\u001b[0m \u001b[0mkey\u001b[0m\u001b[0;34m)\u001b[0m\u001b[0;34m:\u001b[0m\u001b[0;34m\u001b[0m\u001b[0m\n",
      "\u001b[0;32m~/anaconda3/lib/python3.6/site-packages/pandas/core/frame.py\u001b[0m in \u001b[0;36m_getitem_column\u001b[0;34m(self, key)\u001b[0m\n\u001b[1;32m   2690\u001b[0m         \u001b[0;31m# get column\u001b[0m\u001b[0;34m\u001b[0m\u001b[0;34m\u001b[0m\u001b[0m\n\u001b[1;32m   2691\u001b[0m         \u001b[0;32mif\u001b[0m \u001b[0mself\u001b[0m\u001b[0;34m.\u001b[0m\u001b[0mcolumns\u001b[0m\u001b[0;34m.\u001b[0m\u001b[0mis_unique\u001b[0m\u001b[0;34m:\u001b[0m\u001b[0;34m\u001b[0m\u001b[0m\n\u001b[0;32m-> 2692\u001b[0;31m             \u001b[0;32mreturn\u001b[0m \u001b[0mself\u001b[0m\u001b[0;34m.\u001b[0m\u001b[0m_get_item_cache\u001b[0m\u001b[0;34m(\u001b[0m\u001b[0mkey\u001b[0m\u001b[0;34m)\u001b[0m\u001b[0;34m\u001b[0m\u001b[0m\n\u001b[0m\u001b[1;32m   2693\u001b[0m \u001b[0;34m\u001b[0m\u001b[0m\n\u001b[1;32m   2694\u001b[0m         \u001b[0;31m# duplicate columns & possible reduce dimensionality\u001b[0m\u001b[0;34m\u001b[0m\u001b[0;34m\u001b[0m\u001b[0m\n",
      "\u001b[0;32m~/anaconda3/lib/python3.6/site-packages/pandas/core/generic.py\u001b[0m in \u001b[0;36m_get_item_cache\u001b[0;34m(self, item)\u001b[0m\n\u001b[1;32m   2484\u001b[0m         \u001b[0mres\u001b[0m \u001b[0;34m=\u001b[0m \u001b[0mcache\u001b[0m\u001b[0;34m.\u001b[0m\u001b[0mget\u001b[0m\u001b[0;34m(\u001b[0m\u001b[0mitem\u001b[0m\u001b[0;34m)\u001b[0m\u001b[0;34m\u001b[0m\u001b[0m\n\u001b[1;32m   2485\u001b[0m         \u001b[0;32mif\u001b[0m \u001b[0mres\u001b[0m \u001b[0;32mis\u001b[0m \u001b[0;32mNone\u001b[0m\u001b[0;34m:\u001b[0m\u001b[0;34m\u001b[0m\u001b[0m\n\u001b[0;32m-> 2486\u001b[0;31m             \u001b[0mvalues\u001b[0m \u001b[0;34m=\u001b[0m \u001b[0mself\u001b[0m\u001b[0;34m.\u001b[0m\u001b[0m_data\u001b[0m\u001b[0;34m.\u001b[0m\u001b[0mget\u001b[0m\u001b[0;34m(\u001b[0m\u001b[0mitem\u001b[0m\u001b[0;34m)\u001b[0m\u001b[0;34m\u001b[0m\u001b[0m\n\u001b[0m\u001b[1;32m   2487\u001b[0m             \u001b[0mres\u001b[0m \u001b[0;34m=\u001b[0m \u001b[0mself\u001b[0m\u001b[0;34m.\u001b[0m\u001b[0m_box_item_values\u001b[0m\u001b[0;34m(\u001b[0m\u001b[0mitem\u001b[0m\u001b[0;34m,\u001b[0m \u001b[0mvalues\u001b[0m\u001b[0;34m)\u001b[0m\u001b[0;34m\u001b[0m\u001b[0m\n\u001b[1;32m   2488\u001b[0m             \u001b[0mcache\u001b[0m\u001b[0;34m[\u001b[0m\u001b[0mitem\u001b[0m\u001b[0;34m]\u001b[0m \u001b[0;34m=\u001b[0m \u001b[0mres\u001b[0m\u001b[0;34m\u001b[0m\u001b[0m\n",
      "\u001b[0;32m~/anaconda3/lib/python3.6/site-packages/pandas/core/internals.py\u001b[0m in \u001b[0;36mget\u001b[0;34m(self, item, fastpath)\u001b[0m\n\u001b[1;32m   4113\u001b[0m \u001b[0;34m\u001b[0m\u001b[0m\n\u001b[1;32m   4114\u001b[0m             \u001b[0;32mif\u001b[0m \u001b[0;32mnot\u001b[0m \u001b[0misna\u001b[0m\u001b[0;34m(\u001b[0m\u001b[0mitem\u001b[0m\u001b[0;34m)\u001b[0m\u001b[0;34m:\u001b[0m\u001b[0;34m\u001b[0m\u001b[0m\n\u001b[0;32m-> 4115\u001b[0;31m                 \u001b[0mloc\u001b[0m \u001b[0;34m=\u001b[0m \u001b[0mself\u001b[0m\u001b[0;34m.\u001b[0m\u001b[0mitems\u001b[0m\u001b[0;34m.\u001b[0m\u001b[0mget_loc\u001b[0m\u001b[0;34m(\u001b[0m\u001b[0mitem\u001b[0m\u001b[0;34m)\u001b[0m\u001b[0;34m\u001b[0m\u001b[0m\n\u001b[0m\u001b[1;32m   4116\u001b[0m             \u001b[0;32melse\u001b[0m\u001b[0;34m:\u001b[0m\u001b[0;34m\u001b[0m\u001b[0m\n\u001b[1;32m   4117\u001b[0m                 \u001b[0mindexer\u001b[0m \u001b[0;34m=\u001b[0m \u001b[0mnp\u001b[0m\u001b[0;34m.\u001b[0m\u001b[0marange\u001b[0m\u001b[0;34m(\u001b[0m\u001b[0mlen\u001b[0m\u001b[0;34m(\u001b[0m\u001b[0mself\u001b[0m\u001b[0;34m.\u001b[0m\u001b[0mitems\u001b[0m\u001b[0;34m)\u001b[0m\u001b[0;34m)\u001b[0m\u001b[0;34m[\u001b[0m\u001b[0misna\u001b[0m\u001b[0;34m(\u001b[0m\u001b[0mself\u001b[0m\u001b[0;34m.\u001b[0m\u001b[0mitems\u001b[0m\u001b[0;34m)\u001b[0m\u001b[0;34m]\u001b[0m\u001b[0;34m\u001b[0m\u001b[0m\n",
      "\u001b[0;32m~/anaconda3/lib/python3.6/site-packages/pandas/core/indexes/base.py\u001b[0m in \u001b[0;36mget_loc\u001b[0;34m(self, key, method, tolerance)\u001b[0m\n\u001b[1;32m   3063\u001b[0m                 \u001b[0;32mreturn\u001b[0m \u001b[0mself\u001b[0m\u001b[0;34m.\u001b[0m\u001b[0m_engine\u001b[0m\u001b[0;34m.\u001b[0m\u001b[0mget_loc\u001b[0m\u001b[0;34m(\u001b[0m\u001b[0mkey\u001b[0m\u001b[0;34m)\u001b[0m\u001b[0;34m\u001b[0m\u001b[0m\n\u001b[1;32m   3064\u001b[0m             \u001b[0;32mexcept\u001b[0m \u001b[0mKeyError\u001b[0m\u001b[0;34m:\u001b[0m\u001b[0;34m\u001b[0m\u001b[0m\n\u001b[0;32m-> 3065\u001b[0;31m                 \u001b[0;32mreturn\u001b[0m \u001b[0mself\u001b[0m\u001b[0;34m.\u001b[0m\u001b[0m_engine\u001b[0m\u001b[0;34m.\u001b[0m\u001b[0mget_loc\u001b[0m\u001b[0;34m(\u001b[0m\u001b[0mself\u001b[0m\u001b[0;34m.\u001b[0m\u001b[0m_maybe_cast_indexer\u001b[0m\u001b[0;34m(\u001b[0m\u001b[0mkey\u001b[0m\u001b[0;34m)\u001b[0m\u001b[0;34m)\u001b[0m\u001b[0;34m\u001b[0m\u001b[0m\n\u001b[0m\u001b[1;32m   3066\u001b[0m \u001b[0;34m\u001b[0m\u001b[0m\n\u001b[1;32m   3067\u001b[0m         \u001b[0mindexer\u001b[0m \u001b[0;34m=\u001b[0m \u001b[0mself\u001b[0m\u001b[0;34m.\u001b[0m\u001b[0mget_indexer\u001b[0m\u001b[0;34m(\u001b[0m\u001b[0;34m[\u001b[0m\u001b[0mkey\u001b[0m\u001b[0;34m]\u001b[0m\u001b[0;34m,\u001b[0m \u001b[0mmethod\u001b[0m\u001b[0;34m=\u001b[0m\u001b[0mmethod\u001b[0m\u001b[0;34m,\u001b[0m \u001b[0mtolerance\u001b[0m\u001b[0;34m=\u001b[0m\u001b[0mtolerance\u001b[0m\u001b[0;34m)\u001b[0m\u001b[0;34m\u001b[0m\u001b[0m\n",
      "\u001b[0;32mpandas/_libs/index.pyx\u001b[0m in \u001b[0;36mpandas._libs.index.IndexEngine.get_loc\u001b[0;34m()\u001b[0m\n",
      "\u001b[0;32mpandas/_libs/index.pyx\u001b[0m in \u001b[0;36mpandas._libs.index.IndexEngine.get_loc\u001b[0;34m()\u001b[0m\n",
      "\u001b[0;32mpandas/_libs/hashtable_class_helper.pxi\u001b[0m in \u001b[0;36mpandas._libs.hashtable.PyObjectHashTable.get_item\u001b[0;34m()\u001b[0m\n",
      "\u001b[0;32mpandas/_libs/hashtable_class_helper.pxi\u001b[0m in \u001b[0;36mpandas._libs.hashtable.PyObjectHashTable.get_item\u001b[0;34m()\u001b[0m\n",
      "\u001b[0;31mKeyError\u001b[0m: 'recordid_x'"
     ]
    }
   ],
   "source": [
    "print(dd['recordid_x'].nunique())\n",
    "print(dd['recordid_y'].nunique())\n",
    "print(dd['incnormid'].nunique())\n",
    "print(dd['herdrukid_y'].nunique())"
   ]
  },
  {
   "cell_type": "code",
   "execution_count": null,
   "metadata": {},
   "outputs": [],
   "source": []
  }
 ],
 "metadata": {
  "kernelspec": {
   "display_name": "Python 3",
   "language": "python",
   "name": "python3"
  },
  "language_info": {
   "codemirror_mode": {
    "name": "ipython",
    "version": 3
   },
   "file_extension": ".py",
   "mimetype": "text/x-python",
   "name": "python",
   "nbconvert_exporter": "python",
   "pygments_lexer": "ipython3",
   "version": "3.6.5"
  }
 },
 "nbformat": 4,
 "nbformat_minor": 2
}
