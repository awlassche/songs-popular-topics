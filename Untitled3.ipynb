{
 "cells": [
  {
   "cell_type": "code",
   "execution_count": 1,
   "metadata": {},
   "outputs": [
    {
     "data": {
      "text/html": [
       "<div>\n",
       "<style scoped>\n",
       "    .dataframe tbody tr th:only-of-type {\n",
       "        vertical-align: middle;\n",
       "    }\n",
       "\n",
       "    .dataframe tbody tr th {\n",
       "        vertical-align: top;\n",
       "    }\n",
       "\n",
       "    .dataframe thead th {\n",
       "        text-align: right;\n",
       "    }\n",
       "</style>\n",
       "<table border=\"1\" class=\"dataframe\">\n",
       "  <thead>\n",
       "    <tr style=\"text-align: right;\">\n",
       "      <th></th>\n",
       "      <th>incnormid</th>\n",
       "      <th>recordid</th>\n",
       "      <th>bronid</th>\n",
       "      <th>w_g</th>\n",
       "      <th>herdrukid</th>\n",
       "      <th>year</th>\n",
       "      <th>top1</th>\n",
       "      <th>top2</th>\n",
       "      <th>top3</th>\n",
       "    </tr>\n",
       "  </thead>\n",
       "  <tbody>\n",
       "    <tr>\n",
       "      <th>0</th>\n",
       "      <td>4.0</td>\n",
       "      <td>118999</td>\n",
       "      <td>1001206</td>\n",
       "      <td>wereldlijk</td>\n",
       "      <td>NaN</td>\n",
       "      <td>1745.0</td>\n",
       "      <td>topic 45</td>\n",
       "      <td>topic 23</td>\n",
       "      <td>topic 29</td>\n",
       "    </tr>\n",
       "    <tr>\n",
       "      <th>1</th>\n",
       "      <td>7.0</td>\n",
       "      <td>111832</td>\n",
       "      <td>1001390</td>\n",
       "      <td>wereldlijk</td>\n",
       "      <td>NaN</td>\n",
       "      <td>1745.0</td>\n",
       "      <td>topic 23</td>\n",
       "      <td>topic 38</td>\n",
       "      <td>topic 11</td>\n",
       "    </tr>\n",
       "    <tr>\n",
       "      <th>2</th>\n",
       "      <td>7.0</td>\n",
       "      <td>136573</td>\n",
       "      <td>1001829</td>\n",
       "      <td>wereldlijk</td>\n",
       "      <td>NaN</td>\n",
       "      <td>1746.0</td>\n",
       "      <td>topic 23</td>\n",
       "      <td>topic 38</td>\n",
       "      <td>topic 11</td>\n",
       "    </tr>\n",
       "    <tr>\n",
       "      <th>3</th>\n",
       "      <td>13.0</td>\n",
       "      <td>19499</td>\n",
       "      <td>1000978</td>\n",
       "      <td>wereldlijk</td>\n",
       "      <td>NaN</td>\n",
       "      <td>1677.0</td>\n",
       "      <td>topic 34</td>\n",
       "      <td>topic 11</td>\n",
       "      <td>topic 38</td>\n",
       "    </tr>\n",
       "    <tr>\n",
       "      <th>4</th>\n",
       "      <td>53.0</td>\n",
       "      <td>20031</td>\n",
       "      <td>1001550</td>\n",
       "      <td>wereldlijk</td>\n",
       "      <td>928216.0</td>\n",
       "      <td>1654.0</td>\n",
       "      <td>topic 43</td>\n",
       "      <td>topic 45</td>\n",
       "      <td>topic 19</td>\n",
       "    </tr>\n",
       "  </tbody>\n",
       "</table>\n",
       "</div>"
      ],
      "text/plain": [
       "   incnormid  recordid   bronid         w_g  herdrukid    year      top1  \\\n",
       "0        4.0    118999  1001206  wereldlijk        NaN  1745.0  topic 45   \n",
       "1        7.0    111832  1001390  wereldlijk        NaN  1745.0  topic 23   \n",
       "2        7.0    136573  1001829  wereldlijk        NaN  1746.0  topic 23   \n",
       "3       13.0     19499  1000978  wereldlijk        NaN  1677.0  topic 34   \n",
       "4       53.0     20031  1001550  wereldlijk   928216.0  1654.0  topic 43   \n",
       "\n",
       "       top2      top3  \n",
       "0  topic 23  topic 29  \n",
       "1  topic 38  topic 11  \n",
       "2  topic 38  topic 11  \n",
       "3  topic 11  topic 38  \n",
       "4  topic 45  topic 19  "
      ]
     },
     "execution_count": 1,
     "metadata": {},
     "output_type": "execute_result"
    }
   ],
   "source": [
    "import pandas as pd\n",
    "top3topicsong = pd.read_csv('top3topics_allsongs.csv', sep='\\t', index_col=0)\n",
    "top3topicsong.head()"
   ]
  },
  {
   "cell_type": "code",
   "execution_count": 2,
   "metadata": {},
   "outputs": [],
   "source": [
    "import numpy as np\n",
    "\n",
    "groups = top3topicsong.groupby('year')\n",
    "\n",
    "year2index = {year: i for i, year in enumerate(sorted(top3topicsong.year.unique()))}\n",
    "X = np.zeros((top3topicsong.year.unique().size, 50))\n",
    "counts = groups['top1'].value_counts()\n",
    "for (year, topic), count in counts.iteritems():\n",
    "    topic = int(topic.replace('topic ', ''))\n",
    "    X[year2index[year], topic] += count\n",
    "turnovertop1 = np.array([x[::-1] for x in X.argsort(1)])"
   ]
  },
  {
   "cell_type": "code",
   "execution_count": 28,
   "metadata": {},
   "outputs": [
    {
     "data": {
      "text/plain": [
       "{1550.0: 0,\n",
       " 1551.0: 1,\n",
       " 1552.0: 2,\n",
       " 1553.0: 3,\n",
       " 1554.0: 4,\n",
       " 1556.0: 5,\n",
       " 1557.0: 6,\n",
       " 1558.0: 7,\n",
       " 1559.0: 8,\n",
       " 1560.0: 9,\n",
       " 1561.0: 10,\n",
       " 1562.0: 11,\n",
       " 1563.0: 12,\n",
       " 1564.0: 13,\n",
       " 1565.0: 14,\n",
       " 1566.0: 15,\n",
       " 1567.0: 16,\n",
       " 1568.0: 17,\n",
       " 1569.0: 18,\n",
       " 1570.0: 19,\n",
       " 1571.0: 20,\n",
       " 1572.0: 21,\n",
       " 1573.0: 22,\n",
       " 1574.0: 23,\n",
       " 1575.0: 24,\n",
       " 1576.0: 25,\n",
       " 1577.0: 26,\n",
       " 1578.0: 27,\n",
       " 1579.0: 28,\n",
       " 1580.0: 29,\n",
       " 1581.0: 30,\n",
       " 1582.0: 31,\n",
       " 1583.0: 32,\n",
       " 1584.0: 33,\n",
       " 1585.0: 34,\n",
       " 1586.0: 35,\n",
       " 1587.0: 36,\n",
       " 1588.0: 37,\n",
       " 1589.0: 38,\n",
       " 1590.0: 39,\n",
       " 1591.0: 40,\n",
       " 1592.0: 41,\n",
       " 1593.0: 42,\n",
       " 1594.0: 43,\n",
       " 1595.0: 44,\n",
       " 1596.0: 45,\n",
       " 1597.0: 46,\n",
       " 1598.0: 47,\n",
       " 1599.0: 48,\n",
       " 1600.0: 49,\n",
       " 1601.0: 50,\n",
       " 1602.0: 51,\n",
       " 1603.0: 52,\n",
       " 1604.0: 53,\n",
       " 1605.0: 54,\n",
       " 1607.0: 55,\n",
       " 1608.0: 56,\n",
       " 1609.0: 57,\n",
       " 1610.0: 58,\n",
       " 1611.0: 59,\n",
       " 1612.0: 60,\n",
       " 1613.0: 61,\n",
       " 1614.0: 62,\n",
       " 1615.0: 63,\n",
       " 1616.0: 64,\n",
       " 1617.0: 65,\n",
       " 1618.0: 66,\n",
       " 1619.0: 67,\n",
       " 1620.0: 68,\n",
       " 1621.0: 69,\n",
       " 1622.0: 70,\n",
       " 1623.0: 71,\n",
       " 1624.0: 72,\n",
       " 1625.0: 73,\n",
       " 1626.0: 74,\n",
       " 1627.0: 75,\n",
       " 1628.0: 76,\n",
       " 1629.0: 77,\n",
       " 1630.0: 78,\n",
       " 1631.0: 79,\n",
       " 1632.0: 80,\n",
       " 1633.0: 81,\n",
       " 1634.0: 82,\n",
       " 1635.0: 83,\n",
       " 1636.0: 84,\n",
       " 1637.0: 85,\n",
       " 1638.0: 86,\n",
       " 1639.0: 87,\n",
       " 1640.0: 88,\n",
       " 1641.0: 89,\n",
       " 1642.0: 90,\n",
       " 1643.0: 91,\n",
       " 1644.0: 92,\n",
       " 1645.0: 93,\n",
       " 1646.0: 94,\n",
       " 1647.0: 95,\n",
       " 1648.0: 96,\n",
       " 1649.0: 97,\n",
       " 1650.0: 98,\n",
       " 1651.0: 99,\n",
       " 1652.0: 100,\n",
       " 1653.0: 101,\n",
       " 1654.0: 102,\n",
       " 1655.0: 103,\n",
       " 1656.0: 104,\n",
       " 1657.0: 105,\n",
       " 1658.0: 106,\n",
       " 1659.0: 107,\n",
       " 1660.0: 108,\n",
       " 1661.0: 109,\n",
       " 1662.0: 110,\n",
       " 1663.0: 111,\n",
       " 1664.0: 112,\n",
       " 1665.0: 113,\n",
       " 1666.0: 114,\n",
       " 1667.0: 115,\n",
       " 1668.0: 116,\n",
       " 1669.0: 117,\n",
       " 1670.0: 118,\n",
       " 1671.0: 119,\n",
       " 1672.0: 120,\n",
       " 1673.0: 121,\n",
       " 1674.0: 122,\n",
       " 1675.0: 123,\n",
       " 1676.0: 124,\n",
       " 1677.0: 125,\n",
       " 1678.0: 126,\n",
       " 1679.0: 127,\n",
       " 1680.0: 128,\n",
       " 1681.0: 129,\n",
       " 1682.0: 130,\n",
       " 1683.0: 131,\n",
       " 1684.0: 132,\n",
       " 1685.0: 133,\n",
       " 1686.0: 134,\n",
       " 1687.0: 135,\n",
       " 1688.0: 136,\n",
       " 1689.0: 137,\n",
       " 1690.0: 138,\n",
       " 1692.0: 139,\n",
       " 1693.0: 140,\n",
       " 1694.0: 141,\n",
       " 1695.0: 142,\n",
       " 1696.0: 143,\n",
       " 1697.0: 144,\n",
       " 1698.0: 145,\n",
       " 1699.0: 146,\n",
       " 1700.0: 147,\n",
       " 1701.0: 148,\n",
       " 1702.0: 149,\n",
       " 1703.0: 150,\n",
       " 1704.0: 151,\n",
       " 1705.0: 152,\n",
       " 1706.0: 153,\n",
       " 1707.0: 154,\n",
       " 1708.0: 155,\n",
       " 1709.0: 156,\n",
       " 1710.0: 157,\n",
       " 1711.0: 158,\n",
       " 1712.0: 159,\n",
       " 1713.0: 160,\n",
       " 1714.0: 161,\n",
       " 1715.0: 162,\n",
       " 1716.0: 163,\n",
       " 1717.0: 164,\n",
       " 1718.0: 165,\n",
       " 1719.0: 166,\n",
       " 1720.0: 167,\n",
       " 1721.0: 168,\n",
       " 1722.0: 169,\n",
       " 1723.0: 170,\n",
       " 1724.0: 171,\n",
       " 1725.0: 172,\n",
       " 1727.0: 173,\n",
       " 1728.0: 174,\n",
       " 1730.0: 175,\n",
       " 1731.0: 176,\n",
       " 1732.0: 177,\n",
       " 1733.0: 178,\n",
       " 1734.0: 179,\n",
       " 1735.0: 180,\n",
       " 1736.0: 181,\n",
       " 1737.0: 182,\n",
       " 1738.0: 183,\n",
       " 1739.0: 184,\n",
       " 1740.0: 185,\n",
       " 1741.0: 186,\n",
       " 1742.0: 187,\n",
       " 1743.0: 188,\n",
       " 1744.0: 189,\n",
       " 1745.0: 190,\n",
       " 1746.0: 191,\n",
       " 1747.0: 192,\n",
       " 1748.0: 193,\n",
       " 1749.0: 194,\n",
       " 1750.0: 195}"
      ]
     },
     "execution_count": 28,
     "metadata": {},
     "output_type": "execute_result"
    }
   ],
   "source": [
    "year2index"
   ]
  },
  {
   "cell_type": "code",
   "execution_count": 3,
   "metadata": {},
   "outputs": [],
   "source": [
    "df_turnovertop1 = pd.DataFrame(turnovertop1)"
   ]
  },
  {
   "cell_type": "code",
   "execution_count": 4,
   "metadata": {},
   "outputs": [
    {
     "data": {
      "text/plain": [
       "(196, 50)"
      ]
     },
     "execution_count": 4,
     "metadata": {},
     "output_type": "execute_result"
    }
   ],
   "source": [
    "df_turnovertop1.shape"
   ]
  },
  {
   "cell_type": "code",
   "execution_count": 10,
   "metadata": {},
   "outputs": [],
   "source": [
    "cutoff3 = df_turnovertop1.iloc[:,0:3]"
   ]
  },
  {
   "cell_type": "code",
   "execution_count": 11,
   "metadata": {},
   "outputs": [
    {
     "data": {
      "text/html": [
       "<div>\n",
       "<style scoped>\n",
       "    .dataframe tbody tr th:only-of-type {\n",
       "        vertical-align: middle;\n",
       "    }\n",
       "\n",
       "    .dataframe tbody tr th {\n",
       "        vertical-align: top;\n",
       "    }\n",
       "\n",
       "    .dataframe thead th {\n",
       "        text-align: right;\n",
       "    }\n",
       "</style>\n",
       "<table border=\"1\" class=\"dataframe\">\n",
       "  <thead>\n",
       "    <tr style=\"text-align: right;\">\n",
       "      <th></th>\n",
       "      <th>0</th>\n",
       "      <th>1</th>\n",
       "      <th>2</th>\n",
       "    </tr>\n",
       "  </thead>\n",
       "  <tbody>\n",
       "    <tr>\n",
       "      <th>0</th>\n",
       "      <td>9</td>\n",
       "      <td>2</td>\n",
       "      <td>49</td>\n",
       "    </tr>\n",
       "    <tr>\n",
       "      <th>1</th>\n",
       "      <td>41</td>\n",
       "      <td>2</td>\n",
       "      <td>37</td>\n",
       "    </tr>\n",
       "    <tr>\n",
       "      <th>2</th>\n",
       "      <td>9</td>\n",
       "      <td>31</td>\n",
       "      <td>0</td>\n",
       "    </tr>\n",
       "    <tr>\n",
       "      <th>3</th>\n",
       "      <td>21</td>\n",
       "      <td>9</td>\n",
       "      <td>49</td>\n",
       "    </tr>\n",
       "    <tr>\n",
       "      <th>4</th>\n",
       "      <td>2</td>\n",
       "      <td>9</td>\n",
       "      <td>49</td>\n",
       "    </tr>\n",
       "  </tbody>\n",
       "</table>\n",
       "</div>"
      ],
      "text/plain": [
       "    0   1   2\n",
       "0   9   2  49\n",
       "1  41   2  37\n",
       "2   9  31   0\n",
       "3  21   9  49\n",
       "4   2   9  49"
      ]
     },
     "execution_count": 11,
     "metadata": {},
     "output_type": "execute_result"
    }
   ],
   "source": [
    "cutoff3.head()"
   ]
  },
  {
   "cell_type": "code",
   "execution_count": 5,
   "metadata": {},
   "outputs": [],
   "source": [
    "cutoff5 = df_turnovertop1[[0, 1, 2, 3, 4]].copy()\n",
    "cutoff10 = df_turnovertop1[[0, 1, 2, 3, 4, 5, 6, 7, 8, 9]].copy()"
   ]
  },
  {
   "cell_type": "code",
   "execution_count": 65,
   "metadata": {},
   "outputs": [
    {
     "data": {
      "text/plain": [
       "(196, 5)"
      ]
     },
     "execution_count": 65,
     "metadata": {},
     "output_type": "execute_result"
    }
   ],
   "source": [
    "cutoff.shape"
   ]
  },
  {
   "cell_type": "code",
   "execution_count": 19,
   "metadata": {},
   "outputs": [
    {
     "data": {
      "text/plain": [
       "0     {2, 9, 13, 49, 22}\n",
       "1     {2, 37, 41, 9, 24}\n",
       "2       {0, 2, 6, 9, 31}\n",
       "3    {9, 12, 49, 21, 22}\n",
       "4     {2, 9, 13, 49, 22}\n",
       "dtype: object"
      ]
     },
     "execution_count": 19,
     "metadata": {},
     "output_type": "execute_result"
    }
   ],
   "source": [
    "cutoff.apply(set, axis=1).head()"
   ]
  },
  {
   "cell_type": "code",
   "execution_count": 30,
   "metadata": {},
   "outputs": [],
   "source": [
    "def turnover1(df):\n",
    "\n",
    "    df = df.apply(set, axis=1)\n",
    "    turnovers = {}\n",
    "    for year in range(df.index.min() + 1, df.index.max() + 1):\n",
    "        name_set, prior_name_set = df.loc[year], df.loc[year - 1]\n",
    "        turnovers[year] = len(name_set.difference(prior_name_set))\n",
    "    return pd.Series(turnovers)"
   ]
  },
  {
   "cell_type": "code",
   "execution_count": null,
   "metadata": {},
   "outputs": [],
   "source": []
  },
  {
   "cell_type": "code",
   "execution_count": 47,
   "metadata": {},
   "outputs": [],
   "source": [
    "turnover_topics_5 = turnover1(cutoff5)"
   ]
  },
  {
   "cell_type": "code",
   "execution_count": 48,
   "metadata": {},
   "outputs": [
    {
     "data": {
      "text/plain": [
       "1      3\n",
       "2      3\n",
       "3      4\n",
       "4      2\n",
       "5      3\n",
       "6      2\n",
       "7      0\n",
       "8      1\n",
       "9      4\n",
       "10     3\n",
       "11     3\n",
       "12     1\n",
       "13     3\n",
       "14     3\n",
       "15     2\n",
       "16     1\n",
       "17     2\n",
       "18     3\n",
       "19     1\n",
       "20     3\n",
       "21     2\n",
       "22     1\n",
       "23     2\n",
       "24     3\n",
       "25     3\n",
       "26     3\n",
       "27     3\n",
       "28     2\n",
       "29     2\n",
       "30     3\n",
       "      ..\n",
       "166    3\n",
       "167    3\n",
       "168    2\n",
       "169    5\n",
       "170    5\n",
       "171    5\n",
       "172    5\n",
       "173    4\n",
       "174    5\n",
       "175    5\n",
       "176    2\n",
       "177    4\n",
       "178    4\n",
       "179    5\n",
       "180    5\n",
       "181    4\n",
       "182    3\n",
       "183    4\n",
       "184    4\n",
       "185    5\n",
       "186    3\n",
       "187    4\n",
       "188    5\n",
       "189    5\n",
       "190    2\n",
       "191    1\n",
       "192    3\n",
       "193    4\n",
       "194    4\n",
       "195    4\n",
       "Length: 195, dtype: int64"
      ]
     },
     "execution_count": 48,
     "metadata": {},
     "output_type": "execute_result"
    }
   ],
   "source": [
    "turnover_topics_5"
   ]
  },
  {
   "cell_type": "code",
   "execution_count": 49,
   "metadata": {},
   "outputs": [
    {
     "data": {
      "text/plain": [
       "3.5692307692307694"
      ]
     },
     "execution_count": 49,
     "metadata": {},
     "output_type": "execute_result"
    }
   ],
   "source": [
    "np.mean(turnover_topics_5)"
   ]
  },
  {
   "cell_type": "code",
   "execution_count": 70,
   "metadata": {},
   "outputs": [],
   "source": [
    "import matplotlib.pyplot as plt\n",
    "import seaborn as sns\n",
    "plt.style.use('seaborn-whitegrid')"
   ]
  },
  {
   "cell_type": "code",
   "execution_count": 102,
   "metadata": {},
   "outputs": [
    {
     "data": {
      "image/png": "[encoded data removed]",
      "text/plain": [
       "<Figure size 432x288 with 1 Axes>"
      ]
     },
     "metadata": {},
     "output_type": "display_data"
    }
   ],
   "source": [
    "turnover_topics_10.plot(style='o', ylim=(0.9, 10.1), alpha = 0.5)\n",
    "plt.rc('font', family='serif')\n",
    "plt.ylabel('Turnover')\n",
    "plt.xlabel('Years (starting at 1550)')\n",
    "plt.savefig('annualturnover10.pdf')"
   ]
  },
  {
   "cell_type": "code",
   "execution_count": 49,
   "metadata": {},
   "outputs": [
    {
     "data": {
      "image/png": "[encoded data removed]",
      "text/plain": [
       "<Figure size 432x288 with 1 Axes>"
      ]
     },
     "metadata": {},
     "output_type": "display_data"
    }
   ],
   "source": [
    "turnover_topics_10.plot(kind='hist')\n",
    "plt.savefig('histturnover10.pdf')"
   ]
  },
  {
   "cell_type": "code",
   "execution_count": 103,
   "metadata": {},
   "outputs": [
    {
     "data": {
      "image/png": "[encoded data removed]",
      "text/plain": [
       "<Figure size 432x288 with 1 Axes>"
      ]
     },
     "metadata": {},
     "output_type": "display_data"
    }
   ],
   "source": [
    "turnover_topics_5.plot(style='o', ylim=(0.9, 5.1), alpha = 0.5)\n",
    "plt.rc('font', family='serif')\n",
    "plt.ylabel('Turnover')\n",
    "plt.xlabel('Years (starting at 1550)')\n",
    "plt.savefig('annualturnover5.pdf')"
   ]
  },
  {
   "cell_type": "code",
   "execution_count": 51,
   "metadata": {},
   "outputs": [
    {
     "data": {
      "image/png": "[encoded data removed]",
      "text/plain": [
       "<Figure size 432x288 with 1 Axes>"
      ]
     },
     "metadata": {},
     "output_type": "display_data"
    }
   ],
   "source": [
    "turnover_topics_5.plot(kind='hist', xlim=(0, 5))\n",
    "plt.savefig('histturnover5.pdf')"
   ]
  },
  {
   "cell_type": "code",
   "execution_count": 96,
   "metadata": {},
   "outputs": [
    {
     "data": {
      "text/plain": [
       "<matplotlib.axes._subplots.AxesSubplot at 0x1a18f610f0>"
      ]
     },
     "execution_count": 96,
     "metadata": {},
     "output_type": "execute_result"
    },
    {
     "data": {
      "image/png": "[encoded data removed]",
      "text/plain": [
       "<Figure size 432x288 with 1 Axes>"
      ]
     },
     "metadata": {},
     "output_type": "display_data"
    }
   ],
   "source": [
    "tt_rm_10 = turnover_topics_10.rolling(10).mean()\n",
    "plt.rc('text', usetex=True)\n",
    "plt.rc('font', family='serif')\n",
    "plt.ylabel('Turnover')\n",
    "plt.xlabel('Years (starting at 1550)')\n",
    "tt_rm_10.plot()"
   ]
  },
  {
   "cell_type": "code",
   "execution_count": 95,
   "metadata": {},
   "outputs": [
    {
     "data": {
      "image/png": "[encoded data removed]",
      "text/plain": [
       "<Figure size 432x288 with 1 Axes>"
      ]
     },
     "metadata": {},
     "output_type": "display_data"
    }
   ],
   "source": [
    "tt_rm_10x = turnover_topics_10.rolling(20).mean()\n",
    "plt.rc('text', usetex=True)\n",
    "plt.rc('font', family='serif')\n",
    "plt.ylabel('Turnover')\n",
    "plt.xlabel('Years (starting at 1550)')\n",
    "tt_rm_10x.plot()\n",
    "plt.savefig('rolling10.pdf')"
   ]
  },
  {
   "cell_type": "code",
   "execution_count": 26,
   "metadata": {},
   "outputs": [],
   "source": [
    "complete = turnover(df_turnovertop1)"
   ]
  },
  {
   "cell_type": "code",
   "execution_count": 94,
   "metadata": {},
   "outputs": [
    {
     "data": {
      "text/plain": [
       "<matplotlib.axes._subplots.AxesSubplot at 0x1a17d70898>"
      ]
     },
     "execution_count": 94,
     "metadata": {},
     "output_type": "execute_result"
    },
    {
     "data": {
      "image/png": "[encoded data removed]",
      "text/plain": [
       "<Figure size 432x288 with 1 Axes>"
      ]
     },
     "metadata": {},
     "output_type": "display_data"
    }
   ],
   "source": [
    "tt_rm_5 = turnover_topics_5.rolling(10).mean()\n",
    "plt.rc('text', usetex=True)\n",
    "plt.rc('font', family='serif')\n",
    "plt.ylabel('Turnover')\n",
    "plt.xlabel('Years (starting at 1550)')\n",
    "tt_rm_5.plot()"
   ]
  },
  {
   "cell_type": "code",
   "execution_count": 93,
   "metadata": {},
   "outputs": [
    {
     "data": {
      "image/png": "[encoded data removed]",
      "text/plain": [
       "<Figure size 432x288 with 1 Axes>"
      ]
     },
     "metadata": {},
     "output_type": "display_data"
    }
   ],
   "source": [
    "tt_rm_5x = turnover_topics_5.rolling(20).mean()\n",
    "plt.rc('text', usetex=True)\n",
    "plt.rc('font', family='serif')\n",
    "plt.ylabel('Turnover')\n",
    "plt.xlabel('Years (starting at 1550)')\n",
    "tt_rm_5x.plot()\n",
    "plt.savefig('rolling5.pdf')"
   ]
  },
  {
   "cell_type": "code",
   "execution_count": 78,
   "metadata": {},
   "outputs": [
    {
     "ename": "AttributeError",
     "evalue": "'tuple' object has no attribute 'plt'",
     "output_type": "error",
     "traceback": [
      "\u001b[0;31m---------------------------------------------------------------------------\u001b[0m",
      "\u001b[0;31mAttributeError\u001b[0m                            Traceback (most recent call last)",
      "\u001b[0;32m<ipython-input-78-e2d2aed0326a>\u001b[0m in \u001b[0;36m<module>\u001b[0;34m()\u001b[0m\n\u001b[1;32m      4\u001b[0m     \u001b[0mavg_turnover\u001b[0m \u001b[0;34m=\u001b[0m \u001b[0mnp\u001b[0m\u001b[0;34m.\u001b[0m\u001b[0mmean\u001b[0m\u001b[0;34m(\u001b[0m\u001b[0mturnover\u001b[0m\u001b[0;34m(\u001b[0m\u001b[0mcutoff10\u001b[0m\u001b[0;34m)\u001b[0m\u001b[0;34m)\u001b[0m \u001b[0;31m# bereken alle turnovers met i als topsize en neem de mean\u001b[0m\u001b[0;34m\u001b[0m\u001b[0m\n\u001b[1;32m      5\u001b[0m     \u001b[0mscores\u001b[0m\u001b[0;34m.\u001b[0m\u001b[0mappend\u001b[0m\u001b[0;34m(\u001b[0m\u001b[0mavg_turnover\u001b[0m\u001b[0;34m)\u001b[0m\u001b[0;34m\u001b[0m\u001b[0m\n\u001b[0;32m----> 6\u001b[0;31m \u001b[0;34m(\u001b[0m\u001b[0mrange\u001b[0m\u001b[0;34m(\u001b[0m\u001b[0mmax_y\u001b[0m\u001b[0;34m)\u001b[0m\u001b[0;34m,\u001b[0m \u001b[0mscores\u001b[0m\u001b[0;34m)\u001b[0m\u001b[0;34m.\u001b[0m\u001b[0mplt\u001b[0m\u001b[0;34m(\u001b[0m\u001b[0;34m)\u001b[0m \u001b[0;31m# plot\u001b[0m\u001b[0;34m\u001b[0m\u001b[0m\n\u001b[0m",
      "\u001b[0;31mAttributeError\u001b[0m: 'tuple' object has no attribute 'plt'"
     ]
    }
   ],
   "source": [
    "max_y = 10 # of wat dan ook\n",
    "scores = []\n",
    "for i in range(max_y): # loop over al de posities\n",
    "    avg_turnover = np.mean(turnovers(i)) # bereken alle turnovers met i als topsize en neem de mean\n",
    "    scores.append(avg_turnover)\n",
    "(range(max_y), scores).plt() # plot"
   ]
  },
  {
   "cell_type": "code",
   "execution_count": 64,
   "metadata": {},
   "outputs": [
    {
     "data": {
      "text/plain": [
       "3.5"
      ]
     },
     "execution_count": 64,
     "metadata": {},
     "output_type": "execute_result"
    }
   ],
   "source": [
    "np.mean([1, 4, 3, 6])"
   ]
  },
  {
   "cell_type": "code",
   "execution_count": 39,
   "metadata": {},
   "outputs": [],
   "source": [
    "def slicing(i):\n",
    "    cutoff = df_turnovertop1.iloc[:,0:i]\n",
    "    return cutoff\n",
    "\n",
    "def turnover(i):\n",
    "    cutoff = slicing(i)\n",
    "    turnco = cutoff.apply(set, axis = 1)\n",
    "    turnovers = {}\n",
    "    for year in range(turnco.index.min() + 1, turnco.index.max() + 1):\n",
    "        name_set, prior_name_set = turnco.loc[year], turnco.loc[year - 1]\n",
    "        turnovers[year] = len(name_set.difference(prior_name_set))\n",
    "    return pd.Series(turnovers)"
   ]
  },
  {
   "cell_type": "code",
   "execution_count": 106,
   "metadata": {},
   "outputs": [
    {
     "data": {
      "image/png": "[encoded data removed]",
      "text/plain": [
       "<Figure size 432x288 with 1 Axes>"
      ]
     },
     "metadata": {},
     "output_type": "display_data"
    }
   ],
   "source": [
    "max_y = 51  # of wat dan ook\n",
    "scores = []\n",
    "for i in range(1, max_y): # loop over al de posities\n",
    "    avg_turnover = np.mean(turnover(i)) # bereken alle turnovers met i als topsize en neem de mean\n",
    "    scores.append(avg_turnover)\n",
    "plt.rc('text', usetex=True)\n",
    "plt.rc('font', family='serif')\n",
    "plt.xlabel('Top list size')\n",
    "plt.ylabel('Turnover')\n",
    "plt.plot(range(1, max_y), scores, 'o') # plot\n",
    "plt.savefig('turnoverbias51.pdf')"
   ]
  },
  {
   "cell_type": "code",
   "execution_count": null,
   "metadata": {},
   "outputs": [],
   "source": []
  },
  {
   "cell_type": "code",
   "execution_count": 50,
   "metadata": {},
   "outputs": [
    {
     "ename": "AttributeError",
     "evalue": "'numpy.float64' object has no attribute 'difference'",
     "output_type": "error",
     "traceback": [
      "\u001b[0;31m---------------------------------------------------------------------------\u001b[0m",
      "\u001b[0;31mAttributeError\u001b[0m                            Traceback (most recent call last)",
      "\u001b[0;32m<ipython-input-50-98f2a296205b>\u001b[0m in \u001b[0;36m<module>\u001b[0;34m()\u001b[0m\n\u001b[1;32m      2\u001b[0m \u001b[0mscores\u001b[0m \u001b[0;34m=\u001b[0m \u001b[0;34m[\u001b[0m\u001b[0;34m]\u001b[0m\u001b[0;34m\u001b[0m\u001b[0m\n\u001b[1;32m      3\u001b[0m \u001b[0;32mfor\u001b[0m \u001b[0mi\u001b[0m \u001b[0;32min\u001b[0m \u001b[0mrange\u001b[0m\u001b[0;34m(\u001b[0m\u001b[0mmax_y\u001b[0m\u001b[0;34m)\u001b[0m\u001b[0;34m:\u001b[0m \u001b[0;31m# loop over al de posities\u001b[0m\u001b[0;34m\u001b[0m\u001b[0m\n\u001b[0;32m----> 4\u001b[0;31m     \u001b[0mavg_turnover\u001b[0m \u001b[0;34m=\u001b[0m \u001b[0mnp\u001b[0m\u001b[0;34m.\u001b[0m\u001b[0mmean\u001b[0m\u001b[0;34m(\u001b[0m\u001b[0mturnover\u001b[0m\u001b[0;34m(\u001b[0m\u001b[0mi\u001b[0m\u001b[0;34m)\u001b[0m\u001b[0;34m)\u001b[0m \u001b[0;31m# bereken alle turnovers met i als topsize en neem de mean\u001b[0m\u001b[0;34m\u001b[0m\u001b[0m\n\u001b[0m\u001b[1;32m      5\u001b[0m     \u001b[0mscores\u001b[0m\u001b[0;34m.\u001b[0m\u001b[0mappend\u001b[0m\u001b[0;34m(\u001b[0m\u001b[0mavg_turnover\u001b[0m\u001b[0;34m)\u001b[0m\u001b[0;34m\u001b[0m\u001b[0m\n\u001b[1;32m      6\u001b[0m \u001b[0;34m(\u001b[0m\u001b[0mrange\u001b[0m\u001b[0;34m(\u001b[0m\u001b[0mmax_y\u001b[0m\u001b[0;34m)\u001b[0m\u001b[0;34m,\u001b[0m \u001b[0mscores\u001b[0m\u001b[0;34m)\u001b[0m\u001b[0;34m.\u001b[0m\u001b[0mplt\u001b[0m\u001b[0;34m(\u001b[0m\u001b[0;34m)\u001b[0m \u001b[0;31m# plot\u001b[0m\u001b[0;34m\u001b[0m\u001b[0m\n",
      "\u001b[0;32m<ipython-input-39-e439ae85f6b7>\u001b[0m in \u001b[0;36mturnover\u001b[0;34m(i)\u001b[0m\n\u001b[1;32m      9\u001b[0m     \u001b[0;32mfor\u001b[0m \u001b[0myear\u001b[0m \u001b[0;32min\u001b[0m \u001b[0mrange\u001b[0m\u001b[0;34m(\u001b[0m\u001b[0mturnco\u001b[0m\u001b[0;34m.\u001b[0m\u001b[0mindex\u001b[0m\u001b[0;34m.\u001b[0m\u001b[0mmin\u001b[0m\u001b[0;34m(\u001b[0m\u001b[0;34m)\u001b[0m \u001b[0;34m+\u001b[0m \u001b[0;36m1\u001b[0m\u001b[0;34m,\u001b[0m \u001b[0mturnco\u001b[0m\u001b[0;34m.\u001b[0m\u001b[0mindex\u001b[0m\u001b[0;34m.\u001b[0m\u001b[0mmax\u001b[0m\u001b[0;34m(\u001b[0m\u001b[0;34m)\u001b[0m \u001b[0;34m+\u001b[0m \u001b[0;36m1\u001b[0m\u001b[0;34m)\u001b[0m\u001b[0;34m:\u001b[0m\u001b[0;34m\u001b[0m\u001b[0m\n\u001b[1;32m     10\u001b[0m         \u001b[0mname_set\u001b[0m\u001b[0;34m,\u001b[0m \u001b[0mprior_name_set\u001b[0m \u001b[0;34m=\u001b[0m \u001b[0mturnco\u001b[0m\u001b[0;34m.\u001b[0m\u001b[0mloc\u001b[0m\u001b[0;34m[\u001b[0m\u001b[0myear\u001b[0m\u001b[0;34m]\u001b[0m\u001b[0;34m,\u001b[0m \u001b[0mturnco\u001b[0m\u001b[0;34m.\u001b[0m\u001b[0mloc\u001b[0m\u001b[0;34m[\u001b[0m\u001b[0myear\u001b[0m \u001b[0;34m-\u001b[0m \u001b[0;36m1\u001b[0m\u001b[0;34m]\u001b[0m\u001b[0;34m\u001b[0m\u001b[0m\n\u001b[0;32m---> 11\u001b[0;31m         \u001b[0mturnovers\u001b[0m\u001b[0;34m[\u001b[0m\u001b[0myear\u001b[0m\u001b[0;34m]\u001b[0m \u001b[0;34m=\u001b[0m \u001b[0mlen\u001b[0m\u001b[0;34m(\u001b[0m\u001b[0mname_set\u001b[0m\u001b[0;34m.\u001b[0m\u001b[0mdifference\u001b[0m\u001b[0;34m(\u001b[0m\u001b[0mprior_name_set\u001b[0m\u001b[0;34m)\u001b[0m\u001b[0;34m)\u001b[0m\u001b[0;34m\u001b[0m\u001b[0m\n\u001b[0m\u001b[1;32m     12\u001b[0m     \u001b[0;32mreturn\u001b[0m \u001b[0mpd\u001b[0m\u001b[0;34m.\u001b[0m\u001b[0mSeries\u001b[0m\u001b[0;34m(\u001b[0m\u001b[0mturnovers\u001b[0m\u001b[0;34m)\u001b[0m\u001b[0;34m\u001b[0m\u001b[0m\n",
      "\u001b[0;31mAttributeError\u001b[0m: 'numpy.float64' object has no attribute 'difference'"
     ]
    }
   ],
   "source": [
    "max_y = 5 # of wat dan ook\n",
    "scores = []\n",
    "for i in range(max_y): # loop over al de posities\n",
    "    avg_turnover = np.mean(turnover(i)) # bereken alle turnovers met i als topsize en neem de mean\n",
    "    scores.append(avg_turnover)\n",
    "(range(max_y), scores).plt() # plot"
   ]
  },
  {
   "cell_type": "code",
   "execution_count": null,
   "metadata": {},
   "outputs": [],
   "source": []
  }
 ],
 "metadata": {
  "kernelspec": {
   "display_name": "Python 3",
   "language": "python",
   "name": "python3"
  },
  "language_info": {
   "codemirror_mode": {
    "name": "ipython",
    "version": 3
   },
   "file_extension": ".py",
   "mimetype": "text/x-python",
   "name": "python",
   "nbconvert_exporter": "python",
   "pygments_lexer": "ipython3",
   "version": "3.6.5"
  }
 },
 "nbformat": 4,
 "nbformat_minor": 2
}
